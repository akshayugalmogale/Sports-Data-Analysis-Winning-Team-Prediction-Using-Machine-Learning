{
  "cells": [
    {
      "cell_type": "markdown",
      "metadata": {
        "id": "view-in-github",
        "colab_type": "text"
      },
      "source": [
        "<a href=\"https://colab.research.google.com/github/akshayugalmogale/Sports-Data-Analysis-Winning-Team-Prediction-Using-Machine-Learning/blob/main/Score_Prediction_Using_Machine_Learning(Linear_Regression_Model).ipynb\" target=\"_parent\"><img src=\"https://colab.research.google.com/assets/colab-badge.svg\" alt=\"Open In Colab\"/></a>"
      ]
    },
    {
      "cell_type": "markdown",
      "metadata": {
        "id": "iuz8Z6AnwUrB"
      },
      "source": [
        "# **Importing the libraries**"
      ]
    },
    {
      "cell_type": "code",
      "execution_count": null,
      "metadata": {
        "id": "K9SNdKqTwYM3"
      },
      "outputs": [],
      "source": [
        "import pandas as pd\n",
        "import numpy as np\n",
        "from sklearn.model_selection import train_test_split\n",
        "from sklearn.linear_model import LinearRegression\n",
        "import pickle\n",
        "from sklearn.metrics import mean_absolute_error"
      ]
    },
    {
      "cell_type": "markdown",
      "metadata": {
        "id": "_Px1ldQvwvyB"
      },
      "source": [
        "# **Loading the data**"
      ]
    },
    {
      "cell_type": "code",
      "execution_count": null,
      "metadata": {
        "id": "j0cWtndiwxqn"
      },
      "outputs": [],
      "source": [
        "df = pd.read_csv(\"Data_with_features.csv\")"
      ]
    },
    {
      "cell_type": "code",
      "execution_count": null,
      "metadata": {
        "colab": {
          "base_uri": "https://localhost:8080/",
          "height": 217
        },
        "id": "01rJPMmUw2lv",
        "outputId": "c071e789-7bea-40be-b581-554c4dcad6f5"
      },
      "outputs": [
        {
          "data": {
            "text/html": [
              "<div>\n",
              "<style scoped>\n",
              "    .dataframe tbody tr th:only-of-type {\n",
              "        vertical-align: middle;\n",
              "    }\n",
              "\n",
              "    .dataframe tbody tr th {\n",
              "        vertical-align: top;\n",
              "    }\n",
              "\n",
              "    .dataframe thead th {\n",
              "        text-align: right;\n",
              "    }\n",
              "</style>\n",
              "<table border=\"1\" class=\"dataframe\">\n",
              "  <thead>\n",
              "    <tr style=\"text-align: right;\">\n",
              "      <th></th>\n",
              "      <th>id</th>\n",
              "      <th>innings</th>\n",
              "      <th>batting_team</th>\n",
              "      <th>bowling_team</th>\n",
              "      <th>overs</th>\n",
              "      <th>over</th>\n",
              "      <th>ball</th>\n",
              "      <th>total_runs</th>\n",
              "      <th>player_dismissed</th>\n",
              "      <th>total</th>\n",
              "      <th>total_score</th>\n",
              "      <th>prev_30_runs</th>\n",
              "      <th>prev_30_wickets</th>\n",
              "      <th>total_wickets</th>\n",
              "      <th>prev_30_dot_balls</th>\n",
              "      <th>prev_30_boundaries</th>\n",
              "    </tr>\n",
              "  </thead>\n",
              "  <tbody>\n",
              "    <tr>\n",
              "      <th>0</th>\n",
              "      <td>211028</td>\n",
              "      <td>1</td>\n",
              "      <td>England</td>\n",
              "      <td>Australia</td>\n",
              "      <td>0.1</td>\n",
              "      <td>0</td>\n",
              "      <td>1</td>\n",
              "      <td>0</td>\n",
              "      <td>0</td>\n",
              "      <td>179</td>\n",
              "      <td>0</td>\n",
              "      <td>0</td>\n",
              "      <td>0</td>\n",
              "      <td>0</td>\n",
              "      <td>1</td>\n",
              "      <td>0</td>\n",
              "    </tr>\n",
              "    <tr>\n",
              "      <th>1</th>\n",
              "      <td>211028</td>\n",
              "      <td>1</td>\n",
              "      <td>England</td>\n",
              "      <td>Australia</td>\n",
              "      <td>0.2</td>\n",
              "      <td>0</td>\n",
              "      <td>2</td>\n",
              "      <td>1</td>\n",
              "      <td>0</td>\n",
              "      <td>179</td>\n",
              "      <td>1</td>\n",
              "      <td>1</td>\n",
              "      <td>0</td>\n",
              "      <td>0</td>\n",
              "      <td>1</td>\n",
              "      <td>0</td>\n",
              "    </tr>\n",
              "    <tr>\n",
              "      <th>2</th>\n",
              "      <td>211028</td>\n",
              "      <td>1</td>\n",
              "      <td>England</td>\n",
              "      <td>Australia</td>\n",
              "      <td>0.3</td>\n",
              "      <td>0</td>\n",
              "      <td>3</td>\n",
              "      <td>0</td>\n",
              "      <td>0</td>\n",
              "      <td>179</td>\n",
              "      <td>1</td>\n",
              "      <td>1</td>\n",
              "      <td>0</td>\n",
              "      <td>0</td>\n",
              "      <td>2</td>\n",
              "      <td>0</td>\n",
              "    </tr>\n",
              "    <tr>\n",
              "      <th>3</th>\n",
              "      <td>211028</td>\n",
              "      <td>1</td>\n",
              "      <td>England</td>\n",
              "      <td>Australia</td>\n",
              "      <td>0.4</td>\n",
              "      <td>0</td>\n",
              "      <td>4</td>\n",
              "      <td>0</td>\n",
              "      <td>0</td>\n",
              "      <td>179</td>\n",
              "      <td>1</td>\n",
              "      <td>1</td>\n",
              "      <td>0</td>\n",
              "      <td>0</td>\n",
              "      <td>3</td>\n",
              "      <td>0</td>\n",
              "    </tr>\n",
              "    <tr>\n",
              "      <th>4</th>\n",
              "      <td>211028</td>\n",
              "      <td>1</td>\n",
              "      <td>England</td>\n",
              "      <td>Australia</td>\n",
              "      <td>0.5</td>\n",
              "      <td>0</td>\n",
              "      <td>5</td>\n",
              "      <td>0</td>\n",
              "      <td>0</td>\n",
              "      <td>179</td>\n",
              "      <td>1</td>\n",
              "      <td>1</td>\n",
              "      <td>0</td>\n",
              "      <td>0</td>\n",
              "      <td>4</td>\n",
              "      <td>0</td>\n",
              "    </tr>\n",
              "  </tbody>\n",
              "</table>\n",
              "</div>"
            ],
            "text/plain": [
              "       id  innings batting_team bowling_team  overs  over  ball  total_runs  \\\n",
              "0  211028        1      England    Australia    0.1     0     1           0   \n",
              "1  211028        1      England    Australia    0.2     0     2           1   \n",
              "2  211028        1      England    Australia    0.3     0     3           0   \n",
              "3  211028        1      England    Australia    0.4     0     4           0   \n",
              "4  211028        1      England    Australia    0.5     0     5           0   \n",
              "\n",
              "   player_dismissed  total  total_score  prev_30_runs  prev_30_wickets  \\\n",
              "0                 0    179            0             0                0   \n",
              "1                 0    179            1             1                0   \n",
              "2                 0    179            1             1                0   \n",
              "3                 0    179            1             1                0   \n",
              "4                 0    179            1             1                0   \n",
              "\n",
              "   total_wickets  prev_30_dot_balls  prev_30_boundaries  \n",
              "0              0                  1                   0  \n",
              "1              0                  1                   0  \n",
              "2              0                  2                   0  \n",
              "3              0                  3                   0  \n",
              "4              0                  4                   0  "
            ]
          },
          "execution_count": 21,
          "metadata": {},
          "output_type": "execute_result"
        }
      ],
      "source": [
        "df.head(5)"
      ]
    },
    {
      "cell_type": "code",
      "execution_count": null,
      "metadata": {
        "colab": {
          "base_uri": "https://localhost:8080/",
          "height": 443
        },
        "id": "SOQ1-G0cxuP_",
        "outputId": "8c4c23a3-2298-4397-f180-91b9986051c2"
      },
      "outputs": [
        {
          "data": {
            "text/html": [
              "<div>\n",
              "<style scoped>\n",
              "    .dataframe tbody tr th:only-of-type {\n",
              "        vertical-align: middle;\n",
              "    }\n",
              "\n",
              "    .dataframe tbody tr th {\n",
              "        vertical-align: top;\n",
              "    }\n",
              "\n",
              "    .dataframe thead th {\n",
              "        text-align: right;\n",
              "    }\n",
              "</style>\n",
              "<table border=\"1\" class=\"dataframe\">\n",
              "  <thead>\n",
              "    <tr style=\"text-align: right;\">\n",
              "      <th></th>\n",
              "      <th>id</th>\n",
              "      <th>innings</th>\n",
              "      <th>overs</th>\n",
              "      <th>over</th>\n",
              "      <th>ball</th>\n",
              "      <th>total_runs</th>\n",
              "      <th>player_dismissed</th>\n",
              "      <th>total</th>\n",
              "      <th>total_score</th>\n",
              "      <th>prev_30_runs</th>\n",
              "      <th>...</th>\n",
              "      <th>batting_team_West Indies</th>\n",
              "      <th>bowling_team_Australia</th>\n",
              "      <th>bowling_team_Bangladesh</th>\n",
              "      <th>bowling_team_England</th>\n",
              "      <th>bowling_team_India</th>\n",
              "      <th>bowling_team_New Zealand</th>\n",
              "      <th>bowling_team_Pakistan</th>\n",
              "      <th>bowling_team_South Africa</th>\n",
              "      <th>bowling_team_Sri Lanka</th>\n",
              "      <th>bowling_team_West Indies</th>\n",
              "    </tr>\n",
              "  </thead>\n",
              "  <tbody>\n",
              "    <tr>\n",
              "      <th>0</th>\n",
              "      <td>211028</td>\n",
              "      <td>1</td>\n",
              "      <td>0.1</td>\n",
              "      <td>0</td>\n",
              "      <td>1</td>\n",
              "      <td>0</td>\n",
              "      <td>0</td>\n",
              "      <td>179</td>\n",
              "      <td>0</td>\n",
              "      <td>0</td>\n",
              "      <td>...</td>\n",
              "      <td>0</td>\n",
              "      <td>1</td>\n",
              "      <td>0</td>\n",
              "      <td>0</td>\n",
              "      <td>0</td>\n",
              "      <td>0</td>\n",
              "      <td>0</td>\n",
              "      <td>0</td>\n",
              "      <td>0</td>\n",
              "      <td>0</td>\n",
              "    </tr>\n",
              "    <tr>\n",
              "      <th>1</th>\n",
              "      <td>211028</td>\n",
              "      <td>1</td>\n",
              "      <td>0.2</td>\n",
              "      <td>0</td>\n",
              "      <td>2</td>\n",
              "      <td>1</td>\n",
              "      <td>0</td>\n",
              "      <td>179</td>\n",
              "      <td>1</td>\n",
              "      <td>1</td>\n",
              "      <td>...</td>\n",
              "      <td>0</td>\n",
              "      <td>1</td>\n",
              "      <td>0</td>\n",
              "      <td>0</td>\n",
              "      <td>0</td>\n",
              "      <td>0</td>\n",
              "      <td>0</td>\n",
              "      <td>0</td>\n",
              "      <td>0</td>\n",
              "      <td>0</td>\n",
              "    </tr>\n",
              "    <tr>\n",
              "      <th>2</th>\n",
              "      <td>211028</td>\n",
              "      <td>1</td>\n",
              "      <td>0.3</td>\n",
              "      <td>0</td>\n",
              "      <td>3</td>\n",
              "      <td>0</td>\n",
              "      <td>0</td>\n",
              "      <td>179</td>\n",
              "      <td>1</td>\n",
              "      <td>1</td>\n",
              "      <td>...</td>\n",
              "      <td>0</td>\n",
              "      <td>1</td>\n",
              "      <td>0</td>\n",
              "      <td>0</td>\n",
              "      <td>0</td>\n",
              "      <td>0</td>\n",
              "      <td>0</td>\n",
              "      <td>0</td>\n",
              "      <td>0</td>\n",
              "      <td>0</td>\n",
              "    </tr>\n",
              "    <tr>\n",
              "      <th>3</th>\n",
              "      <td>211028</td>\n",
              "      <td>1</td>\n",
              "      <td>0.4</td>\n",
              "      <td>0</td>\n",
              "      <td>4</td>\n",
              "      <td>0</td>\n",
              "      <td>0</td>\n",
              "      <td>179</td>\n",
              "      <td>1</td>\n",
              "      <td>1</td>\n",
              "      <td>...</td>\n",
              "      <td>0</td>\n",
              "      <td>1</td>\n",
              "      <td>0</td>\n",
              "      <td>0</td>\n",
              "      <td>0</td>\n",
              "      <td>0</td>\n",
              "      <td>0</td>\n",
              "      <td>0</td>\n",
              "      <td>0</td>\n",
              "      <td>0</td>\n",
              "    </tr>\n",
              "    <tr>\n",
              "      <th>4</th>\n",
              "      <td>211028</td>\n",
              "      <td>1</td>\n",
              "      <td>0.5</td>\n",
              "      <td>0</td>\n",
              "      <td>5</td>\n",
              "      <td>0</td>\n",
              "      <td>0</td>\n",
              "      <td>179</td>\n",
              "      <td>1</td>\n",
              "      <td>1</td>\n",
              "      <td>...</td>\n",
              "      <td>0</td>\n",
              "      <td>1</td>\n",
              "      <td>0</td>\n",
              "      <td>0</td>\n",
              "      <td>0</td>\n",
              "      <td>0</td>\n",
              "      <td>0</td>\n",
              "      <td>0</td>\n",
              "      <td>0</td>\n",
              "      <td>0</td>\n",
              "    </tr>\n",
              "    <tr>\n",
              "      <th>...</th>\n",
              "      <td>...</td>\n",
              "      <td>...</td>\n",
              "      <td>...</td>\n",
              "      <td>...</td>\n",
              "      <td>...</td>\n",
              "      <td>...</td>\n",
              "      <td>...</td>\n",
              "      <td>...</td>\n",
              "      <td>...</td>\n",
              "      <td>...</td>\n",
              "      <td>...</td>\n",
              "      <td>...</td>\n",
              "      <td>...</td>\n",
              "      <td>...</td>\n",
              "      <td>...</td>\n",
              "      <td>...</td>\n",
              "      <td>...</td>\n",
              "      <td>...</td>\n",
              "      <td>...</td>\n",
              "      <td>...</td>\n",
              "      <td>...</td>\n",
              "    </tr>\n",
              "    <tr>\n",
              "      <th>119577</th>\n",
              "      <td>1237124</td>\n",
              "      <td>2</td>\n",
              "      <td>17.1</td>\n",
              "      <td>17</td>\n",
              "      <td>1</td>\n",
              "      <td>1</td>\n",
              "      <td>0</td>\n",
              "      <td>192</td>\n",
              "      <td>180</td>\n",
              "      <td>52</td>\n",
              "      <td>...</td>\n",
              "      <td>0</td>\n",
              "      <td>0</td>\n",
              "      <td>0</td>\n",
              "      <td>0</td>\n",
              "      <td>0</td>\n",
              "      <td>0</td>\n",
              "      <td>0</td>\n",
              "      <td>1</td>\n",
              "      <td>0</td>\n",
              "      <td>0</td>\n",
              "    </tr>\n",
              "    <tr>\n",
              "      <th>119578</th>\n",
              "      <td>1237124</td>\n",
              "      <td>2</td>\n",
              "      <td>17.2</td>\n",
              "      <td>17</td>\n",
              "      <td>2</td>\n",
              "      <td>6</td>\n",
              "      <td>0</td>\n",
              "      <td>192</td>\n",
              "      <td>186</td>\n",
              "      <td>58</td>\n",
              "      <td>...</td>\n",
              "      <td>0</td>\n",
              "      <td>0</td>\n",
              "      <td>0</td>\n",
              "      <td>0</td>\n",
              "      <td>0</td>\n",
              "      <td>0</td>\n",
              "      <td>0</td>\n",
              "      <td>1</td>\n",
              "      <td>0</td>\n",
              "      <td>0</td>\n",
              "    </tr>\n",
              "    <tr>\n",
              "      <th>119579</th>\n",
              "      <td>1237124</td>\n",
              "      <td>2</td>\n",
              "      <td>17.3</td>\n",
              "      <td>17</td>\n",
              "      <td>3</td>\n",
              "      <td>1</td>\n",
              "      <td>0</td>\n",
              "      <td>192</td>\n",
              "      <td>187</td>\n",
              "      <td>58</td>\n",
              "      <td>...</td>\n",
              "      <td>0</td>\n",
              "      <td>0</td>\n",
              "      <td>0</td>\n",
              "      <td>0</td>\n",
              "      <td>0</td>\n",
              "      <td>0</td>\n",
              "      <td>0</td>\n",
              "      <td>1</td>\n",
              "      <td>0</td>\n",
              "      <td>0</td>\n",
              "    </tr>\n",
              "    <tr>\n",
              "      <th>119580</th>\n",
              "      <td>1237124</td>\n",
              "      <td>2</td>\n",
              "      <td>17.4</td>\n",
              "      <td>17</td>\n",
              "      <td>4</td>\n",
              "      <td>4</td>\n",
              "      <td>0</td>\n",
              "      <td>192</td>\n",
              "      <td>191</td>\n",
              "      <td>61</td>\n",
              "      <td>...</td>\n",
              "      <td>0</td>\n",
              "      <td>0</td>\n",
              "      <td>0</td>\n",
              "      <td>0</td>\n",
              "      <td>0</td>\n",
              "      <td>0</td>\n",
              "      <td>0</td>\n",
              "      <td>1</td>\n",
              "      <td>0</td>\n",
              "      <td>0</td>\n",
              "    </tr>\n",
              "    <tr>\n",
              "      <th>119581</th>\n",
              "      <td>1237124</td>\n",
              "      <td>2</td>\n",
              "      <td>17.5</td>\n",
              "      <td>17</td>\n",
              "      <td>5</td>\n",
              "      <td>1</td>\n",
              "      <td>0</td>\n",
              "      <td>192</td>\n",
              "      <td>192</td>\n",
              "      <td>62</td>\n",
              "      <td>...</td>\n",
              "      <td>0</td>\n",
              "      <td>0</td>\n",
              "      <td>0</td>\n",
              "      <td>0</td>\n",
              "      <td>0</td>\n",
              "      <td>0</td>\n",
              "      <td>0</td>\n",
              "      <td>1</td>\n",
              "      <td>0</td>\n",
              "      <td>0</td>\n",
              "    </tr>\n",
              "  </tbody>\n",
              "</table>\n",
              "<p>119582 rows × 32 columns</p>\n",
              "</div>"
            ],
            "text/plain": [
              "             id  innings  overs  over  ball  total_runs  player_dismissed  \\\n",
              "0        211028        1    0.1     0     1           0                 0   \n",
              "1        211028        1    0.2     0     2           1                 0   \n",
              "2        211028        1    0.3     0     3           0                 0   \n",
              "3        211028        1    0.4     0     4           0                 0   \n",
              "4        211028        1    0.5     0     5           0                 0   \n",
              "...         ...      ...    ...   ...   ...         ...               ...   \n",
              "119577  1237124        2   17.1    17     1           1                 0   \n",
              "119578  1237124        2   17.2    17     2           6                 0   \n",
              "119579  1237124        2   17.3    17     3           1                 0   \n",
              "119580  1237124        2   17.4    17     4           4                 0   \n",
              "119581  1237124        2   17.5    17     5           1                 0   \n",
              "\n",
              "        total  total_score  prev_30_runs  ...  batting_team_West Indies  \\\n",
              "0         179            0             0  ...                         0   \n",
              "1         179            1             1  ...                         0   \n",
              "2         179            1             1  ...                         0   \n",
              "3         179            1             1  ...                         0   \n",
              "4         179            1             1  ...                         0   \n",
              "...       ...          ...           ...  ...                       ...   \n",
              "119577    192          180            52  ...                         0   \n",
              "119578    192          186            58  ...                         0   \n",
              "119579    192          187            58  ...                         0   \n",
              "119580    192          191            61  ...                         0   \n",
              "119581    192          192            62  ...                         0   \n",
              "\n",
              "        bowling_team_Australia  bowling_team_Bangladesh  bowling_team_England  \\\n",
              "0                            1                        0                     0   \n",
              "1                            1                        0                     0   \n",
              "2                            1                        0                     0   \n",
              "3                            1                        0                     0   \n",
              "4                            1                        0                     0   \n",
              "...                        ...                      ...                   ...   \n",
              "119577                       0                        0                     0   \n",
              "119578                       0                        0                     0   \n",
              "119579                       0                        0                     0   \n",
              "119580                       0                        0                     0   \n",
              "119581                       0                        0                     0   \n",
              "\n",
              "        bowling_team_India  bowling_team_New Zealand  bowling_team_Pakistan  \\\n",
              "0                        0                         0                      0   \n",
              "1                        0                         0                      0   \n",
              "2                        0                         0                      0   \n",
              "3                        0                         0                      0   \n",
              "4                        0                         0                      0   \n",
              "...                    ...                       ...                    ...   \n",
              "119577                   0                         0                      0   \n",
              "119578                   0                         0                      0   \n",
              "119579                   0                         0                      0   \n",
              "119580                   0                         0                      0   \n",
              "119581                   0                         0                      0   \n",
              "\n",
              "        bowling_team_South Africa  bowling_team_Sri Lanka  \\\n",
              "0                               0                       0   \n",
              "1                               0                       0   \n",
              "2                               0                       0   \n",
              "3                               0                       0   \n",
              "4                               0                       0   \n",
              "...                           ...                     ...   \n",
              "119577                          1                       0   \n",
              "119578                          1                       0   \n",
              "119579                          1                       0   \n",
              "119580                          1                       0   \n",
              "119581                          1                       0   \n",
              "\n",
              "        bowling_team_West Indies  \n",
              "0                              0  \n",
              "1                              0  \n",
              "2                              0  \n",
              "3                              0  \n",
              "4                              0  \n",
              "...                          ...  \n",
              "119577                         0  \n",
              "119578                         0  \n",
              "119579                         0  \n",
              "119580                         0  \n",
              "119581                         0  \n",
              "\n",
              "[119582 rows x 32 columns]"
            ]
          },
          "execution_count": 22,
          "metadata": {},
          "output_type": "execute_result"
        }
      ],
      "source": [
        "pd.get_dummies(data=df, columns=['batting_team', 'bowling_team'])"
      ]
    },
    {
      "cell_type": "code",
      "execution_count": null,
      "metadata": {
        "id": "ewA42mFox7Gx"
      },
      "outputs": [],
      "source": [
        "df=pd.get_dummies(data=df, columns=['batting_team', 'bowling_team'])"
      ]
    },
    {
      "cell_type": "code",
      "execution_count": null,
      "metadata": {
        "colab": {
          "base_uri": "https://localhost:8080/"
        },
        "id": "il-v5unYydJQ",
        "outputId": "14352a64-d10c-4e16-8018-f3d8829165b2"
      },
      "outputs": [
        {
          "data": {
            "text/plain": [
              "Index(['id', 'innings', 'overs', 'over', 'ball', 'total_runs',\n",
              "       'player_dismissed', 'total', 'total_score', 'prev_30_runs',\n",
              "       'prev_30_wickets', 'total_wickets', 'prev_30_dot_balls',\n",
              "       'prev_30_boundaries', 'batting_team_Australia',\n",
              "       'batting_team_Bangladesh', 'batting_team_England', 'batting_team_India',\n",
              "       'batting_team_New Zealand', 'batting_team_Pakistan',\n",
              "       'batting_team_South Africa', 'batting_team_Sri Lanka',\n",
              "       'batting_team_West Indies', 'bowling_team_Australia',\n",
              "       'bowling_team_Bangladesh', 'bowling_team_England', 'bowling_team_India',\n",
              "       'bowling_team_New Zealand', 'bowling_team_Pakistan',\n",
              "       'bowling_team_South Africa', 'bowling_team_Sri Lanka',\n",
              "       'bowling_team_West Indies'],\n",
              "      dtype='object')"
            ]
          },
          "execution_count": 24,
          "metadata": {},
          "output_type": "execute_result"
        }
      ],
      "source": [
        "df.columns"
      ]
    },
    {
      "cell_type": "code",
      "execution_count": null,
      "metadata": {
        "id": "0KDaNfVO2pcv"
      },
      "outputs": [],
      "source": [
        "df=df[['id','batting_team_Australia','batting_team_Bangladesh', 'batting_team_England', 'batting_team_India','batting_team_New Zealand','batting_team_Pakistan', \n",
        "       'batting_team_South Africa', 'batting_team_Sri Lanka','batting_team_West Indies','bowling_team_Australia', 'bowling_team_Bangladesh', 'bowling_team_England',\n",
        "        'bowling_team_India', 'bowling_team_New Zealand', 'bowling_team_Pakistan','bowling_team_South Africa', 'bowling_team_Sri Lanka','bowling_team_West Indies',\n",
        "            'overs','total_score','total_wickets','prev_30_runs','prev_30_wickets','prev_30_dot_balls','prev_30_boundaries','total']]"
      ]
    },
    {
      "cell_type": "markdown",
      "metadata": {
        "id": "KR4BFlcRxj4I"
      },
      "source": [
        "# **train_test_split**"
      ]
    },
    {
      "cell_type": "code",
      "execution_count": null,
      "metadata": {
        "id": "vxcniQYIxB34"
      },
      "outputs": [],
      "source": [
        "X = df.drop(labels=['total','id'], axis=1)\n",
        "y = df['total'].values"
      ]
    },
    {
      "cell_type": "code",
      "execution_count": null,
      "metadata": {
        "id": "25wUA2zNyO4S"
      },
      "outputs": [],
      "source": [
        "# split into train test sets\n",
        "X_train, X_test, y_train, y_test = train_test_split(X, y, test_size=0.25,random_state=42,stratify=y)"
      ]
    },
    {
      "cell_type": "code",
      "execution_count": null,
      "metadata": {
        "id": "y8WZkR8SyUe3"
      },
      "outputs": [],
      "source": [
        "X_train=X_train.values\n",
        "X_test=X_test.values\n",
        "X_train=np.asarray(X_train).astype(np.float32)\n",
        "X_test=np.asarray(X_test).astype(np.float32)"
      ]
    },
    {
      "cell_type": "code",
      "execution_count": null,
      "metadata": {
        "colab": {
          "base_uri": "https://localhost:8080/"
        },
        "id": "yhmc1XY4yV-_",
        "outputId": "c26a4fc4-3205-41e4-905e-d604fb97e66e"
      },
      "outputs": [
        {
          "name": "stdout",
          "output_type": "stream",
          "text": [
            "(89686, 25) (29896, 25) (89686,) (29896,)\n"
          ]
        }
      ],
      "source": [
        "print(X_train.shape, X_test.shape, y_train.shape, y_test.shape)"
      ]
    },
    {
      "cell_type": "markdown",
      "metadata": {
        "id": "rq1Dmiuezoi3"
      },
      "source": [
        "# **Training LR model**"
      ]
    },
    {
      "cell_type": "code",
      "execution_count": null,
      "metadata": {
        "colab": {
          "base_uri": "https://localhost:8080/"
        },
        "id": "N7a-D84VyX53",
        "outputId": "45b23648-2b41-42f7-d735-58df6c6bb076"
      },
      "outputs": [
        {
          "data": {
            "text/plain": [
              "LinearRegression()"
            ]
          },
          "execution_count": 30,
          "metadata": {},
          "output_type": "execute_result"
        }
      ],
      "source": [
        "LR_model = LinearRegression()\n",
        "LR_model.fit(X_train,y_train)"
      ]
    },
    {
      "cell_type": "code",
      "execution_count": null,
      "metadata": {
        "id": "t7dCTe9oz92Z"
      },
      "outputs": [],
      "source": [
        "# Creating a pickle file for the classifier\n",
        "filename = 'lr-model.pkl'\n",
        "pickle.dump(LR_model, open(filename, 'wb'))"
      ]
    },
    {
      "cell_type": "code",
      "execution_count": null,
      "metadata": {
        "colab": {
          "base_uri": "https://localhost:8080/"
        },
        "id": "QHWNwV5t0H0p",
        "outputId": "5365333a-d45b-4a3c-858a-7b1b12f5f507"
      },
      "outputs": [
        {
          "data": {
            "text/plain": [
              "18.333364928952186"
            ]
          },
          "execution_count": 32,
          "metadata": {},
          "output_type": "execute_result"
        }
      ],
      "source": [
        "prediction=LR_model.predict(X_test)\n",
        "mean_absolute_error (y_test, prediction)"
      ]
    },
    {
      "cell_type": "code",
      "execution_count": null,
      "metadata": {
        "id": "mlQqCGIi0dWJ"
      },
      "outputs": [],
      "source": [
        "# Function to predict scores :\n",
        "\n",
        "def score_prediction(Bat_Team,Bowl_Team,overs,total_score,total_wickets,prev_runs_30,prev_wickets_30,prev_30_dot_balls,prev_30_boundaries):\n",
        "\n",
        "    temp_array = list()\n",
        "\n",
        "    if Bat_Team == 'AUS':\n",
        "        temp_array = temp_array + [1,0,0,0,0,0,0,0,0]\n",
        "    elif Bat_Team == 'BAN':\n",
        "        temp_array = temp_array + [0,1,0,0,0,0,0,0,0]\n",
        "    elif Bat_Team == 'ENG':\n",
        "        temp_array = temp_array + [0,0,1,0,0,0,0,0,0]\n",
        "    elif Bat_Team == 'IND':\n",
        "        temp_array = temp_array + [0,0,0,1,0,0,0,0,0]\n",
        "    elif Bat_Team == 'NZ':\n",
        "        temp_array = temp_array + [0,0,0,0,1,0,0,0,0]\n",
        "    elif Bat_Team == 'PAK':\n",
        "        temp_array = temp_array + [0,0,0,0,0,1,0,0,0]\n",
        "    elif Bat_Team == 'SA':\n",
        "        temp_array = temp_array + [0,0,0,0,0,0,1,0,0]\n",
        "    elif Bat_Team == 'SL':\n",
        "        temp_array = temp_array + [0,0,0,0,0,0,0,1,0]\n",
        "    elif Bat_Team == 'WI':\n",
        "        temp_array = temp_array + [0,0,0,0,0,0,0,0,1]\n",
        "\n",
        "    if Bowl_Team == 'AUS':\n",
        "        temp_array = temp_array + [1,0,0,0,0,0,0,0,0]\n",
        "    elif Bowl_Team == 'BAN':\n",
        "        temp_array = temp_array + [0,1,0,0,0,0,0,0,0]\n",
        "    elif Bowl_Team == 'ENG':\n",
        "        temp_array = temp_array + [0,0,1,0,0,0,0,0,0]\n",
        "    elif Bowl_Team == 'IND':\n",
        "        temp_array = temp_array + [0,0,0,1,0,0,0,0,0]\n",
        "    elif Bowl_Team == 'NZ':\n",
        "        temp_array = temp_array + [0,0,0,0,1,0,0,0,0]\n",
        "    elif Bowl_Team == 'PAK':\n",
        "        temp_array = temp_array + [0,0,0,0,0,1,0,0,0]\n",
        "    elif Bowl_Team == 'SA':\n",
        "        temp_array = temp_array + [0,0,0,0,0,0,1,0,0]\n",
        "    elif Bowl_Team == 'SL':\n",
        "        temp_array = temp_array + [0,0,0,0,0,0,0,1,0]\n",
        "    elif Bowl_Team == 'WI':\n",
        "        temp_array = temp_array + [0,0,0,0,0,0,0,0,1]\n",
        "\n",
        "    temp_array = temp_array + [overs,total_score,total_wickets,prev_runs_30,prev_wickets_30,prev_30_dot_balls,prev_30_boundaries]\n",
        "    data = np.array([temp_array])\n",
        "    my_prediction = int(LR_model.predict(data))\n",
        "\n",
        "    print('Predicted score: ',my_prediction)\n",
        "    print('Predicted score range: ',my_prediction - 18, 'to' , my_prediction + 18)"
      ]
    },
    {
      "cell_type": "code",
      "execution_count": null,
      "metadata": {
        "colab": {
          "base_uri": "https://localhost:8080/"
        },
        "id": "8QM6LqZI2R_U",
        "outputId": "4a0e8c96-c037-4d44-8a39-2361f63c9aa4"
      },
      "outputs": [
        {
          "name": "stdout",
          "output_type": "stream",
          "text": [
            "Predicted score:  145\n",
            "Predicted score range:  127 to 163\n"
          ]
        }
      ],
      "source": [
        "Bat_Team = 'AUS' \n",
        "\n",
        "Bowl_Team = 'IND' \n",
        "\n",
        "overs = 10.3\n",
        "\n",
        "total_score = 67 # current score\n",
        "\n",
        "total_wickets = 2 # current wicket \n",
        "\n",
        "prev_runs_30 = 37 # runs in last 30 balls\n",
        "\n",
        "prev_wickets_30 = 1 # wickets in last 30 balls\n",
        "\n",
        "prev_30_dot_balls = 8 # dots in last 30 balls\n",
        "\n",
        "prev_30_boundaries = 5 # boundaries in last 30 balls\n",
        "\n",
        "score_prediction(Bat_Team,Bowl_Team,overs,total_score,total_wickets,\n",
        "                         prev_runs_30,prev_wickets_30,prev_30_dot_balls,prev_30_boundaries)"
      ]
    },
    {
      "cell_type": "code",
      "execution_count": null,
      "metadata": {
        "id": "lbliSEveVyNG"
      },
      "outputs": [],
      "source": []
    }
  ],
  "metadata": {
    "colab": {
      "provenance": [],
      "include_colab_link": true
    },
    "kernelspec": {
      "display_name": "Python 3",
      "language": "python",
      "name": "python3"
    },
    "language_info": {
      "codemirror_mode": {
        "name": "ipython",
        "version": 3
      },
      "file_extension": ".py",
      "mimetype": "text/x-python",
      "name": "python",
      "nbconvert_exporter": "python",
      "pygments_lexer": "ipython3",
      "version": "3.7.6"
    }
  },
  "nbformat": 4,
  "nbformat_minor": 0
}