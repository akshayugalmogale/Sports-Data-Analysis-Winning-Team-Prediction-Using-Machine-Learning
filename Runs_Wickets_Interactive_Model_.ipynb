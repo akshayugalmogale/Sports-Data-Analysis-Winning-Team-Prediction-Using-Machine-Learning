{
  "nbformat": 4,
  "nbformat_minor": 0,
  "metadata": {
    "colab": {
      "provenance": [],
      "collapsed_sections": [],
      "include_colab_link": true
    },
    "kernelspec": {
      "display_name": "Python 3",
      "language": "python",
      "name": "python3"
    },
    "language_info": {
      "codemirror_mode": {
        "name": "ipython",
        "version": 3
      },
      "file_extension": ".py",
      "mimetype": "text/x-python",
      "name": "python",
      "nbconvert_exporter": "python",
      "pygments_lexer": "ipython3",
      "version": "3.7.6"
    },
    "widgets": {
      "application/vnd.jupyter.widget-state+json": {
        "ae737e75143d4877815e7c845495b3ab": {
          "model_module": "@jupyter-widgets/controls",
          "model_name": "VBoxModel",
          "state": {
            "_view_name": "VBoxView",
            "_dom_classes": [
              "widget-interact"
            ],
            "_model_name": "VBoxModel",
            "_view_module": "@jupyter-widgets/controls",
            "_model_module_version": "1.5.0",
            "_view_count": null,
            "_view_module_version": "1.5.0",
            "box_style": "",
            "layout": "IPY_MODEL_119cd1be330e4855835cf31f2559dba2",
            "_model_module": "@jupyter-widgets/controls",
            "children": [
              "IPY_MODEL_ae5f0516e9674ce8850ddde11c5eaadb",
              "IPY_MODEL_723da97f7a534268aa5cb7e8cd87ab4f",
              "IPY_MODEL_43f1667567064e179324b122d8adce27",
              "IPY_MODEL_5b2429879c1f4d489efa04e905b49f39"
            ]
          },
          "model_module_version": "1.5.0"
        },
        "119cd1be330e4855835cf31f2559dba2": {
          "model_module": "@jupyter-widgets/base",
          "model_name": "LayoutModel",
          "state": {
            "_view_name": "LayoutView",
            "grid_template_rows": null,
            "right": null,
            "justify_content": null,
            "_view_module": "@jupyter-widgets/base",
            "overflow": null,
            "_model_module_version": "1.2.0",
            "_view_count": null,
            "flex_flow": null,
            "width": null,
            "min_width": null,
            "border": null,
            "align_items": null,
            "bottom": null,
            "_model_module": "@jupyter-widgets/base",
            "top": null,
            "grid_column": null,
            "overflow_y": null,
            "overflow_x": null,
            "grid_auto_flow": null,
            "grid_area": null,
            "grid_template_columns": null,
            "flex": null,
            "_model_name": "LayoutModel",
            "justify_items": null,
            "grid_row": null,
            "max_height": null,
            "align_content": null,
            "visibility": null,
            "align_self": null,
            "height": null,
            "min_height": null,
            "padding": null,
            "grid_auto_rows": null,
            "grid_gap": null,
            "max_width": null,
            "order": null,
            "_view_module_version": "1.2.0",
            "grid_template_areas": null,
            "object_position": null,
            "object_fit": null,
            "grid_auto_columns": null,
            "margin": null,
            "display": null,
            "left": null
          },
          "model_module_version": "1.2.0"
        },
        "ae5f0516e9674ce8850ddde11c5eaadb": {
          "model_module": "@jupyter-widgets/controls",
          "model_name": "IntSliderModel",
          "state": {
            "_view_name": "IntSliderView",
            "style": "IPY_MODEL_0cb55fbd62cd40519538221ad9b2d21a",
            "_dom_classes": [],
            "description": "current_wks",
            "step": 1,
            "_model_name": "IntSliderModel",
            "orientation": "horizontal",
            "max": 10,
            "_view_module": "@jupyter-widgets/controls",
            "_model_module_version": "1.5.0",
            "value": 4,
            "_view_count": null,
            "disabled": false,
            "_view_module_version": "1.5.0",
            "min": 1,
            "continuous_update": true,
            "readout_format": "d",
            "description_tooltip": null,
            "readout": true,
            "_model_module": "@jupyter-widgets/controls",
            "layout": "IPY_MODEL_f1b84dd40796445c91bde550d12ed98d"
          },
          "model_module_version": "1.5.0"
        },
        "723da97f7a534268aa5cb7e8cd87ab4f": {
          "model_module": "@jupyter-widgets/controls",
          "model_name": "IntSliderModel",
          "state": {
            "_view_name": "IntSliderView",
            "style": "IPY_MODEL_77682e812e9246cd8572f0b2ff46d051",
            "_dom_classes": [],
            "description": "at_overs",
            "step": 1,
            "_model_name": "IntSliderModel",
            "orientation": "horizontal",
            "max": 20,
            "_view_module": "@jupyter-widgets/controls",
            "_model_module_version": "1.5.0",
            "value": 10,
            "_view_count": null,
            "disabled": false,
            "_view_module_version": "1.5.0",
            "min": 10,
            "continuous_update": true,
            "readout_format": "d",
            "description_tooltip": null,
            "readout": true,
            "_model_module": "@jupyter-widgets/controls",
            "layout": "IPY_MODEL_d6cfd055542c4a9c8e63a2f4cc952ed1"
          },
          "model_module_version": "1.5.0"
        },
        "43f1667567064e179324b122d8adce27": {
          "model_module": "@jupyter-widgets/controls",
          "model_name": "IntSliderModel",
          "state": {
            "_view_name": "IntSliderView",
            "style": "IPY_MODEL_1481beb21d8440a9aca65a47f7c93eec",
            "_dom_classes": [],
            "description": "target_score",
            "step": 1,
            "_model_name": "IntSliderModel",
            "orientation": "horizontal",
            "max": 250,
            "_view_module": "@jupyter-widgets/controls",
            "_model_module_version": "1.5.0",
            "value": 167,
            "_view_count": null,
            "disabled": false,
            "_view_module_version": "1.5.0",
            "min": 0,
            "continuous_update": true,
            "readout_format": "d",
            "description_tooltip": null,
            "readout": true,
            "_model_module": "@jupyter-widgets/controls",
            "layout": "IPY_MODEL_b7bce62414d6474b8fd3ee674b3f7ac1"
          },
          "model_module_version": "1.5.0"
        },
        "5b2429879c1f4d489efa04e905b49f39": {
          "model_module": "@jupyter-widgets/output",
          "model_name": "OutputModel",
          "state": {
            "_view_name": "OutputView",
            "msg_id": "",
            "_dom_classes": [],
            "_model_name": "OutputModel",
            "outputs": [
              {
                "output_type": "display_data",
                "metadata": {
                  "tags": [],
                  "needs_background": "light"
                },
                "image/png": "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\n",
                "text/plain": "<Figure size 1152x432 with 1 Axes>"
              }
            ],
            "_view_module": "@jupyter-widgets/output",
            "_model_module_version": "1.0.0",
            "_view_count": null,
            "_view_module_version": "1.0.0",
            "layout": "IPY_MODEL_823662c69a36457283b4080a4eb0bf6b",
            "_model_module": "@jupyter-widgets/output"
          },
          "model_module_version": "1.0.0"
        },
        "0cb55fbd62cd40519538221ad9b2d21a": {
          "model_module": "@jupyter-widgets/controls",
          "model_name": "SliderStyleModel",
          "state": {
            "_view_name": "StyleView",
            "handle_color": null,
            "_model_name": "SliderStyleModel",
            "description_width": "",
            "_view_module": "@jupyter-widgets/base",
            "_model_module_version": "1.5.0",
            "_view_count": null,
            "_view_module_version": "1.2.0",
            "_model_module": "@jupyter-widgets/controls"
          },
          "model_module_version": "1.5.0"
        },
        "f1b84dd40796445c91bde550d12ed98d": {
          "model_module": "@jupyter-widgets/base",
          "model_name": "LayoutModel",
          "state": {
            "_view_name": "LayoutView",
            "grid_template_rows": null,
            "right": null,
            "justify_content": null,
            "_view_module": "@jupyter-widgets/base",
            "overflow": null,
            "_model_module_version": "1.2.0",
            "_view_count": null,
            "flex_flow": null,
            "width": null,
            "min_width": null,
            "border": null,
            "align_items": null,
            "bottom": null,
            "_model_module": "@jupyter-widgets/base",
            "top": null,
            "grid_column": null,
            "overflow_y": null,
            "overflow_x": null,
            "grid_auto_flow": null,
            "grid_area": null,
            "grid_template_columns": null,
            "flex": null,
            "_model_name": "LayoutModel",
            "justify_items": null,
            "grid_row": null,
            "max_height": null,
            "align_content": null,
            "visibility": null,
            "align_self": null,
            "height": null,
            "min_height": null,
            "padding": null,
            "grid_auto_rows": null,
            "grid_gap": null,
            "max_width": null,
            "order": null,
            "_view_module_version": "1.2.0",
            "grid_template_areas": null,
            "object_position": null,
            "object_fit": null,
            "grid_auto_columns": null,
            "margin": null,
            "display": null,
            "left": null
          },
          "model_module_version": "1.2.0"
        },
        "77682e812e9246cd8572f0b2ff46d051": {
          "model_module": "@jupyter-widgets/controls",
          "model_name": "SliderStyleModel",
          "state": {
            "_view_name": "StyleView",
            "handle_color": null,
            "_model_name": "SliderStyleModel",
            "description_width": "",
            "_view_module": "@jupyter-widgets/base",
            "_model_module_version": "1.5.0",
            "_view_count": null,
            "_view_module_version": "1.2.0",
            "_model_module": "@jupyter-widgets/controls"
          },
          "model_module_version": "1.5.0"
        },
        "d6cfd055542c4a9c8e63a2f4cc952ed1": {
          "model_module": "@jupyter-widgets/base",
          "model_name": "LayoutModel",
          "state": {
            "_view_name": "LayoutView",
            "grid_template_rows": null,
            "right": null,
            "justify_content": null,
            "_view_module": "@jupyter-widgets/base",
            "overflow": null,
            "_model_module_version": "1.2.0",
            "_view_count": null,
            "flex_flow": null,
            "width": null,
            "min_width": null,
            "border": null,
            "align_items": null,
            "bottom": null,
            "_model_module": "@jupyter-widgets/base",
            "top": null,
            "grid_column": null,
            "overflow_y": null,
            "overflow_x": null,
            "grid_auto_flow": null,
            "grid_area": null,
            "grid_template_columns": null,
            "flex": null,
            "_model_name": "LayoutModel",
            "justify_items": null,
            "grid_row": null,
            "max_height": null,
            "align_content": null,
            "visibility": null,
            "align_self": null,
            "height": null,
            "min_height": null,
            "padding": null,
            "grid_auto_rows": null,
            "grid_gap": null,
            "max_width": null,
            "order": null,
            "_view_module_version": "1.2.0",
            "grid_template_areas": null,
            "object_position": null,
            "object_fit": null,
            "grid_auto_columns": null,
            "margin": null,
            "display": null,
            "left": null
          },
          "model_module_version": "1.2.0"
        },
        "1481beb21d8440a9aca65a47f7c93eec": {
          "model_module": "@jupyter-widgets/controls",
          "model_name": "SliderStyleModel",
          "state": {
            "_view_name": "StyleView",
            "handle_color": null,
            "_model_name": "SliderStyleModel",
            "description_width": "",
            "_view_module": "@jupyter-widgets/base",
            "_model_module_version": "1.5.0",
            "_view_count": null,
            "_view_module_version": "1.2.0",
            "_model_module": "@jupyter-widgets/controls"
          },
          "model_module_version": "1.5.0"
        },
        "b7bce62414d6474b8fd3ee674b3f7ac1": {
          "model_module": "@jupyter-widgets/base",
          "model_name": "LayoutModel",
          "state": {
            "_view_name": "LayoutView",
            "grid_template_rows": null,
            "right": null,
            "justify_content": null,
            "_view_module": "@jupyter-widgets/base",
            "overflow": null,
            "_model_module_version": "1.2.0",
            "_view_count": null,
            "flex_flow": null,
            "width": null,
            "min_width": null,
            "border": null,
            "align_items": null,
            "bottom": null,
            "_model_module": "@jupyter-widgets/base",
            "top": null,
            "grid_column": null,
            "overflow_y": null,
            "overflow_x": null,
            "grid_auto_flow": null,
            "grid_area": null,
            "grid_template_columns": null,
            "flex": null,
            "_model_name": "LayoutModel",
            "justify_items": null,
            "grid_row": null,
            "max_height": null,
            "align_content": null,
            "visibility": null,
            "align_self": null,
            "height": null,
            "min_height": null,
            "padding": null,
            "grid_auto_rows": null,
            "grid_gap": null,
            "max_width": null,
            "order": null,
            "_view_module_version": "1.2.0",
            "grid_template_areas": null,
            "object_position": null,
            "object_fit": null,
            "grid_auto_columns": null,
            "margin": null,
            "display": null,
            "left": null
          },
          "model_module_version": "1.2.0"
        },
        "823662c69a36457283b4080a4eb0bf6b": {
          "model_module": "@jupyter-widgets/base",
          "model_name": "LayoutModel",
          "state": {
            "_view_name": "LayoutView",
            "grid_template_rows": null,
            "right": null,
            "justify_content": null,
            "_view_module": "@jupyter-widgets/base",
            "overflow": null,
            "_model_module_version": "1.2.0",
            "_view_count": null,
            "flex_flow": null,
            "width": null,
            "min_width": null,
            "border": null,
            "align_items": null,
            "bottom": null,
            "_model_module": "@jupyter-widgets/base",
            "top": null,
            "grid_column": null,
            "overflow_y": null,
            "overflow_x": null,
            "grid_auto_flow": null,
            "grid_area": null,
            "grid_template_columns": null,
            "flex": null,
            "_model_name": "LayoutModel",
            "justify_items": null,
            "grid_row": null,
            "max_height": null,
            "align_content": null,
            "visibility": null,
            "align_self": null,
            "height": "450px",
            "min_height": null,
            "padding": null,
            "grid_auto_rows": null,
            "grid_gap": null,
            "max_width": null,
            "order": null,
            "_view_module_version": "1.2.0",
            "grid_template_areas": null,
            "object_position": null,
            "object_fit": null,
            "grid_auto_columns": null,
            "margin": null,
            "display": null,
            "left": null
          },
          "model_module_version": "1.2.0"
        }
      }
    }
  },
  "cells": [
    {
      "cell_type": "markdown",
      "metadata": {
        "id": "view-in-github",
        "colab_type": "text"
      },
      "source": [
        "<a href=\"https://colab.research.google.com/github/akshayugalmogale/Sports-Data-Analysis-Winning-Team-Prediction-Using-Machine-Learning/blob/main/Runs_Wickets_Interactive_Model_.ipynb\" target=\"_parent\"><img src=\"https://colab.research.google.com/assets/colab-badge.svg\" alt=\"Open In Colab\"/></a>"
      ]
    },
    {
      "cell_type": "code",
      "metadata": {
        "id": "fSp0ywcuhKT7"
      },
      "source": [
        "import pandas as pd\n",
        "import numpy as np"
      ],
      "execution_count": null,
      "outputs": []
    },
    {
      "cell_type": "markdown",
      "metadata": {
        "id": "wyDh51Ttk6zT"
      },
      "source": [
        "## Objective:"
      ]
    },
    {
      "cell_type": "markdown",
      "metadata": {
        "id": "v1n5nWV9NqMH"
      },
      "source": [
        "![image.png](data:image/png;base64,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)"
      ]
    },
    {
      "cell_type": "markdown",
      "metadata": {
        "id": "3lBGVNtbk6zZ"
      },
      "source": [
        "## Fetch probability values:"
      ]
    },
    {
      "cell_type": "code",
      "metadata": {
        "id": "cbAHFf2RhSHk"
      },
      "source": [
        "# PBKS = [0.35559, 0.39784, 0.04911, 0.0,     0.09332, 0.05599, 0.04813]\n",
        "# DC =   [0.30889, 0.41801, 0.06351, 0.00250, 0.11990, 0.03984, 0.04734]"
      ],
      "execution_count": null,
      "outputs": []
    },
    {
      "cell_type": "code",
      "metadata": {
        "id": "0cqiQMhZnxjj"
      },
      "source": [
        "def get_pbvalues(teamName):\n",
        "  \n",
        "    if teamName == 'DC':\n",
        "        p_0 = 0.30889\n",
        "        p_1 = 0.30889 + 0.41801\n",
        "        p_2 = 0.30889 + 0.41801 + 0.06351\n",
        "        p_3 = 0.30889 + 0.41801 + 0.06351 + 0.00250\n",
        "        p_4 = 0.30889 + 0.41801 + 0.06351 + 0.00250 + 0.11990\n",
        "        p_6 = 0.30889 + 0.41801 + 0.06351 + 0.00250 + 0.11990 + 0.03984\n",
        "        p_w = 1\n",
        "    \n",
        "    elif teamName == 'PBKS':\n",
        "        p_0 = 0.35559\n",
        "        p_1 = 0.35559 + 0.39784\n",
        "        p_2 = 0.35559 + 0.39784 + 0.04911\n",
        "        p_3 = 0.35559 + 0.39784 + 0.04911 + 0.0\n",
        "        p_4 = 0.35559 + 0.39784 + 0.04911 + 0.0 + 0.09332\n",
        "        p_6 = 0.35559 + 0.39784 + 0.04911 + 0.0 + 0.09332 + 0.05599\n",
        "        p_w = 1\n",
        "\n",
        "    return p_0, p_1, p_2, p_3, p_4, p_6, p_w\n"
      ],
      "execution_count": null,
      "outputs": []
    },
    {
      "cell_type": "markdown",
      "metadata": {
        "id": "c7brgRo3k6zb"
      },
      "source": [
        "## Runs prediction Model:"
      ]
    },
    {
      "cell_type": "code",
      "metadata": {
        "id": "0ssXySdJ0Yt8"
      },
      "source": [
        "def predict_runs(target, current_score, current_wickets, current_overs):\n",
        "  \n",
        "    # pb values of both teams\n",
        "    i1p_0, i1p_1, i1p_2, i1p_3, i1p_4, i1p_6, i1p_w = get_pbvalues('PBKS')\n",
        "    i2p_0, i2p_1, i2p_2, i2p_3, i2p_4, i2p_6, i2p_w = get_pbvalues('DC')\n",
        "\n",
        "    pred_runs = current_score\n",
        "    pred_wks = current_wickets\n",
        "    leftover_balls = 120 - current_overs*6\n",
        "\n",
        "    for i in range(leftover_balls):\n",
        "        r_value = np.random.random()\n",
        "\n",
        "        if r_value <= i2p_0:\n",
        "            pred_runs += 0\n",
        "        elif r_value <= i2p_1:\n",
        "            pred_runs += 1\n",
        "        elif r_value <= i2p_2:\n",
        "            pred_runs += 2\n",
        "        elif r_value <= i2p_3:\n",
        "            pred_runs += 3\n",
        "        elif r_value <= i2p_4:\n",
        "            pred_runs += 4\n",
        "        elif r_value <= i2p_6:\n",
        "            pred_runs += 6\n",
        "        else:\n",
        "            pred_runs += 0\n",
        "            pred_wks += 1\n",
        "            if pred_wks == 10:\n",
        "                break\n",
        "        if pred_runs > target:\n",
        "            break\n",
        "        # print('pred_runs: ', pred_runs)\n",
        "        # print('pred_wks: ', pred_wks)\n",
        "    \n",
        "    return pred_runs"
      ],
      "execution_count": null,
      "outputs": []
    },
    {
      "cell_type": "code",
      "metadata": {
        "colab": {
          "base_uri": "https://localhost:8080/"
        },
        "id": "Cbhp9wkF3mU4",
        "outputId": "12f6cb60-df88-4f09-f628-3ae60466374f"
      },
      "source": [
        "# predict_runs(target, current_score, current_wickets, current_overs)\n",
        "predict_runs(167, 0, 0, 0)"
      ],
      "execution_count": null,
      "outputs": [
        {
          "output_type": "execute_result",
          "data": {
            "text/plain": [
              "170"
            ]
          },
          "metadata": {
            "tags": []
          },
          "execution_count": 5
        }
      ]
    },
    {
      "cell_type": "markdown",
      "metadata": {
        "id": "G2764Ob3k6zc"
      },
      "source": [
        "## Winner function:"
      ]
    },
    {
      "cell_type": "code",
      "metadata": {
        "id": "RRicAyVp2UQF"
      },
      "source": [
        "def get_win(pred_runs, target):\n",
        "    if pred_runs > target:\n",
        "        return 'win'\n",
        "    elif pred_runs == target:\n",
        "        return 'tie'\n",
        "    else:\n",
        "        return 'lose'"
      ],
      "execution_count": null,
      "outputs": []
    },
    {
      "cell_type": "code",
      "metadata": {
        "id": "QADUpNomjYR5"
      },
      "source": [
        "# runs, wickets, overs, \n",
        "# win - 1st ing score\n",
        "\n",
        "# PBKS - 166/6\n",
        "\n",
        "target = 167\n",
        "\n",
        "current_score = 87\n",
        "current_wickets = 1\n",
        "current_overs = 10\n",
        "\n",
        "iter_count = 100\n",
        "\n",
        "runs_ls = []\n",
        "results_ls = []\n",
        "\n",
        "win_count = 0\n",
        "tie_count = 0\n",
        "lose_count = 0\n",
        "\n",
        "for i in range(iter_count):\n",
        "    pred_runs = predict_runs(target, current_score, current_wickets, current_overs)\n",
        "    runs_ls.append(pred_runs)\n",
        "    result_pred = get_win(pred_runs, target)\n",
        "    results_ls.append(result_pred)\n",
        "\n",
        "    if result_pred == 'win':\n",
        "        win_count += 1\n",
        "    elif result_pred == 'tie':\n",
        "        tie_count += 1\n",
        "    else:\n",
        "        lose_count +=1"
      ],
      "execution_count": null,
      "outputs": []
    },
    {
      "cell_type": "code",
      "metadata": {
        "colab": {
          "base_uri": "https://localhost:8080/"
        },
        "id": "dt52YLQsk1Vz",
        "outputId": "dc26de7c-e125-4bfd-eb74-5d9b1f75f939"
      },
      "source": [
        "win_count, tie_count, lose_count"
      ],
      "execution_count": null,
      "outputs": [
        {
          "output_type": "execute_result",
          "data": {
            "text/plain": [
              "(37, 2, 61)"
            ]
          },
          "metadata": {
            "tags": []
          },
          "execution_count": 8
        }
      ]
    },
    {
      "cell_type": "markdown",
      "metadata": {
        "id": "Gitqy5NVk6zd"
      },
      "source": [
        "## Find out Runs at a required stage:"
      ]
    },
    {
      "cell_type": "code",
      "metadata": {
        "id": "HAe3dNAqk6zd"
      },
      "source": [
        "# find out runs:\n",
        "def find_runs(current_score, target, current_wickets, at_overs):\n",
        "    runs_ls = []\n",
        "    results_ls = []\n",
        "\n",
        "    req_runs = []\n",
        "    win_ls = []\n",
        "\n",
        "    for i in range(current_score, target + 1):\n",
        "        win_count = 0\n",
        "        tie_count = 0\n",
        "        lose_count = 0\n",
        "\n",
        "        for j in range(100):\n",
        "            pred_runs = predict_runs(target, i, current_wickets, at_overs)\n",
        "            runs_ls.append(pred_runs)\n",
        "            result_pred = get_win(pred_runs, target)\n",
        "            results_ls.append(result_pred)\n",
        "\n",
        "            if result_pred == 'win':\n",
        "                win_count += 1\n",
        "            elif result_pred == 'tie':\n",
        "                tie_count += 1\n",
        "            else:\n",
        "                lose_count +=1\n",
        "\n",
        "            win_ls.append(win_count)\n",
        "            req_runs.append(i)\n",
        "            # print('runs: ', i, ' win%: ', win_count)\n",
        "\n",
        "    required_runs = current_score\n",
        "    for i in range(len(req_runs)):\n",
        "        if win_ls[i] >= 50:\n",
        "            required_runs = req_runs[i]\n",
        "            # print('Runs to be: ', req_runs[i])\n",
        "            break\n",
        "\n",
        "    return required_runs\n"
      ],
      "execution_count": null,
      "outputs": []
    },
    {
      "cell_type": "code",
      "metadata": {
        "scrolled": true,
        "id": "esAr32l0k6ze",
        "outputId": "28edbb41-e93f-4200-c018-91e8318eeac3",
        "colab": {
          "base_uri": "https://localhost:8080/"
        }
      },
      "source": [
        "# find_runs(current_score, target, current_wickets, at_overs)\n",
        "find_runs(87, 167, 1, 11)"
      ],
      "execution_count": null,
      "outputs": [
        {
          "output_type": "execute_result",
          "data": {
            "text/plain": [
              "100"
            ]
          },
          "metadata": {
            "tags": []
          },
          "execution_count": 10
        }
      ]
    },
    {
      "cell_type": "markdown",
      "metadata": {
        "id": "1dujJhMMk6ze"
      },
      "source": [
        "## Find out Wickets they can afford to lose:"
      ]
    },
    {
      "cell_type": "code",
      "metadata": {
        "id": "tE3yWnR05INg"
      },
      "source": [
        "\n",
        "def find_wickets(current_score, target, current_wickets, at_overs):\n",
        "\n",
        "#     find_runs(current_score, target, current_wickets, at_overs)\n",
        "    req_runs = find_runs(current_score, target, current_wickets, at_overs)\n",
        "\n",
        "    runs_ls = []\n",
        "    results_ls = []\n",
        "\n",
        "    req_wks = []\n",
        "    win_ls = []\n",
        "\n",
        "    for i in range(current_wickets, 10):\n",
        "        win_count = 0\n",
        "        tie_count = 0\n",
        "        lose_count = 0\n",
        "\n",
        "        for j in range(100):\n",
        "#             pred_runs = predict_runs(target, req_runs, i, at_overs)\n",
        "            pred_runs = predict_runs(target, current_score, i, at_overs)\n",
        "            runs_ls.append(pred_runs)\n",
        "            result_pred = get_win(pred_runs, target)\n",
        "            results_ls.append(result_pred)\n",
        "\n",
        "            if result_pred == 'win':\n",
        "                win_count += 1\n",
        "            elif result_pred == 'tie':\n",
        "                tie_count += 1\n",
        "            else:\n",
        "                lose_count +=1\n",
        "\n",
        "        win_ls.append(win_count)\n",
        "        req_wks.append(i)\n",
        "#         print('wickets: ', i, ' win%: ', win_count)\n",
        "\n",
        "    req_wicket_value = current_wickets\n",
        "    \n",
        "    for i in range(len(req_wks)):\n",
        "        if (win_ls[i] < 45)  :\n",
        "            req_wicket_value = req_wks[i]\n",
        "            break\n",
        "\n",
        "    return req_wicket_value"
      ],
      "execution_count": null,
      "outputs": []
    },
    {
      "cell_type": "code",
      "metadata": {
        "colab": {
          "base_uri": "https://localhost:8080/"
        },
        "id": "ZTLx_ksW6QX9",
        "outputId": "fbfd2241-067d-42fb-a730-dcb1b97cac86"
      },
      "source": [
        "# wickets they can afford to lose:\n",
        "\n",
        "# find_wickets(current_score, target, current_wickets, at_overs)\n",
        "find_wickets(129, 167, 1, 11)"
      ],
      "execution_count": null,
      "outputs": [
        {
          "output_type": "execute_result",
          "data": {
            "text/plain": [
              "9"
            ]
          },
          "metadata": {
            "tags": []
          },
          "execution_count": 12
        }
      ]
    },
    {
      "cell_type": "markdown",
      "metadata": {
        "id": "HneTiC-Rk6zf"
      },
      "source": [
        "## Function: Interactive chart"
      ]
    },
    {
      "cell_type": "code",
      "metadata": {
        "id": "7sK7TZpoNGFc"
      },
      "source": [
        "%matplotlib inline\n",
        "from ipywidgets import interactive\n",
        "import ipywidgets as widgets\n",
        "import matplotlib.pyplot as plt\n",
        "import numpy as np\n",
        "\n",
        "def find_runs_wickets(current_wks, at_overs, target_score):\n",
        "    plt.figure(figsize = (16, 6))\n",
        "    # x = np.linspace(-10, 10, num=1000)\n",
        "    x = np.array(list(range(21)))\n",
        "    req_value = find_runs(87, target_score, current_wks, at_overs)\n",
        "    req_wk_value = find_wickets(87, target_score, current_wks, at_overs)\n",
        "\n",
        "    if at_overs == 10:\n",
        "        req_value = 87\n",
        "        req_wk_value = 1\n",
        "\n",
        "    \n",
        "    # print(req_value)\n",
        "    y = np.array([req_value for i in range(21)])\n",
        "\n",
        "    # plt.plot(x, current_overs * x + target_score)\n",
        "    # plt.plot(x, y)\n",
        "    plt.scatter(at_overs, req_value, s = 1200, color = 'red')\n",
        "    plt.axhline(target_score, ls = '--', color = 'blue')\n",
        "    plt.text( 1, target_score + 10, 'Target Score :' + str(target_score) , color = 'darkblue', fontsize = 13)\n",
        "    plt.text( at_overs, req_value, str(req_value) + '/' + str(req_wk_value), color = 'white', fontsize = 12,  horizontalalignment='center', verticalalignment='center')\n",
        "    plt.text(at_overs, req_value - 30, 'DC has to be at ' + str(req_value) + '/' +  str(req_wk_value) + ' after ' + str(at_overs) + ' ov', horizontalalignment='center')\n",
        "    plt.ylim(50, target_score + 50)\n",
        "    plt.xticks(x)\n",
        "    plt.title('Where should DC be?', fontsize = 20)\n",
        "    plt.xlabel('Overs')\n",
        "    plt.ylabel('Score')\n",
        "    plt.show()\n",
        "\n",
        "# x=widgets.IntSlider(min=-10, max=30, step=1, value=10)\n",
        "\n",
        "# find_wickets(current_score, target, current_wickets, at_overs)\n",
        "# find_wickets(87, 167, 1, 14)\n"
      ],
      "execution_count": null,
      "outputs": []
    },
    {
      "cell_type": "markdown",
      "metadata": {
        "id": "CW_CB9Eqk6zg"
      },
      "source": [
        "## Objective:"
      ]
    },
    {
      "cell_type": "markdown",
      "metadata": {
        "id": "_p9tiZZzk6zg"
      },
      "source": [
        "![image.png](data:image/png;base64,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)"
      ]
    },
    {
      "cell_type": "code",
      "metadata": {
        "id": "_taNkTRRNvCf"
      },
      "source": [],
      "execution_count": null,
      "outputs": []
    },
    {
      "cell_type": "code",
      "metadata": {
        "id": "rtCfI6c0NvYy"
      },
      "source": [],
      "execution_count": null,
      "outputs": []
    },
    {
      "cell_type": "markdown",
      "metadata": {
        "id": "UIIwq0_9NvhM"
      },
      "source": [
        "## Interactive Visualization:"
      ]
    },
    {
      "cell_type": "code",
      "metadata": {
        "colab": {
          "base_uri": "https://localhost:8080/",
          "height": 598,
          "referenced_widgets": [
            "ae737e75143d4877815e7c845495b3ab",
            "119cd1be330e4855835cf31f2559dba2",
            "ae5f0516e9674ce8850ddde11c5eaadb",
            "723da97f7a534268aa5cb7e8cd87ab4f",
            "43f1667567064e179324b122d8adce27",
            "5b2429879c1f4d489efa04e905b49f39",
            "0cb55fbd62cd40519538221ad9b2d21a",
            "f1b84dd40796445c91bde550d12ed98d",
            "77682e812e9246cd8572f0b2ff46d051",
            "d6cfd055542c4a9c8e63a2f4cc952ed1",
            "1481beb21d8440a9aca65a47f7c93eec",
            "b7bce62414d6474b8fd3ee674b3f7ac1",
            "823662c69a36457283b4080a4eb0bf6b"
          ]
        },
        "id": "MNfCQQdBCkmH",
        "scrolled": false,
        "outputId": "8e2c196f-d4f3-4550-fefa-5241ba09bbab"
      },
      "source": [
        "print('current_score = DC: 87/1 (10 overs)')\n",
        "print('')\n",
        "\n",
        "interactive_plot = interactive(find_runs_wickets, current_wks = widgets.IntSlider(min=1, max=10, step=1, value=1),  at_overs=widgets.IntSlider(min=10, max=20, step=1, value=10), target_score = widgets.IntSlider(min=0, max=250, step=1, value=167))\n",
        "output = interactive_plot.children[-1]\n",
        "output.layout.height = '450px'\n",
        "interactive_plot"
      ],
      "execution_count": null,
      "outputs": [
        {
          "output_type": "stream",
          "text": [
            "current_score = DC: 87/1 (10 overs)\n",
            "\n"
          ],
          "name": "stdout"
        },
        {
          "output_type": "display_data",
          "data": {
            "application/vnd.jupyter.widget-view+json": {
              "model_id": "ae737e75143d4877815e7c845495b3ab",
              "version_minor": 0,
              "version_major": 2
            },
            "text/plain": [
              "interactive(children=(IntSlider(value=1, description='current_wks', max=10, min=1), IntSlider(value=10, descri…"
            ]
          },
          "metadata": {
            "tags": []
          }
        }
      ]
    },
    {
      "cell_type": "code",
      "metadata": {
        "id": "6VbI_I2wT0u-"
      },
      "source": [],
      "execution_count": null,
      "outputs": []
    }
  ]
}