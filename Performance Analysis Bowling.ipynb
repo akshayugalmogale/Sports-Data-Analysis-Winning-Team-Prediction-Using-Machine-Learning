{
  "cells": [
    {
      "cell_type": "markdown",
      "metadata": {
        "id": "view-in-github",
        "colab_type": "text"
      },
      "source": [
        "<a href=\"https://colab.research.google.com/github/akshayugalmogale/Sports-Data-Analysis-Winning-Team-Prediction-Using-Machine-Learning/blob/main/Performance%20Analysis%20Bowling.ipynb\" target=\"_parent\"><img src=\"https://colab.research.google.com/assets/colab-badge.svg\" alt=\"Open In Colab\"/></a>"
      ]
    },
    {
      "cell_type": "code",
      "execution_count": null,
      "metadata": {
        "id": "h92kxX2kT1oE"
      },
      "outputs": [],
      "source": [
        "import math\n",
        "import pandas as pd\n",
        "import numpy as np\n",
        "\n",
        "import warnings\n",
        "warnings.filterwarnings('ignore')\n",
        "\n",
        "pd.set_option('display.max_columns', None)\n",
        "pd.set_option('display.max_rows', None)\n",
        "pd.set_option('display.expand_frame_repr', False)\n",
        "pd.set_option('max_colwidth', -1)\n",
        "\n",
        "import matplotlib.pyplot as plt"
      ]
    },
    {
      "cell_type": "code",
      "execution_count": null,
      "metadata": {
        "id": "DONFe7FLT1oI"
      },
      "outputs": [],
      "source": [
        "deliveries = pd.read_csv('deliveries.csv')"
      ]
    },
    {
      "cell_type": "code",
      "execution_count": null,
      "metadata": {
        "id": "I8ZkVHwlT1oJ"
      },
      "outputs": [],
      "source": [
        "df = deliveries.copy()"
      ]
    },
    {
      "cell_type": "code",
      "execution_count": null,
      "metadata": {
        "id": "Ht_d3WV1T1oK",
        "outputId": "1b38c338-72f5-4852-e62e-013c408fa23b"
      },
      "outputs": [
        {
          "data": {
            "text/html": [
              "<div>\n",
              "<style scoped>\n",
              "    .dataframe tbody tr th:only-of-type {\n",
              "        vertical-align: middle;\n",
              "    }\n",
              "\n",
              "    .dataframe tbody tr th {\n",
              "        vertical-align: top;\n",
              "    }\n",
              "\n",
              "    .dataframe thead th {\n",
              "        text-align: right;\n",
              "    }\n",
              "</style>\n",
              "<table border=\"1\" class=\"dataframe\">\n",
              "  <thead>\n",
              "    <tr style=\"text-align: right;\">\n",
              "      <th></th>\n",
              "      <th>match_id</th>\n",
              "      <th>inning</th>\n",
              "      <th>batting_team</th>\n",
              "      <th>bowling_team</th>\n",
              "      <th>over</th>\n",
              "      <th>ball</th>\n",
              "      <th>batsman</th>\n",
              "      <th>non_striker</th>\n",
              "      <th>bowler</th>\n",
              "      <th>is_super_over</th>\n",
              "      <th>wide_runs</th>\n",
              "      <th>bye_runs</th>\n",
              "      <th>legbye_runs</th>\n",
              "      <th>noball_runs</th>\n",
              "      <th>penalty_runs</th>\n",
              "      <th>batsman_runs</th>\n",
              "      <th>extra_runs</th>\n",
              "      <th>total_runs</th>\n",
              "      <th>player_dismissed</th>\n",
              "      <th>dismissal_kind</th>\n",
              "      <th>fielder</th>\n",
              "    </tr>\n",
              "  </thead>\n",
              "  <tbody>\n",
              "    <tr>\n",
              "      <th>0</th>\n",
              "      <td>1</td>\n",
              "      <td>1</td>\n",
              "      <td>Sunrisers Hyderabad</td>\n",
              "      <td>Royal Challengers Bangalore</td>\n",
              "      <td>1</td>\n",
              "      <td>1</td>\n",
              "      <td>DA Warner</td>\n",
              "      <td>S Dhawan</td>\n",
              "      <td>TS Mills</td>\n",
              "      <td>0</td>\n",
              "      <td>0</td>\n",
              "      <td>0</td>\n",
              "      <td>0</td>\n",
              "      <td>0</td>\n",
              "      <td>0</td>\n",
              "      <td>0</td>\n",
              "      <td>0</td>\n",
              "      <td>0</td>\n",
              "      <td>NaN</td>\n",
              "      <td>NaN</td>\n",
              "      <td>NaN</td>\n",
              "    </tr>\n",
              "  </tbody>\n",
              "</table>\n",
              "</div>"
            ],
            "text/plain": [
              "   match_id  inning         batting_team                 bowling_team  over  ball    batsman non_striker    bowler  is_super_over  wide_runs  bye_runs  legbye_runs  noball_runs  penalty_runs  batsman_runs  extra_runs  total_runs player_dismissed dismissal_kind fielder\n",
              "0  1         1       Sunrisers Hyderabad  Royal Challengers Bangalore  1     1     DA Warner  S Dhawan    TS Mills  0              0          0         0            0            0             0             0           0           NaN              NaN            NaN   "
            ]
          },
          "execution_count": 4,
          "metadata": {},
          "output_type": "execute_result"
        }
      ],
      "source": [
        "df.head(1)"
      ]
    },
    {
      "cell_type": "code",
      "execution_count": null,
      "metadata": {
        "id": "zqvSnjEkT1oL"
      },
      "outputs": [],
      "source": [
        "def is_bowlers_wicket(player_dismissed, dismissal_kind):\n",
        "    if type(player_dismissed) == str:\n",
        "        if dismissal_kind not in [ 'run out', 'retired hurt', 'obstructing the field']:\n",
        "            return 1\n",
        "        else:\n",
        "            return 0\n",
        "    else:\n",
        "        return 0"
      ]
    },
    {
      "cell_type": "code",
      "execution_count": null,
      "metadata": {
        "id": "tpvM89P4T1oM"
      },
      "outputs": [],
      "source": [
        "df['isBowlerWk'] = df.apply(lambda x: is_bowlers_wicket(x['player_dismissed'], x['dismissal_kind']), axis = 1)"
      ]
    },
    {
      "cell_type": "code",
      "execution_count": null,
      "metadata": {
        "id": "9b25oMqJT1oM"
      },
      "outputs": [],
      "source": [
        "def bowlerStats(df, current_innings):\n",
        "    \n",
        "    df = df[df.inning == current_innings]\n",
        "    df.reset_index(inplace = True, drop = True)\n",
        "\n",
        "    df['isDot'] = df['total_runs'].apply(lambda x: 1 if x == 0 else 0)\n",
        "    df['isOne'] = df['total_runs'].apply(lambda x: 1 if x == 1 else 0)\n",
        "    df['isTwo'] = df['total_runs'].apply(lambda x: 1 if x == 2 else 0)\n",
        "    df['isThree'] = df['total_runs'].apply(lambda x: 1 if x == 3 else 0)\n",
        "\n",
        "    df['isFour'] = df['batsman_runs'].apply(lambda x: 1 if x == 4 else 0)\n",
        "    df['isSix'] = df['batsman_runs'].apply(lambda x: 1 if x == 6 else 0)\n",
        "\n",
        "    runs = pd.DataFrame(df.groupby(['bowler'])['total_runs'].sum()).reset_index().rename(columns = {'total_runs':'runs'})\n",
        "    innings = pd.DataFrame(df.groupby(['bowler'])['match_id'].apply(lambda x: len(list(np.unique(x))))).reset_index().rename(columns = {'match_id':'innings'})\n",
        "    balls = pd.DataFrame(df.groupby(['bowler'])['match_id'].count()).reset_index().rename(columns = {'match_id':'balls'})\n",
        "    dismissals = pd.DataFrame(df.groupby(['bowler'])['isBowlerWk'].sum()).reset_index().rename(columns = {'isBowlerWk':'dismissals'})\n",
        "\n",
        "    dots = pd.DataFrame(df.groupby(['bowler'])['isDot'].sum()).reset_index().rename(columns = {'isDot':'dots'})\n",
        "    ones = pd.DataFrame(df.groupby(['bowler'])['isOne'].sum()).reset_index().rename(columns = {'isOne':'ones'})\n",
        "    twos = pd.DataFrame(df.groupby(['bowler'])['isTwo'].sum()).reset_index().rename(columns = {'isTwo':'twos'})\n",
        "    threes = pd.DataFrame(df.groupby(['bowler'])['isThree'].sum()).reset_index().rename(columns = {'isThree':'threes'})\n",
        "    fours = pd.DataFrame(df.groupby(['bowler'])['isFour'].sum()).reset_index().rename(columns = {'isFour':'fours'})\n",
        "    sixes = pd.DataFrame(df.groupby(['bowler'])['isSix'].sum()).reset_index().rename(columns = {'isSix':'sixes'})\n",
        "\n",
        "    df = pd.merge(innings, balls, on = 'bowler').merge(runs, on = 'bowler').merge(dismissals, on = 'bowler').merge(dots, on = 'bowler')\n",
        "    \n",
        "    df['dot%'] = df.apply(lambda x: 100*(x['dots']/x['balls']), axis = 1)\n",
        "    \n",
        "    return df"
      ]
    },
    {
      "cell_type": "code",
      "execution_count": null,
      "metadata": {
        "id": "RBiZcGzDT1oO"
      },
      "outputs": [],
      "source": [
        "# dot% vs no_of_dismissals in ing 1/2"
      ]
    },
    {
      "cell_type": "code",
      "execution_count": null,
      "metadata": {
        "id": "bP15hkRCT1oO"
      },
      "outputs": [],
      "source": [
        "df1 = bowlerStats(df, 1)"
      ]
    },
    {
      "cell_type": "code",
      "execution_count": null,
      "metadata": {
        "id": "cG7Nws-RT1oP"
      },
      "outputs": [],
      "source": [
        "df2 = bowlerStats(df, 2)"
      ]
    },
    {
      "cell_type": "code",
      "execution_count": null,
      "metadata": {
        "id": "rjl3BCrsT1oP",
        "outputId": "7b42a700-dee1-45d3-f808-9cd7607223fb"
      },
      "outputs": [
        {
          "data": {
            "image/png": "[encoded data removed]",
            "text/plain": [
              "<Figure size 648x288 with 1 Axes>"
            ]
          },
          "metadata": {
            "needs_background": "light"
          },
          "output_type": "display_data"
        }
      ],
      "source": [
        "plt.figure(figsize = (9, 4))\n",
        "\n",
        "plt.scatter(df1['dismissals'], df1['dot%'])\n",
        "plt.xlabel('No of dismissals')\n",
        "plt.ylabel('Dot ball %')\n",
        "plt.title('No of dismissals vs Dot ball %')\n",
        "\n",
        "selected_bowlers = ['A Kumble', 'SL Malinga', 'A Mishra', 'DW Steyn', 'Sohail Tanvir']\n",
        "annotations = list(df1['bowler'])\n",
        "\n",
        "for i, j in enumerate(annotations):\n",
        "    if j in selected_bowlers:\n",
        "        plt.annotate(j, (df1['dismissals'][i], df1['dot%'][i]))\n",
        "\n",
        "plt.show()"
      ]
    },
    {
      "cell_type": "code",
      "execution_count": null,
      "metadata": {
        "id": "DAj7zPOkT1oQ",
        "outputId": "4c72d02a-4470-48b4-db05-d4ff6dc7bab7"
      },
      "outputs": [
        {
          "data": {
            "image/png": "[encoded data removed]",
            "text/plain": [
              "<Figure size 648x288 with 1 Axes>"
            ]
          },
          "metadata": {
            "needs_background": "light"
          },
          "output_type": "display_data"
        }
      ],
      "source": [
        "plt.figure(figsize = (9, 4))\n",
        "\n",
        "plt.scatter(df2['dismissals'], df2['dot%'], color = 'g')\n",
        "plt.xlabel('No of dismissals')\n",
        "plt.ylabel('Dot ball %')\n",
        "plt.title('No of dismissals vs Dot ball %')\n",
        "\n",
        "selected_bowlers = ['A Kumble', 'SL Malinga', 'A Mishra', 'DW Steyn', 'Sohail Tanvir']\n",
        "annotations = list(df2['bowler'])\n",
        "\n",
        "for i, j in enumerate(annotations):\n",
        "    if j in selected_bowlers:\n",
        "        plt.annotate(j, (df2['dismissals'][i], df2['dot%'][i]))\n",
        "\n",
        "plt.show()"
      ]
    },
    {
      "cell_type": "code",
      "execution_count": null,
      "metadata": {
        "id": "ki3tuz4ET1oQ",
        "outputId": "c6487c96-4326-462a-9edf-38713dee6999"
      },
      "outputs": [
        {
          "data": {
            "text/plain": [
              "(32.87034761618632, 32.693540117484446)"
            ]
          },
          "execution_count": 13,
          "metadata": {},
          "output_type": "execute_result"
        }
      ],
      "source": [
        "df1['dot%'].mean(), df2['dot%'].mean()"
      ]
    },
    {
      "cell_type": "code",
      "execution_count": null,
      "metadata": {
        "id": "S9x-LdYRT1oR"
      },
      "outputs": [],
      "source": [
        "# use case 2: Bowler against all oppositions"
      ]
    },
    {
      "cell_type": "code",
      "execution_count": null,
      "metadata": {
        "id": "diAy5NCPT1oR"
      },
      "outputs": [],
      "source": [
        "def show_player(selected_player):\n",
        "    \n",
        "    total_wickets = df[df.bowler == selected_player].groupby(['bowler'])['isBowlerWk'].sum().item()\n",
        "\n",
        "    plt.figure(figsize = (12, 4))\n",
        "\n",
        "    df[df.bowler == selected_player].groupby(['batting_team'])['isBowlerWk'].sum().sort_values(ascending = True).plot(kind = 'barh', color = 'g')\n",
        "    plt.title(selected_player + \" - against all oppositions\" + \" (Wks :\" + str(total_wickets) + \")\")\n",
        "    plt.xlabel('No of wickets')\n",
        "    plt.ylabel('Opposition Teams')\n",
        "    plt.show()"
      ]
    },
    {
      "cell_type": "code",
      "execution_count": null,
      "metadata": {
        "id": "E-sQMXdwT1oS",
        "outputId": "de883439-0761-48ab-8418-011de4ae238c"
      },
      "outputs": [
        {
          "data": {
            "image/png": "[encoded data removed]",
            "text/plain": [
              "<Figure size 864x288 with 1 Axes>"
            ]
          },
          "metadata": {
            "needs_background": "light"
          },
          "output_type": "display_data"
        }
      ],
      "source": [
        "show_player('SL Malinga')"
      ]
    },
    {
      "cell_type": "code",
      "execution_count": null,
      "metadata": {
        "id": "7znm3TH3T1oS",
        "outputId": "520464aa-c284-4c08-d82c-7c38113bbf0f"
      },
      "outputs": [
        {
          "data": {
            "image/png": "[encoded data removed]",
            "text/plain": [
              "<Figure size 864x288 with 1 Axes>"
            ]
          },
          "metadata": {
            "needs_background": "light"
          },
          "output_type": "display_data"
        }
      ],
      "source": [
        "show_player('A Mishra')"
      ]
    },
    {
      "cell_type": "code",
      "execution_count": null,
      "metadata": {
        "id": "RFDeYWqcT1oS",
        "outputId": "68d8b176-bfe6-4c78-d33e-e036e35f6cfd"
      },
      "outputs": [
        {
          "data": {
            "image/png": "[encoded data removed]",
            "text/plain": [
              "<Figure size 864x288 with 1 Axes>"
            ]
          },
          "metadata": {
            "needs_background": "light"
          },
          "output_type": "display_data"
        }
      ],
      "source": [
        "show_player('A Kumble')"
      ]
    },
    {
      "cell_type": "markdown",
      "metadata": {
        "id": "JkQOaOPjT1oT"
      },
      "source": [
        "## Toss Analysis & Venue Analysis:"
      ]
    },
    {
      "cell_type": "markdown",
      "metadata": {
        "id": "AzbIs7mET1oV"
      },
      "source": [
        "![image.png](attachment:image.png)"
      ]
    },
    {
      "cell_type": "code",
      "execution_count": null,
      "metadata": {
        "id": "UzBCwk3PT1oV"
      },
      "outputs": [],
      "source": [
        "# use case: win toss & win match?"
      ]
    },
    {
      "cell_type": "code",
      "execution_count": null,
      "metadata": {
        "id": "TIFlU_QST1oW"
      },
      "outputs": [],
      "source": [
        "matches = pd.read_csv('matches.csv')"
      ]
    },
    {
      "cell_type": "code",
      "execution_count": null,
      "metadata": {
        "id": "Vu6foCi_T1oW",
        "outputId": "d49573bf-14da-4a2c-d2a8-9b67fa85a7eb"
      },
      "outputs": [
        {
          "data": {
            "text/html": [
              "<div>\n",
              "<style scoped>\n",
              "    .dataframe tbody tr th:only-of-type {\n",
              "        vertical-align: middle;\n",
              "    }\n",
              "\n",
              "    .dataframe tbody tr th {\n",
              "        vertical-align: top;\n",
              "    }\n",
              "\n",
              "    .dataframe thead th {\n",
              "        text-align: right;\n",
              "    }\n",
              "</style>\n",
              "<table border=\"1\" class=\"dataframe\">\n",
              "  <thead>\n",
              "    <tr style=\"text-align: right;\">\n",
              "      <th></th>\n",
              "      <th>id</th>\n",
              "      <th>season</th>\n",
              "      <th>city</th>\n",
              "      <th>date</th>\n",
              "      <th>team1</th>\n",
              "      <th>team2</th>\n",
              "      <th>toss_winner</th>\n",
              "      <th>toss_decision</th>\n",
              "      <th>result</th>\n",
              "      <th>dl_applied</th>\n",
              "      <th>winner</th>\n",
              "      <th>win_by_runs</th>\n",
              "      <th>win_by_wickets</th>\n",
              "      <th>player_of_match</th>\n",
              "      <th>venue</th>\n",
              "      <th>umpire1</th>\n",
              "      <th>umpire2</th>\n",
              "      <th>umpire3</th>\n",
              "    </tr>\n",
              "  </thead>\n",
              "  <tbody>\n",
              "    <tr>\n",
              "      <th>0</th>\n",
              "      <td>1</td>\n",
              "      <td>2017</td>\n",
              "      <td>Hyderabad</td>\n",
              "      <td>2017-04-05</td>\n",
              "      <td>Sunrisers Hyderabad</td>\n",
              "      <td>Royal Challengers Bangalore</td>\n",
              "      <td>Royal Challengers Bangalore</td>\n",
              "      <td>field</td>\n",
              "      <td>normal</td>\n",
              "      <td>0</td>\n",
              "      <td>Sunrisers Hyderabad</td>\n",
              "      <td>35</td>\n",
              "      <td>0</td>\n",
              "      <td>Yuvraj Singh</td>\n",
              "      <td>Rajiv Gandhi International Stadium, Uppal</td>\n",
              "      <td>AY Dandekar</td>\n",
              "      <td>NJ Llong</td>\n",
              "      <td>NaN</td>\n",
              "    </tr>\n",
              "  </tbody>\n",
              "</table>\n",
              "</div>"
            ],
            "text/plain": [
              "   id  season       city        date                team1                        team2                  toss_winner toss_decision  result  dl_applied               winner  win_by_runs  win_by_wickets player_of_match                                      venue      umpire1   umpire2  umpire3\n",
              "0  1   2017    Hyderabad  2017-04-05  Sunrisers Hyderabad  Royal Challengers Bangalore  Royal Challengers Bangalore  field         normal  0           Sunrisers Hyderabad  35           0               Yuvraj Singh    Rajiv Gandhi International Stadium, Uppal  AY Dandekar  NJ Llong NaN     "
            ]
          },
          "execution_count": 21,
          "metadata": {},
          "output_type": "execute_result"
        }
      ],
      "source": [
        "matches.head(1)"
      ]
    },
    {
      "cell_type": "code",
      "execution_count": null,
      "metadata": {
        "id": "4PN4nnpJT1oW"
      },
      "outputs": [],
      "source": [
        "mdf = matches.copy()"
      ]
    },
    {
      "cell_type": "code",
      "execution_count": null,
      "metadata": {
        "id": "nHfVStsjT1oX",
        "outputId": "85176c1d-0794-4a91-f9f2-d67587ad4ba1"
      },
      "outputs": [
        {
          "data": {
            "text/plain": [
              "Index(['id', 'season', 'city', 'date', 'team1', 'team2', 'toss_winner',\n",
              "       'toss_decision', 'result', 'dl_applied', 'winner', 'win_by_runs',\n",
              "       'win_by_wickets', 'player_of_match', 'venue', 'umpire1', 'umpire2',\n",
              "       'umpire3'],\n",
              "      dtype='object')"
            ]
          },
          "execution_count": 23,
          "metadata": {},
          "output_type": "execute_result"
        }
      ],
      "source": [
        "mdf.columns"
      ]
    },
    {
      "cell_type": "code",
      "execution_count": null,
      "metadata": {
        "id": "wXmzyR2AT1oX"
      },
      "outputs": [],
      "source": [
        "# team1, team2, winner, toss_winner, toss_decision"
      ]
    },
    {
      "cell_type": "code",
      "execution_count": null,
      "metadata": {
        "id": "jRGwom8WT1oX"
      },
      "outputs": [],
      "source": [
        "def wintoss_winmatch(toss_winner, winner):\n",
        "    if toss_winner == winner:\n",
        "        return 1\n",
        "    else:\n",
        "        return 0"
      ]
    },
    {
      "cell_type": "code",
      "execution_count": null,
      "metadata": {
        "id": "f3paQkB5T1oX"
      },
      "outputs": [],
      "source": [
        "mdf['wintoss_winmatch'] = mdf.apply(lambda x: wintoss_winmatch(x['toss_winner'], x['winner']), axis = 1)"
      ]
    },
    {
      "cell_type": "code",
      "execution_count": null,
      "metadata": {
        "id": "4fE7at4wT1oY",
        "outputId": "6097cc69-c89e-4538-ed11-dc12f93ca7e2"
      },
      "outputs": [
        {
          "data": {
            "text/html": [
              "<div>\n",
              "<style scoped>\n",
              "    .dataframe tbody tr th:only-of-type {\n",
              "        vertical-align: middle;\n",
              "    }\n",
              "\n",
              "    .dataframe tbody tr th {\n",
              "        vertical-align: top;\n",
              "    }\n",
              "\n",
              "    .dataframe thead th {\n",
              "        text-align: right;\n",
              "    }\n",
              "</style>\n",
              "<table border=\"1\" class=\"dataframe\">\n",
              "  <thead>\n",
              "    <tr style=\"text-align: right;\">\n",
              "      <th></th>\n",
              "      <th>winner</th>\n",
              "      <th>toss_winner</th>\n",
              "      <th>wintoss_winmatch</th>\n",
              "    </tr>\n",
              "  </thead>\n",
              "  <tbody>\n",
              "    <tr>\n",
              "      <th>0</th>\n",
              "      <td>Sunrisers Hyderabad</td>\n",
              "      <td>Royal Challengers Bangalore</td>\n",
              "      <td>0</td>\n",
              "    </tr>\n",
              "    <tr>\n",
              "      <th>1</th>\n",
              "      <td>Rising Pune Supergiant</td>\n",
              "      <td>Rising Pune Supergiant</td>\n",
              "      <td>1</td>\n",
              "    </tr>\n",
              "    <tr>\n",
              "      <th>2</th>\n",
              "      <td>Kolkata Knight Riders</td>\n",
              "      <td>Kolkata Knight Riders</td>\n",
              "      <td>1</td>\n",
              "    </tr>\n",
              "    <tr>\n",
              "      <th>3</th>\n",
              "      <td>Kings XI Punjab</td>\n",
              "      <td>Kings XI Punjab</td>\n",
              "      <td>1</td>\n",
              "    </tr>\n",
              "    <tr>\n",
              "      <th>4</th>\n",
              "      <td>Royal Challengers Bangalore</td>\n",
              "      <td>Royal Challengers Bangalore</td>\n",
              "      <td>1</td>\n",
              "    </tr>\n",
              "  </tbody>\n",
              "</table>\n",
              "</div>"
            ],
            "text/plain": [
              "                        winner                  toss_winner  wintoss_winmatch\n",
              "0  Sunrisers Hyderabad          Royal Challengers Bangalore  0               \n",
              "1  Rising Pune Supergiant       Rising Pune Supergiant       1               \n",
              "2  Kolkata Knight Riders        Kolkata Knight Riders        1               \n",
              "3  Kings XI Punjab              Kings XI Punjab              1               \n",
              "4  Royal Challengers Bangalore  Royal Challengers Bangalore  1               "
            ]
          },
          "execution_count": 27,
          "metadata": {},
          "output_type": "execute_result"
        }
      ],
      "source": [
        "mdf[['winner', 'toss_winner', 'wintoss_winmatch']].head()"
      ]
    },
    {
      "cell_type": "code",
      "execution_count": null,
      "metadata": {
        "id": "4eocjegAT1oY",
        "outputId": "a2d17337-2a92-4efc-cd90-7ca2360ce576"
      },
      "outputs": [
        {
          "data": {
            "text/plain": [
              "636"
            ]
          },
          "execution_count": 28,
          "metadata": {},
          "output_type": "execute_result"
        }
      ],
      "source": [
        "len(mdf)"
      ]
    },
    {
      "cell_type": "code",
      "execution_count": null,
      "metadata": {
        "id": "ay8r2feVT1oY",
        "outputId": "7fa2d844-bc79-4610-d8ed-4ac2719a4e1f"
      },
      "outputs": [
        {
          "data": {
            "text/plain": [
              "51.100628930817614"
            ]
          },
          "execution_count": 29,
          "metadata": {},
          "output_type": "execute_result"
        }
      ],
      "source": [
        "100*len(mdf[mdf.wintoss_winmatch == 1])/len(mdf)"
      ]
    },
    {
      "cell_type": "code",
      "execution_count": null,
      "metadata": {
        "id": "tJrX-NlGT1oZ",
        "outputId": "008b932c-8ad3-4b53-bc81-6722380f6020"
      },
      "outputs": [
        {
          "data": {
            "text/html": [
              "<div>\n",
              "<style scoped>\n",
              "    .dataframe tbody tr th:only-of-type {\n",
              "        vertical-align: middle;\n",
              "    }\n",
              "\n",
              "    .dataframe tbody tr th {\n",
              "        vertical-align: top;\n",
              "    }\n",
              "\n",
              "    .dataframe thead th {\n",
              "        text-align: right;\n",
              "    }\n",
              "</style>\n",
              "<table border=\"1\" class=\"dataframe\">\n",
              "  <thead>\n",
              "    <tr style=\"text-align: right;\">\n",
              "      <th></th>\n",
              "      <th>wintoss_winmatch</th>\n",
              "    </tr>\n",
              "    <tr>\n",
              "      <th>season</th>\n",
              "      <th></th>\n",
              "    </tr>\n",
              "  </thead>\n",
              "  <tbody>\n",
              "    <tr>\n",
              "      <th>2008</th>\n",
              "      <td>0.482759</td>\n",
              "    </tr>\n",
              "    <tr>\n",
              "      <th>2009</th>\n",
              "      <td>0.578947</td>\n",
              "    </tr>\n",
              "    <tr>\n",
              "      <th>2010</th>\n",
              "      <td>0.516667</td>\n",
              "    </tr>\n",
              "    <tr>\n",
              "      <th>2011</th>\n",
              "      <td>0.520548</td>\n",
              "    </tr>\n",
              "    <tr>\n",
              "      <th>2012</th>\n",
              "      <td>0.445946</td>\n",
              "    </tr>\n",
              "    <tr>\n",
              "      <th>2013</th>\n",
              "      <td>0.473684</td>\n",
              "    </tr>\n",
              "    <tr>\n",
              "      <th>2014</th>\n",
              "      <td>0.500000</td>\n",
              "    </tr>\n",
              "    <tr>\n",
              "      <th>2015</th>\n",
              "      <td>0.474576</td>\n",
              "    </tr>\n",
              "    <tr>\n",
              "      <th>2016</th>\n",
              "      <td>0.566667</td>\n",
              "    </tr>\n",
              "    <tr>\n",
              "      <th>2017</th>\n",
              "      <td>0.576271</td>\n",
              "    </tr>\n",
              "  </tbody>\n",
              "</table>\n",
              "</div>"
            ],
            "text/plain": [
              "        wintoss_winmatch\n",
              "season                  \n",
              "2008    0.482759        \n",
              "2009    0.578947        \n",
              "2010    0.516667        \n",
              "2011    0.520548        \n",
              "2012    0.445946        \n",
              "2013    0.473684        \n",
              "2014    0.500000        \n",
              "2015    0.474576        \n",
              "2016    0.566667        \n",
              "2017    0.576271        "
            ]
          },
          "execution_count": 30,
          "metadata": {},
          "output_type": "execute_result"
        }
      ],
      "source": [
        "pd.DataFrame(mdf.groupby('season')['wintoss_winmatch'].sum()/mdf.groupby('season')['wintoss_winmatch'].count())"
      ]
    },
    {
      "cell_type": "code",
      "execution_count": null,
      "metadata": {
        "id": "K2Og3jnCT1oZ",
        "outputId": "0689a61b-fc91-47ea-d7fb-abb9386e5015"
      },
      "outputs": [
        {
          "data": {
            "text/html": [
              "<div>\n",
              "<style scoped>\n",
              "    .dataframe tbody tr th:only-of-type {\n",
              "        vertical-align: middle;\n",
              "    }\n",
              "\n",
              "    .dataframe tbody tr th {\n",
              "        vertical-align: top;\n",
              "    }\n",
              "\n",
              "    .dataframe thead th {\n",
              "        text-align: right;\n",
              "    }\n",
              "</style>\n",
              "<table border=\"1\" class=\"dataframe\">\n",
              "  <thead>\n",
              "    <tr style=\"text-align: right;\">\n",
              "      <th></th>\n",
              "      <th>id</th>\n",
              "      <th>season</th>\n",
              "      <th>city</th>\n",
              "      <th>date</th>\n",
              "      <th>team1</th>\n",
              "      <th>team2</th>\n",
              "      <th>toss_winner</th>\n",
              "      <th>toss_decision</th>\n",
              "      <th>result</th>\n",
              "      <th>dl_applied</th>\n",
              "      <th>winner</th>\n",
              "      <th>win_by_runs</th>\n",
              "      <th>win_by_wickets</th>\n",
              "      <th>player_of_match</th>\n",
              "      <th>venue</th>\n",
              "      <th>umpire1</th>\n",
              "      <th>umpire2</th>\n",
              "      <th>umpire3</th>\n",
              "      <th>wintoss_winmatch</th>\n",
              "    </tr>\n",
              "  </thead>\n",
              "  <tbody>\n",
              "    <tr>\n",
              "      <th>0</th>\n",
              "      <td>1</td>\n",
              "      <td>2017</td>\n",
              "      <td>Hyderabad</td>\n",
              "      <td>2017-04-05</td>\n",
              "      <td>Sunrisers Hyderabad</td>\n",
              "      <td>Royal Challengers Bangalore</td>\n",
              "      <td>Royal Challengers Bangalore</td>\n",
              "      <td>field</td>\n",
              "      <td>normal</td>\n",
              "      <td>0</td>\n",
              "      <td>Sunrisers Hyderabad</td>\n",
              "      <td>35</td>\n",
              "      <td>0</td>\n",
              "      <td>Yuvraj Singh</td>\n",
              "      <td>Rajiv Gandhi International Stadium, Uppal</td>\n",
              "      <td>AY Dandekar</td>\n",
              "      <td>NJ Llong</td>\n",
              "      <td>NaN</td>\n",
              "      <td>0</td>\n",
              "    </tr>\n",
              "    <tr>\n",
              "      <th>1</th>\n",
              "      <td>2</td>\n",
              "      <td>2017</td>\n",
              "      <td>Pune</td>\n",
              "      <td>2017-04-06</td>\n",
              "      <td>Mumbai Indians</td>\n",
              "      <td>Rising Pune Supergiant</td>\n",
              "      <td>Rising Pune Supergiant</td>\n",
              "      <td>field</td>\n",
              "      <td>normal</td>\n",
              "      <td>0</td>\n",
              "      <td>Rising Pune Supergiant</td>\n",
              "      <td>0</td>\n",
              "      <td>7</td>\n",
              "      <td>SPD Smith</td>\n",
              "      <td>Maharashtra Cricket Association Stadium</td>\n",
              "      <td>A Nand Kishore</td>\n",
              "      <td>S Ravi</td>\n",
              "      <td>NaN</td>\n",
              "      <td>1</td>\n",
              "    </tr>\n",
              "  </tbody>\n",
              "</table>\n",
              "</div>"
            ],
            "text/plain": [
              "   id  season       city        date                team1                        team2                  toss_winner toss_decision  result  dl_applied                  winner  win_by_runs  win_by_wickets player_of_match                                      venue         umpire1   umpire2  umpire3  wintoss_winmatch\n",
              "0  1   2017    Hyderabad  2017-04-05  Sunrisers Hyderabad  Royal Challengers Bangalore  Royal Challengers Bangalore  field         normal  0           Sunrisers Hyderabad     35           0               Yuvraj Singh    Rajiv Gandhi International Stadium, Uppal  AY Dandekar     NJ Llong NaN       0               \n",
              "1  2   2017    Pune       2017-04-06  Mumbai Indians       Rising Pune Supergiant       Rising Pune Supergiant       field         normal  0           Rising Pune Supergiant  0            7               SPD Smith       Maharashtra Cricket Association Stadium    A Nand Kishore  S Ravi   NaN       1               "
            ]
          },
          "execution_count": 31,
          "metadata": {},
          "output_type": "execute_result"
        }
      ],
      "source": [
        "mdf.head(2)"
      ]
    },
    {
      "cell_type": "code",
      "execution_count": null,
      "metadata": {
        "id": "mw1FV-gHT1oZ"
      },
      "outputs": [],
      "source": [
        "# venue = avg runs "
      ]
    },
    {
      "cell_type": "code",
      "execution_count": null,
      "metadata": {
        "id": "cr5FBa_lT1oZ",
        "outputId": "77404dba-9ab5-4be7-ce70-766ca528998f"
      },
      "outputs": [
        {
          "data": {
            "text/html": [
              "<div>\n",
              "<style scoped>\n",
              "    .dataframe tbody tr th:only-of-type {\n",
              "        vertical-align: middle;\n",
              "    }\n",
              "\n",
              "    .dataframe tbody tr th {\n",
              "        vertical-align: top;\n",
              "    }\n",
              "\n",
              "    .dataframe thead th {\n",
              "        text-align: right;\n",
              "    }\n",
              "</style>\n",
              "<table border=\"1\" class=\"dataframe\">\n",
              "  <thead>\n",
              "    <tr style=\"text-align: right;\">\n",
              "      <th></th>\n",
              "      <th>match_id</th>\n",
              "      <th>inning</th>\n",
              "      <th>batting_team</th>\n",
              "      <th>bowling_team</th>\n",
              "      <th>over</th>\n",
              "      <th>ball</th>\n",
              "      <th>batsman</th>\n",
              "      <th>non_striker</th>\n",
              "      <th>bowler</th>\n",
              "      <th>is_super_over</th>\n",
              "      <th>wide_runs</th>\n",
              "      <th>bye_runs</th>\n",
              "      <th>legbye_runs</th>\n",
              "      <th>noball_runs</th>\n",
              "      <th>penalty_runs</th>\n",
              "      <th>batsman_runs</th>\n",
              "      <th>extra_runs</th>\n",
              "      <th>total_runs</th>\n",
              "      <th>player_dismissed</th>\n",
              "      <th>dismissal_kind</th>\n",
              "      <th>fielder</th>\n",
              "      <th>isBowlerWk</th>\n",
              "    </tr>\n",
              "  </thead>\n",
              "  <tbody>\n",
              "    <tr>\n",
              "      <th>0</th>\n",
              "      <td>1</td>\n",
              "      <td>1</td>\n",
              "      <td>Sunrisers Hyderabad</td>\n",
              "      <td>Royal Challengers Bangalore</td>\n",
              "      <td>1</td>\n",
              "      <td>1</td>\n",
              "      <td>DA Warner</td>\n",
              "      <td>S Dhawan</td>\n",
              "      <td>TS Mills</td>\n",
              "      <td>0</td>\n",
              "      <td>0</td>\n",
              "      <td>0</td>\n",
              "      <td>0</td>\n",
              "      <td>0</td>\n",
              "      <td>0</td>\n",
              "      <td>0</td>\n",
              "      <td>0</td>\n",
              "      <td>0</td>\n",
              "      <td>NaN</td>\n",
              "      <td>NaN</td>\n",
              "      <td>NaN</td>\n",
              "      <td>0</td>\n",
              "    </tr>\n",
              "    <tr>\n",
              "      <th>1</th>\n",
              "      <td>1</td>\n",
              "      <td>1</td>\n",
              "      <td>Sunrisers Hyderabad</td>\n",
              "      <td>Royal Challengers Bangalore</td>\n",
              "      <td>1</td>\n",
              "      <td>2</td>\n",
              "      <td>DA Warner</td>\n",
              "      <td>S Dhawan</td>\n",
              "      <td>TS Mills</td>\n",
              "      <td>0</td>\n",
              "      <td>0</td>\n",
              "      <td>0</td>\n",
              "      <td>0</td>\n",
              "      <td>0</td>\n",
              "      <td>0</td>\n",
              "      <td>0</td>\n",
              "      <td>0</td>\n",
              "      <td>0</td>\n",
              "      <td>NaN</td>\n",
              "      <td>NaN</td>\n",
              "      <td>NaN</td>\n",
              "      <td>0</td>\n",
              "    </tr>\n",
              "  </tbody>\n",
              "</table>\n",
              "</div>"
            ],
            "text/plain": [
              "   match_id  inning         batting_team                 bowling_team  over  ball    batsman non_striker    bowler  is_super_over  wide_runs  bye_runs  legbye_runs  noball_runs  penalty_runs  batsman_runs  extra_runs  total_runs player_dismissed dismissal_kind fielder  isBowlerWk\n",
              "0  1         1       Sunrisers Hyderabad  Royal Challengers Bangalore  1     1     DA Warner  S Dhawan    TS Mills  0              0          0         0            0            0             0             0           0           NaN              NaN            NaN     0         \n",
              "1  1         1       Sunrisers Hyderabad  Royal Challengers Bangalore  1     2     DA Warner  S Dhawan    TS Mills  0              0          0         0            0            0             0             0           0           NaN              NaN            NaN     0         "
            ]
          },
          "execution_count": 33,
          "metadata": {},
          "output_type": "execute_result"
        }
      ],
      "source": [
        "df.head(2)"
      ]
    },
    {
      "cell_type": "code",
      "execution_count": null,
      "metadata": {
        "id": "DRPgU4qpT1oa"
      },
      "outputs": [],
      "source": [
        "mdf = mdf.rename(columns = {'id':'match_id'})"
      ]
    },
    {
      "cell_type": "code",
      "execution_count": null,
      "metadata": {
        "id": "8EVpFFIOT1oa",
        "outputId": "6b3f15f4-2a01-4a86-b12b-7f1b9ae568e0"
      },
      "outputs": [
        {
          "data": {
            "text/html": [
              "<div>\n",
              "<style scoped>\n",
              "    .dataframe tbody tr th:only-of-type {\n",
              "        vertical-align: middle;\n",
              "    }\n",
              "\n",
              "    .dataframe tbody tr th {\n",
              "        vertical-align: top;\n",
              "    }\n",
              "\n",
              "    .dataframe thead th {\n",
              "        text-align: right;\n",
              "    }\n",
              "</style>\n",
              "<table border=\"1\" class=\"dataframe\">\n",
              "  <thead>\n",
              "    <tr style=\"text-align: right;\">\n",
              "      <th></th>\n",
              "      <th>match_id</th>\n",
              "      <th>season</th>\n",
              "      <th>city</th>\n",
              "      <th>date</th>\n",
              "      <th>team1</th>\n",
              "      <th>team2</th>\n",
              "      <th>toss_winner</th>\n",
              "      <th>toss_decision</th>\n",
              "      <th>result</th>\n",
              "      <th>dl_applied</th>\n",
              "      <th>winner</th>\n",
              "      <th>win_by_runs</th>\n",
              "      <th>win_by_wickets</th>\n",
              "      <th>player_of_match</th>\n",
              "      <th>venue</th>\n",
              "      <th>umpire1</th>\n",
              "      <th>umpire2</th>\n",
              "      <th>umpire3</th>\n",
              "      <th>wintoss_winmatch</th>\n",
              "    </tr>\n",
              "  </thead>\n",
              "  <tbody>\n",
              "    <tr>\n",
              "      <th>0</th>\n",
              "      <td>1</td>\n",
              "      <td>2017</td>\n",
              "      <td>Hyderabad</td>\n",
              "      <td>2017-04-05</td>\n",
              "      <td>Sunrisers Hyderabad</td>\n",
              "      <td>Royal Challengers Bangalore</td>\n",
              "      <td>Royal Challengers Bangalore</td>\n",
              "      <td>field</td>\n",
              "      <td>normal</td>\n",
              "      <td>0</td>\n",
              "      <td>Sunrisers Hyderabad</td>\n",
              "      <td>35</td>\n",
              "      <td>0</td>\n",
              "      <td>Yuvraj Singh</td>\n",
              "      <td>Rajiv Gandhi International Stadium, Uppal</td>\n",
              "      <td>AY Dandekar</td>\n",
              "      <td>NJ Llong</td>\n",
              "      <td>NaN</td>\n",
              "      <td>0</td>\n",
              "    </tr>\n",
              "    <tr>\n",
              "      <th>1</th>\n",
              "      <td>2</td>\n",
              "      <td>2017</td>\n",
              "      <td>Pune</td>\n",
              "      <td>2017-04-06</td>\n",
              "      <td>Mumbai Indians</td>\n",
              "      <td>Rising Pune Supergiant</td>\n",
              "      <td>Rising Pune Supergiant</td>\n",
              "      <td>field</td>\n",
              "      <td>normal</td>\n",
              "      <td>0</td>\n",
              "      <td>Rising Pune Supergiant</td>\n",
              "      <td>0</td>\n",
              "      <td>7</td>\n",
              "      <td>SPD Smith</td>\n",
              "      <td>Maharashtra Cricket Association Stadium</td>\n",
              "      <td>A Nand Kishore</td>\n",
              "      <td>S Ravi</td>\n",
              "      <td>NaN</td>\n",
              "      <td>1</td>\n",
              "    </tr>\n",
              "  </tbody>\n",
              "</table>\n",
              "</div>"
            ],
            "text/plain": [
              "   match_id  season       city        date                team1                        team2                  toss_winner toss_decision  result  dl_applied                  winner  win_by_runs  win_by_wickets player_of_match                                      venue         umpire1   umpire2  umpire3  wintoss_winmatch\n",
              "0  1         2017    Hyderabad  2017-04-05  Sunrisers Hyderabad  Royal Challengers Bangalore  Royal Challengers Bangalore  field         normal  0           Sunrisers Hyderabad     35           0               Yuvraj Singh    Rajiv Gandhi International Stadium, Uppal  AY Dandekar     NJ Llong NaN       0               \n",
              "1  2         2017    Pune       2017-04-06  Mumbai Indians       Rising Pune Supergiant       Rising Pune Supergiant       field         normal  0           Rising Pune Supergiant  0            7               SPD Smith       Maharashtra Cricket Association Stadium    A Nand Kishore  S Ravi   NaN       1               "
            ]
          },
          "execution_count": 35,
          "metadata": {},
          "output_type": "execute_result"
        }
      ],
      "source": [
        "mdf.head(2)"
      ]
    },
    {
      "cell_type": "code",
      "execution_count": null,
      "metadata": {
        "id": "7CTDwDN_T1oa"
      },
      "outputs": [],
      "source": [
        "cdf = pd.merge(df, mdf, on = 'match_id', how = 'left')"
      ]
    },
    {
      "cell_type": "code",
      "execution_count": null,
      "metadata": {
        "id": "ENZbH2vhT1oa",
        "outputId": "0e5e8e0e-39ff-4e5d-c4af-f6bfcb35a583"
      },
      "outputs": [
        {
          "data": {
            "text/html": [
              "<div>\n",
              "<style scoped>\n",
              "    .dataframe tbody tr th:only-of-type {\n",
              "        vertical-align: middle;\n",
              "    }\n",
              "\n",
              "    .dataframe tbody tr th {\n",
              "        vertical-align: top;\n",
              "    }\n",
              "\n",
              "    .dataframe thead th {\n",
              "        text-align: right;\n",
              "    }\n",
              "</style>\n",
              "<table border=\"1\" class=\"dataframe\">\n",
              "  <thead>\n",
              "    <tr style=\"text-align: right;\">\n",
              "      <th></th>\n",
              "      <th>match_id</th>\n",
              "      <th>inning</th>\n",
              "      <th>batting_team</th>\n",
              "      <th>bowling_team</th>\n",
              "      <th>over</th>\n",
              "      <th>ball</th>\n",
              "      <th>batsman</th>\n",
              "      <th>non_striker</th>\n",
              "      <th>bowler</th>\n",
              "      <th>is_super_over</th>\n",
              "      <th>wide_runs</th>\n",
              "      <th>bye_runs</th>\n",
              "      <th>legbye_runs</th>\n",
              "      <th>noball_runs</th>\n",
              "      <th>penalty_runs</th>\n",
              "      <th>batsman_runs</th>\n",
              "      <th>extra_runs</th>\n",
              "      <th>total_runs</th>\n",
              "      <th>player_dismissed</th>\n",
              "      <th>dismissal_kind</th>\n",
              "      <th>fielder</th>\n",
              "      <th>isBowlerWk</th>\n",
              "      <th>season</th>\n",
              "      <th>city</th>\n",
              "      <th>date</th>\n",
              "      <th>team1</th>\n",
              "      <th>team2</th>\n",
              "      <th>toss_winner</th>\n",
              "      <th>toss_decision</th>\n",
              "      <th>result</th>\n",
              "      <th>dl_applied</th>\n",
              "      <th>winner</th>\n",
              "      <th>win_by_runs</th>\n",
              "      <th>win_by_wickets</th>\n",
              "      <th>player_of_match</th>\n",
              "      <th>venue</th>\n",
              "      <th>umpire1</th>\n",
              "      <th>umpire2</th>\n",
              "      <th>umpire3</th>\n",
              "      <th>wintoss_winmatch</th>\n",
              "    </tr>\n",
              "  </thead>\n",
              "  <tbody>\n",
              "    <tr>\n",
              "      <th>0</th>\n",
              "      <td>1</td>\n",
              "      <td>1</td>\n",
              "      <td>Sunrisers Hyderabad</td>\n",
              "      <td>Royal Challengers Bangalore</td>\n",
              "      <td>1</td>\n",
              "      <td>1</td>\n",
              "      <td>DA Warner</td>\n",
              "      <td>S Dhawan</td>\n",
              "      <td>TS Mills</td>\n",
              "      <td>0</td>\n",
              "      <td>0</td>\n",
              "      <td>0</td>\n",
              "      <td>0</td>\n",
              "      <td>0</td>\n",
              "      <td>0</td>\n",
              "      <td>0</td>\n",
              "      <td>0</td>\n",
              "      <td>0</td>\n",
              "      <td>NaN</td>\n",
              "      <td>NaN</td>\n",
              "      <td>NaN</td>\n",
              "      <td>0</td>\n",
              "      <td>2017</td>\n",
              "      <td>Hyderabad</td>\n",
              "      <td>2017-04-05</td>\n",
              "      <td>Sunrisers Hyderabad</td>\n",
              "      <td>Royal Challengers Bangalore</td>\n",
              "      <td>Royal Challengers Bangalore</td>\n",
              "      <td>field</td>\n",
              "      <td>normal</td>\n",
              "      <td>0</td>\n",
              "      <td>Sunrisers Hyderabad</td>\n",
              "      <td>35</td>\n",
              "      <td>0</td>\n",
              "      <td>Yuvraj Singh</td>\n",
              "      <td>Rajiv Gandhi International Stadium, Uppal</td>\n",
              "      <td>AY Dandekar</td>\n",
              "      <td>NJ Llong</td>\n",
              "      <td>NaN</td>\n",
              "      <td>0</td>\n",
              "    </tr>\n",
              "  </tbody>\n",
              "</table>\n",
              "</div>"
            ],
            "text/plain": [
              "   match_id  inning         batting_team                 bowling_team  over  ball    batsman non_striker    bowler  is_super_over  wide_runs  bye_runs  legbye_runs  noball_runs  penalty_runs  batsman_runs  extra_runs  total_runs player_dismissed dismissal_kind fielder  isBowlerWk  season       city        date                team1                        team2                  toss_winner toss_decision  result  dl_applied               winner  win_by_runs  win_by_wickets player_of_match                                      venue      umpire1   umpire2  umpire3  wintoss_winmatch\n",
              "0  1         1       Sunrisers Hyderabad  Royal Challengers Bangalore  1     1     DA Warner  S Dhawan    TS Mills  0              0          0         0            0            0             0             0           0           NaN              NaN            NaN     0           2017    Hyderabad  2017-04-05  Sunrisers Hyderabad  Royal Challengers Bangalore  Royal Challengers Bangalore  field         normal  0           Sunrisers Hyderabad  35           0               Yuvraj Singh    Rajiv Gandhi International Stadium, Uppal  AY Dandekar  NJ Llong NaN       0               "
            ]
          },
          "execution_count": 37,
          "metadata": {},
          "output_type": "execute_result"
        }
      ],
      "source": [
        "cdf.head(1)"
      ]
    },
    {
      "cell_type": "code",
      "execution_count": null,
      "metadata": {
        "id": "cpKskn6MT1ob"
      },
      "outputs": [],
      "source": [
        "vdf = pd.DataFrame(cdf.groupby(['venue'])['total_runs'].sum()/(cdf.groupby(['venue'])['match_id'].apply( lambda x: len(list(np.unique(x))))*2))"
      ]
    },
    {
      "cell_type": "code",
      "execution_count": null,
      "metadata": {
        "id": "0YbvtbQoT1ob"
      },
      "outputs": [],
      "source": [
        "vdf.columns = ['avg_runs']"
      ]
    },
    {
      "cell_type": "code",
      "execution_count": null,
      "metadata": {
        "id": "bx_sFFOyT1ob",
        "outputId": "6013f467-a7ae-4554-cc3c-a9681c234d85"
      },
      "outputs": [
        {
          "data": {
            "text/html": [
              "<div>\n",
              "<style scoped>\n",
              "    .dataframe tbody tr th:only-of-type {\n",
              "        vertical-align: middle;\n",
              "    }\n",
              "\n",
              "    .dataframe tbody tr th {\n",
              "        vertical-align: top;\n",
              "    }\n",
              "\n",
              "    .dataframe thead th {\n",
              "        text-align: right;\n",
              "    }\n",
              "</style>\n",
              "<table border=\"1\" class=\"dataframe\">\n",
              "  <thead>\n",
              "    <tr style=\"text-align: right;\">\n",
              "      <th></th>\n",
              "      <th>avg_runs</th>\n",
              "    </tr>\n",
              "    <tr>\n",
              "      <th>venue</th>\n",
              "      <th></th>\n",
              "    </tr>\n",
              "  </thead>\n",
              "  <tbody>\n",
              "    <tr>\n",
              "      <th>Brabourne Stadium</th>\n",
              "      <td>174.636364</td>\n",
              "    </tr>\n",
              "    <tr>\n",
              "      <th>Saurashtra Cricket Association Stadium</th>\n",
              "      <td>166.650000</td>\n",
              "    </tr>\n",
              "    <tr>\n",
              "      <th>Barabati Stadium</th>\n",
              "      <td>162.714286</td>\n",
              "    </tr>\n",
              "    <tr>\n",
              "      <th>Green Park</th>\n",
              "      <td>162.250000</td>\n",
              "    </tr>\n",
              "    <tr>\n",
              "      <th>Punjab Cricket Association IS Bindra Stadium, Mohali</th>\n",
              "      <td>161.136364</td>\n",
              "    </tr>\n",
              "  </tbody>\n",
              "</table>\n",
              "</div>"
            ],
            "text/plain": [
              "                                                        avg_runs\n",
              "venue                                                           \n",
              "Brabourne Stadium                                     174.636364\n",
              "Saurashtra Cricket Association Stadium                166.650000\n",
              "Barabati Stadium                                      162.714286\n",
              "Green Park                                            162.250000\n",
              "Punjab Cricket Association IS Bindra Stadium, Mohali  161.136364"
            ]
          },
          "execution_count": 40,
          "metadata": {},
          "output_type": "execute_result"
        }
      ],
      "source": [
        "vdf.sort_values('avg_runs', ascending = False).head(5)"
      ]
    },
    {
      "cell_type": "markdown",
      "metadata": {
        "id": "-pWtuDz4T1ob"
      },
      "source": [
        "### Ideas for venue analysis:\n",
        "- Avg runs in 1st/2nd\n",
        "- Avg winning score\n",
        "- Avg RPW\n",
        "- Avg scoring rate - RR"
      ]
    },
    {
      "cell_type": "markdown",
      "metadata": {
        "id": "I9YGRsLXT1oc"
      },
      "source": [
        "## Problem Statement:\n",
        "\n",
        "### What is the optimal bowling strategy in Chinnaswamy, Which type of bowlers to use & when (phase of play)?"
      ]
    },
    {
      "cell_type": "markdown",
      "metadata": {
        "id": "usX9w5rFT1oc"
      },
      "source": [
        "![image.png](attachment:image.png)"
      ]
    },
    {
      "cell_type": "code",
      "execution_count": null,
      "metadata": {
        "id": "EduocfMhT1oc"
      },
      "outputs": [],
      "source": [
        "# data preparation # applying math to that data"
      ]
    },
    {
      "cell_type": "code",
      "execution_count": null,
      "metadata": {
        "id": "FUligRjBT1oc"
      },
      "outputs": [],
      "source": [
        "def balls_per_dismissal(balls, dismissals):\n",
        "    if dismissals > 0:\n",
        "        return balls/dismissals\n",
        "    else:\n",
        "#         return math.inf\n",
        "        return balls/1\n",
        "    \n",
        "def runs_per_ball(runs_conceeded, balls):\n",
        "    if balls > 0:\n",
        "        return runs_conceeded/balls\n",
        "    else:\n",
        "        return 1000\n",
        "    \n",
        "def runs_per_dismissal(runs_conceeded, dismissals):\n",
        "    if dismissals > 0:\n",
        "        return runs_conceeded/dismissals\n",
        "    elif (runs_conceeded == 0):\n",
        "        return 1000\n",
        "    else:\n",
        "        return runs_conceeded/1"
      ]
    },
    {
      "cell_type": "code",
      "execution_count": null,
      "metadata": {
        "id": "F0cWv8mZT1od"
      },
      "outputs": [],
      "source": [
        "def ByCustom(df, current_phase, current_venue):\n",
        "    \n",
        "    df = df[df.phase == current_phase]\n",
        "    df = df[df.venue == current_venue]\n",
        "    df.reset_index(inplace = True, drop = True)\n",
        "\n",
        "    df['isDot'] = df['total_runs'].apply(lambda x: 1 if x == 0 else 0)\n",
        "    df['isOne'] = df['total_runs'].apply(lambda x: 1 if x == 1 else 0)\n",
        "    df['isTwo'] = df['total_runs'].apply(lambda x: 1 if x == 2 else 0)\n",
        "    df['isThree'] = df['total_runs'].apply(lambda x: 1 if x == 3 else 0)\n",
        "\n",
        "    df['isFour'] = df['batsman_runs'].apply(lambda x: 1 if x == 4 else 0)\n",
        "    df['isSix'] = df['batsman_runs'].apply(lambda x: 1 if x == 6 else 0)\n",
        "\n",
        "    runs = pd.DataFrame(df.groupby(['bowler'])['total_runs'].sum()).reset_index().rename(columns = {'total_runs':'runs'})\n",
        "    innings = pd.DataFrame(df.groupby(['bowler'])['match_id'].apply(lambda x: len(list(np.unique(x))))).reset_index().rename(columns = {'match_id':'innings'})\n",
        "    balls = pd.DataFrame(df.groupby(['bowler'])['match_id'].count()).reset_index().rename(columns = {'match_id':'balls'})\n",
        "    dismissals = pd.DataFrame(df.groupby(['bowler'])['isBowlerWk'].sum()).reset_index().rename(columns = {'isBowlerWk':'dismissals'})\n",
        "\n",
        "    dots = pd.DataFrame(df.groupby(['bowler'])['isDot'].sum()).reset_index().rename(columns = {'isDot':'dots'})\n",
        "    ones = pd.DataFrame(df.groupby(['bowler'])['isOne'].sum()).reset_index().rename(columns = {'isOne':'ones'})\n",
        "    twos = pd.DataFrame(df.groupby(['bowler'])['isTwo'].sum()).reset_index().rename(columns = {'isTwo':'twos'})\n",
        "    threes = pd.DataFrame(df.groupby(['bowler'])['isThree'].sum()).reset_index().rename(columns = {'isThree':'threes'})\n",
        "    fours = pd.DataFrame(df.groupby(['bowler'])['isFour'].sum()).reset_index().rename(columns = {'isFour':'fours'})\n",
        "    sixes = pd.DataFrame(df.groupby(['bowler'])['isSix'].sum()).reset_index().rename(columns = {'isSix':'sixes'})\n",
        "\n",
        "    df = pd.merge(innings, balls, on = 'bowler').merge(runs, on = 'bowler').merge(dismissals, on = 'bowler').merge(dots, on = 'bowler')\n",
        "    \n",
        "    df['dot%'] = df.apply(lambda x: 100*(x['dots']/x['balls']), axis = 1)\n",
        "    \n",
        "    # balls_per_dismissal, runs_per_ball, runs_per_dismissal\n",
        "    df['SR'] = df.apply(lambda x: balls_per_dismissal(x['balls'], x['dismissals']), axis = 1)\n",
        "    df['Eco'] = df.apply(lambda x: 6*runs_per_ball(x['runs'], x['balls']), axis = 1)\n",
        "    df['Avg'] = df.apply(lambda x: runs_per_dismissal(x['runs'], x['dismissals']), axis = 1)\n",
        "    \n",
        "    return df"
      ]
    },
    {
      "cell_type": "code",
      "execution_count": null,
      "metadata": {
        "id": "TexrgXkjT1od",
        "outputId": "ebd26030-295f-4e35-e331-3c82e818e4f6"
      },
      "outputs": [
        {
          "data": {
            "text/html": [
              "<div>\n",
              "<style scoped>\n",
              "    .dataframe tbody tr th:only-of-type {\n",
              "        vertical-align: middle;\n",
              "    }\n",
              "\n",
              "    .dataframe tbody tr th {\n",
              "        vertical-align: top;\n",
              "    }\n",
              "\n",
              "    .dataframe thead th {\n",
              "        text-align: right;\n",
              "    }\n",
              "</style>\n",
              "<table border=\"1\" class=\"dataframe\">\n",
              "  <thead>\n",
              "    <tr style=\"text-align: right;\">\n",
              "      <th></th>\n",
              "      <th>match_id</th>\n",
              "      <th>inning</th>\n",
              "      <th>batting_team</th>\n",
              "      <th>bowling_team</th>\n",
              "      <th>over</th>\n",
              "      <th>ball</th>\n",
              "      <th>batsman</th>\n",
              "      <th>non_striker</th>\n",
              "      <th>bowler</th>\n",
              "      <th>is_super_over</th>\n",
              "      <th>wide_runs</th>\n",
              "      <th>bye_runs</th>\n",
              "      <th>legbye_runs</th>\n",
              "      <th>noball_runs</th>\n",
              "      <th>penalty_runs</th>\n",
              "      <th>batsman_runs</th>\n",
              "      <th>extra_runs</th>\n",
              "      <th>total_runs</th>\n",
              "      <th>player_dismissed</th>\n",
              "      <th>dismissal_kind</th>\n",
              "      <th>fielder</th>\n",
              "      <th>isBowlerWk</th>\n",
              "      <th>season</th>\n",
              "      <th>city</th>\n",
              "      <th>date</th>\n",
              "      <th>team1</th>\n",
              "      <th>team2</th>\n",
              "      <th>toss_winner</th>\n",
              "      <th>toss_decision</th>\n",
              "      <th>result</th>\n",
              "      <th>dl_applied</th>\n",
              "      <th>winner</th>\n",
              "      <th>win_by_runs</th>\n",
              "      <th>win_by_wickets</th>\n",
              "      <th>player_of_match</th>\n",
              "      <th>venue</th>\n",
              "      <th>umpire1</th>\n",
              "      <th>umpire2</th>\n",
              "      <th>umpire3</th>\n",
              "      <th>wintoss_winmatch</th>\n",
              "    </tr>\n",
              "  </thead>\n",
              "  <tbody>\n",
              "    <tr>\n",
              "      <th>0</th>\n",
              "      <td>1</td>\n",
              "      <td>1</td>\n",
              "      <td>Sunrisers Hyderabad</td>\n",
              "      <td>Royal Challengers Bangalore</td>\n",
              "      <td>1</td>\n",
              "      <td>1</td>\n",
              "      <td>DA Warner</td>\n",
              "      <td>S Dhawan</td>\n",
              "      <td>TS Mills</td>\n",
              "      <td>0</td>\n",
              "      <td>0</td>\n",
              "      <td>0</td>\n",
              "      <td>0</td>\n",
              "      <td>0</td>\n",
              "      <td>0</td>\n",
              "      <td>0</td>\n",
              "      <td>0</td>\n",
              "      <td>0</td>\n",
              "      <td>NaN</td>\n",
              "      <td>NaN</td>\n",
              "      <td>NaN</td>\n",
              "      <td>0</td>\n",
              "      <td>2017</td>\n",
              "      <td>Hyderabad</td>\n",
              "      <td>2017-04-05</td>\n",
              "      <td>Sunrisers Hyderabad</td>\n",
              "      <td>Royal Challengers Bangalore</td>\n",
              "      <td>Royal Challengers Bangalore</td>\n",
              "      <td>field</td>\n",
              "      <td>normal</td>\n",
              "      <td>0</td>\n",
              "      <td>Sunrisers Hyderabad</td>\n",
              "      <td>35</td>\n",
              "      <td>0</td>\n",
              "      <td>Yuvraj Singh</td>\n",
              "      <td>Rajiv Gandhi International Stadium, Uppal</td>\n",
              "      <td>AY Dandekar</td>\n",
              "      <td>NJ Llong</td>\n",
              "      <td>NaN</td>\n",
              "      <td>0</td>\n",
              "    </tr>\n",
              "  </tbody>\n",
              "</table>\n",
              "</div>"
            ],
            "text/plain": [
              "   match_id  inning         batting_team                 bowling_team  over  ball    batsman non_striker    bowler  is_super_over  wide_runs  bye_runs  legbye_runs  noball_runs  penalty_runs  batsman_runs  extra_runs  total_runs player_dismissed dismissal_kind fielder  isBowlerWk  season       city        date                team1                        team2                  toss_winner toss_decision  result  dl_applied               winner  win_by_runs  win_by_wickets player_of_match                                      venue      umpire1   umpire2  umpire3  wintoss_winmatch\n",
              "0  1         1       Sunrisers Hyderabad  Royal Challengers Bangalore  1     1     DA Warner  S Dhawan    TS Mills  0              0          0         0            0            0             0             0           0           NaN              NaN            NaN     0           2017    Hyderabad  2017-04-05  Sunrisers Hyderabad  Royal Challengers Bangalore  Royal Challengers Bangalore  field         normal  0           Sunrisers Hyderabad  35           0               Yuvraj Singh    Rajiv Gandhi International Stadium, Uppal  AY Dandekar  NJ Llong NaN       0               "
            ]
          },
          "execution_count": 44,
          "metadata": {},
          "output_type": "execute_result"
        }
      ],
      "source": [
        "cdf.head(1)"
      ]
    },
    {
      "cell_type": "code",
      "execution_count": null,
      "metadata": {
        "id": "DHuaXYZpT1od"
      },
      "outputs": [],
      "source": [
        "cdf['over_no'] = cdf['over'].apply(lambda x: x-1)"
      ]
    },
    {
      "cell_type": "code",
      "execution_count": null,
      "metadata": {
        "id": "lfsUyEdAT1oe"
      },
      "outputs": [],
      "source": [
        "def get_phase(over_no):\n",
        "    if over_no < 6:\n",
        "        return 'Powerplay'\n",
        "    elif over_no < 15:\n",
        "        return 'Middle'\n",
        "    else:\n",
        "        return 'Death'"
      ]
    },
    {
      "cell_type": "code",
      "execution_count": null,
      "metadata": {
        "id": "VtukOaMkT1oe"
      },
      "outputs": [],
      "source": [
        "cdf['phase'] = cdf['over_no'].apply(lambda x:get_phase(x))"
      ]
    },
    {
      "cell_type": "code",
      "execution_count": null,
      "metadata": {
        "id": "Y3ZSlOcjT1oe",
        "outputId": "3af4d1d4-1696-411a-d8c9-b8c1b6962302"
      },
      "outputs": [
        {
          "data": {
            "text/html": [
              "<div>\n",
              "<style scoped>\n",
              "    .dataframe tbody tr th:only-of-type {\n",
              "        vertical-align: middle;\n",
              "    }\n",
              "\n",
              "    .dataframe tbody tr th {\n",
              "        vertical-align: top;\n",
              "    }\n",
              "\n",
              "    .dataframe thead th {\n",
              "        text-align: right;\n",
              "    }\n",
              "</style>\n",
              "<table border=\"1\" class=\"dataframe\">\n",
              "  <thead>\n",
              "    <tr style=\"text-align: right;\">\n",
              "      <th></th>\n",
              "      <th>match_id</th>\n",
              "      <th>inning</th>\n",
              "      <th>batting_team</th>\n",
              "      <th>bowling_team</th>\n",
              "      <th>over</th>\n",
              "      <th>ball</th>\n",
              "      <th>batsman</th>\n",
              "      <th>non_striker</th>\n",
              "      <th>bowler</th>\n",
              "      <th>is_super_over</th>\n",
              "      <th>wide_runs</th>\n",
              "      <th>bye_runs</th>\n",
              "      <th>legbye_runs</th>\n",
              "      <th>noball_runs</th>\n",
              "      <th>penalty_runs</th>\n",
              "      <th>batsman_runs</th>\n",
              "      <th>extra_runs</th>\n",
              "      <th>total_runs</th>\n",
              "      <th>player_dismissed</th>\n",
              "      <th>dismissal_kind</th>\n",
              "      <th>fielder</th>\n",
              "      <th>isBowlerWk</th>\n",
              "      <th>season</th>\n",
              "      <th>city</th>\n",
              "      <th>date</th>\n",
              "      <th>team1</th>\n",
              "      <th>team2</th>\n",
              "      <th>toss_winner</th>\n",
              "      <th>toss_decision</th>\n",
              "      <th>result</th>\n",
              "      <th>dl_applied</th>\n",
              "      <th>winner</th>\n",
              "      <th>win_by_runs</th>\n",
              "      <th>win_by_wickets</th>\n",
              "      <th>player_of_match</th>\n",
              "      <th>venue</th>\n",
              "      <th>umpire1</th>\n",
              "      <th>umpire2</th>\n",
              "      <th>umpire3</th>\n",
              "      <th>wintoss_winmatch</th>\n",
              "      <th>over_no</th>\n",
              "      <th>phase</th>\n",
              "    </tr>\n",
              "  </thead>\n",
              "  <tbody>\n",
              "    <tr>\n",
              "      <th>960</th>\n",
              "      <td>5</td>\n",
              "      <td>1</td>\n",
              "      <td>Royal Challengers Bangalore</td>\n",
              "      <td>Delhi Daredevils</td>\n",
              "      <td>1</td>\n",
              "      <td>1</td>\n",
              "      <td>CH Gayle</td>\n",
              "      <td>SR Watson</td>\n",
              "      <td>Z Khan</td>\n",
              "      <td>0</td>\n",
              "      <td>0</td>\n",
              "      <td>0</td>\n",
              "      <td>0</td>\n",
              "      <td>0</td>\n",
              "      <td>0</td>\n",
              "      <td>1</td>\n",
              "      <td>0</td>\n",
              "      <td>1</td>\n",
              "      <td>NaN</td>\n",
              "      <td>NaN</td>\n",
              "      <td>NaN</td>\n",
              "      <td>0</td>\n",
              "      <td>2017</td>\n",
              "      <td>Bangalore</td>\n",
              "      <td>2017-04-08</td>\n",
              "      <td>Royal Challengers Bangalore</td>\n",
              "      <td>Delhi Daredevils</td>\n",
              "      <td>Royal Challengers Bangalore</td>\n",
              "      <td>bat</td>\n",
              "      <td>normal</td>\n",
              "      <td>0</td>\n",
              "      <td>Royal Challengers Bangalore</td>\n",
              "      <td>15</td>\n",
              "      <td>0</td>\n",
              "      <td>KM Jadhav</td>\n",
              "      <td>M Chinnaswamy Stadium</td>\n",
              "      <td>NaN</td>\n",
              "      <td>NaN</td>\n",
              "      <td>NaN</td>\n",
              "      <td>1</td>\n",
              "      <td>0</td>\n",
              "      <td>Powerplay</td>\n",
              "    </tr>\n",
              "    <tr>\n",
              "      <th>961</th>\n",
              "      <td>5</td>\n",
              "      <td>1</td>\n",
              "      <td>Royal Challengers Bangalore</td>\n",
              "      <td>Delhi Daredevils</td>\n",
              "      <td>1</td>\n",
              "      <td>2</td>\n",
              "      <td>SR Watson</td>\n",
              "      <td>CH Gayle</td>\n",
              "      <td>Z Khan</td>\n",
              "      <td>0</td>\n",
              "      <td>0</td>\n",
              "      <td>0</td>\n",
              "      <td>0</td>\n",
              "      <td>0</td>\n",
              "      <td>0</td>\n",
              "      <td>4</td>\n",
              "      <td>0</td>\n",
              "      <td>4</td>\n",
              "      <td>NaN</td>\n",
              "      <td>NaN</td>\n",
              "      <td>NaN</td>\n",
              "      <td>0</td>\n",
              "      <td>2017</td>\n",
              "      <td>Bangalore</td>\n",
              "      <td>2017-04-08</td>\n",
              "      <td>Royal Challengers Bangalore</td>\n",
              "      <td>Delhi Daredevils</td>\n",
              "      <td>Royal Challengers Bangalore</td>\n",
              "      <td>bat</td>\n",
              "      <td>normal</td>\n",
              "      <td>0</td>\n",
              "      <td>Royal Challengers Bangalore</td>\n",
              "      <td>15</td>\n",
              "      <td>0</td>\n",
              "      <td>KM Jadhav</td>\n",
              "      <td>M Chinnaswamy Stadium</td>\n",
              "      <td>NaN</td>\n",
              "      <td>NaN</td>\n",
              "      <td>NaN</td>\n",
              "      <td>1</td>\n",
              "      <td>0</td>\n",
              "      <td>Powerplay</td>\n",
              "    </tr>\n",
              "  </tbody>\n",
              "</table>\n",
              "</div>"
            ],
            "text/plain": [
              "     match_id  inning                 batting_team      bowling_team  over  ball    batsman non_striker  bowler  is_super_over  wide_runs  bye_runs  legbye_runs  noball_runs  penalty_runs  batsman_runs  extra_runs  total_runs player_dismissed dismissal_kind fielder  isBowlerWk  season       city        date                        team1             team2                  toss_winner toss_decision  result  dl_applied                       winner  win_by_runs  win_by_wickets player_of_match                  venue umpire1 umpire2  umpire3  wintoss_winmatch  over_no      phase\n",
              "960  5         1       Royal Challengers Bangalore  Delhi Daredevils  1     1     CH Gayle   SR Watson   Z Khan  0              0          0         0            0            0             1             0           1           NaN              NaN            NaN     0           2017    Bangalore  2017-04-08  Royal Challengers Bangalore  Delhi Daredevils  Royal Challengers Bangalore  bat           normal  0           Royal Challengers Bangalore  15           0               KM Jadhav       M Chinnaswamy Stadium  NaN     NaN    NaN       1                 0        Powerplay\n",
              "961  5         1       Royal Challengers Bangalore  Delhi Daredevils  1     2     SR Watson  CH Gayle    Z Khan  0              0          0         0            0            0             4             0           4           NaN              NaN            NaN     0           2017    Bangalore  2017-04-08  Royal Challengers Bangalore  Delhi Daredevils  Royal Challengers Bangalore  bat           normal  0           Royal Challengers Bangalore  15           0               KM Jadhav       M Chinnaswamy Stadium  NaN     NaN    NaN       1                 0        Powerplay"
            ]
          },
          "execution_count": 48,
          "metadata": {},
          "output_type": "execute_result"
        }
      ],
      "source": [
        "cdf[(cdf['venue'] == 'M Chinnaswamy Stadium') & (cdf['phase'] == 'Powerplay')].head(2)"
      ]
    },
    {
      "cell_type": "code",
      "execution_count": null,
      "metadata": {
        "id": "I-lwbPTvT1oe"
      },
      "outputs": [],
      "source": [
        "df1 = ByCustom(cdf, 'Powerplay', 'M Chinnaswamy Stadium')\n",
        "df2 = ByCustom(cdf, 'Middle', 'M Chinnaswamy Stadium')\n",
        "df3 = ByCustom(cdf, 'Death', 'M Chinnaswamy Stadium')"
      ]
    },
    {
      "cell_type": "code",
      "execution_count": null,
      "metadata": {
        "id": "yYC-HCwcT1of",
        "outputId": "48f77750-1c99-4b4c-c5c1-6aef5612af18"
      },
      "outputs": [
        {
          "data": {
            "text/html": [
              "<div>\n",
              "<style scoped>\n",
              "    .dataframe tbody tr th:only-of-type {\n",
              "        vertical-align: middle;\n",
              "    }\n",
              "\n",
              "    .dataframe tbody tr th {\n",
              "        vertical-align: top;\n",
              "    }\n",
              "\n",
              "    .dataframe thead th {\n",
              "        text-align: right;\n",
              "    }\n",
              "</style>\n",
              "<table border=\"1\" class=\"dataframe\">\n",
              "  <thead>\n",
              "    <tr style=\"text-align: right;\">\n",
              "      <th></th>\n",
              "      <th>bowler</th>\n",
              "      <th>innings</th>\n",
              "      <th>balls</th>\n",
              "      <th>runs</th>\n",
              "      <th>dismissals</th>\n",
              "      <th>dots</th>\n",
              "      <th>dot%</th>\n",
              "      <th>SR</th>\n",
              "      <th>Eco</th>\n",
              "      <th>Avg</th>\n",
              "    </tr>\n",
              "  </thead>\n",
              "  <tbody>\n",
              "    <tr>\n",
              "      <th>0</th>\n",
              "      <td>A Chandila</td>\n",
              "      <td>1</td>\n",
              "      <td>6</td>\n",
              "      <td>4</td>\n",
              "      <td>0</td>\n",
              "      <td>3</td>\n",
              "      <td>50.000000</td>\n",
              "      <td>6.0</td>\n",
              "      <td>4.000000</td>\n",
              "      <td>4.0</td>\n",
              "    </tr>\n",
              "    <tr>\n",
              "      <th>1</th>\n",
              "      <td>A Choudhary</td>\n",
              "      <td>2</td>\n",
              "      <td>18</td>\n",
              "      <td>20</td>\n",
              "      <td>1</td>\n",
              "      <td>10</td>\n",
              "      <td>55.555556</td>\n",
              "      <td>18.0</td>\n",
              "      <td>6.666667</td>\n",
              "      <td>20.0</td>\n",
              "    </tr>\n",
              "    <tr>\n",
              "      <th>2</th>\n",
              "      <td>A Kumble</td>\n",
              "      <td>3</td>\n",
              "      <td>18</td>\n",
              "      <td>16</td>\n",
              "      <td>0</td>\n",
              "      <td>9</td>\n",
              "      <td>50.000000</td>\n",
              "      <td>18.0</td>\n",
              "      <td>5.333333</td>\n",
              "      <td>16.0</td>\n",
              "    </tr>\n",
              "  </tbody>\n",
              "</table>\n",
              "</div>"
            ],
            "text/plain": [
              "        bowler  innings  balls  runs  dismissals  dots       dot%    SR       Eco   Avg\n",
              "0  A Chandila   1        6      4     0           3     50.000000  6.0   4.000000  4.0 \n",
              "1  A Choudhary  2        18     20    1           10    55.555556  18.0  6.666667  20.0\n",
              "2  A Kumble     3        18     16    0           9     50.000000  18.0  5.333333  16.0"
            ]
          },
          "execution_count": 89,
          "metadata": {},
          "output_type": "execute_result"
        }
      ],
      "source": [
        "df1.head(3)"
      ]
    },
    {
      "cell_type": "code",
      "execution_count": null,
      "metadata": {
        "id": "fetRXAk7T1of",
        "outputId": "fe989686-14f5-42b6-e03f-4fa63b7d1bda"
      },
      "outputs": [
        {
          "data": {
            "text/html": [
              "<div>\n",
              "<style scoped>\n",
              "    .dataframe tbody tr th:only-of-type {\n",
              "        vertical-align: middle;\n",
              "    }\n",
              "\n",
              "    .dataframe tbody tr th {\n",
              "        vertical-align: top;\n",
              "    }\n",
              "\n",
              "    .dataframe thead th {\n",
              "        text-align: right;\n",
              "    }\n",
              "</style>\n",
              "<table border=\"1\" class=\"dataframe\">\n",
              "  <thead>\n",
              "    <tr style=\"text-align: right;\">\n",
              "      <th></th>\n",
              "      <th>bowler</th>\n",
              "      <th>innings</th>\n",
              "      <th>balls</th>\n",
              "      <th>runs</th>\n",
              "      <th>dismissals</th>\n",
              "      <th>dots</th>\n",
              "      <th>dot%</th>\n",
              "      <th>SR</th>\n",
              "      <th>Eco</th>\n",
              "      <th>Avg</th>\n",
              "    </tr>\n",
              "  </thead>\n",
              "  <tbody>\n",
              "    <tr>\n",
              "      <th>0</th>\n",
              "      <td>A Ashish Reddy</td>\n",
              "      <td>3</td>\n",
              "      <td>36</td>\n",
              "      <td>62</td>\n",
              "      <td>0</td>\n",
              "      <td>12</td>\n",
              "      <td>33.333333</td>\n",
              "      <td>36.0</td>\n",
              "      <td>10.333333</td>\n",
              "      <td>62.0</td>\n",
              "    </tr>\n",
              "    <tr>\n",
              "      <th>1</th>\n",
              "      <td>A Chandila</td>\n",
              "      <td>1</td>\n",
              "      <td>12</td>\n",
              "      <td>11</td>\n",
              "      <td>0</td>\n",
              "      <td>6</td>\n",
              "      <td>50.000000</td>\n",
              "      <td>12.0</td>\n",
              "      <td>5.500000</td>\n",
              "      <td>11.0</td>\n",
              "    </tr>\n",
              "    <tr>\n",
              "      <th>2</th>\n",
              "      <td>A Choudhary</td>\n",
              "      <td>2</td>\n",
              "      <td>25</td>\n",
              "      <td>26</td>\n",
              "      <td>1</td>\n",
              "      <td>12</td>\n",
              "      <td>48.000000</td>\n",
              "      <td>25.0</td>\n",
              "      <td>6.240000</td>\n",
              "      <td>26.0</td>\n",
              "    </tr>\n",
              "  </tbody>\n",
              "</table>\n",
              "</div>"
            ],
            "text/plain": [
              "           bowler  innings  balls  runs  dismissals  dots       dot%    SR        Eco   Avg\n",
              "0  A Ashish Reddy  3        36     62    0           12    33.333333  36.0  10.333333  62.0\n",
              "1  A Chandila      1        12     11    0           6     50.000000  12.0  5.500000   11.0\n",
              "2  A Choudhary     2        25     26    1           12    48.000000  25.0  6.240000   26.0"
            ]
          },
          "execution_count": 90,
          "metadata": {},
          "output_type": "execute_result"
        }
      ],
      "source": [
        "df2.head(3)"
      ]
    },
    {
      "cell_type": "code",
      "execution_count": null,
      "metadata": {
        "id": "Pcj8BYOIT1of",
        "outputId": "759733bd-40a8-419c-c8e9-876297a6e605"
      },
      "outputs": [
        {
          "data": {
            "text/html": [
              "<div>\n",
              "<style scoped>\n",
              "    .dataframe tbody tr th:only-of-type {\n",
              "        vertical-align: middle;\n",
              "    }\n",
              "\n",
              "    .dataframe tbody tr th {\n",
              "        vertical-align: top;\n",
              "    }\n",
              "\n",
              "    .dataframe thead th {\n",
              "        text-align: right;\n",
              "    }\n",
              "</style>\n",
              "<table border=\"1\" class=\"dataframe\">\n",
              "  <thead>\n",
              "    <tr style=\"text-align: right;\">\n",
              "      <th></th>\n",
              "      <th>bowler</th>\n",
              "      <th>innings</th>\n",
              "      <th>balls</th>\n",
              "      <th>runs</th>\n",
              "      <th>dismissals</th>\n",
              "      <th>dots</th>\n",
              "      <th>dot%</th>\n",
              "      <th>SR</th>\n",
              "      <th>Eco</th>\n",
              "      <th>Avg</th>\n",
              "    </tr>\n",
              "  </thead>\n",
              "  <tbody>\n",
              "    <tr>\n",
              "      <th>0</th>\n",
              "      <td>A Ashish Reddy</td>\n",
              "      <td>2</td>\n",
              "      <td>12</td>\n",
              "      <td>24</td>\n",
              "      <td>2</td>\n",
              "      <td>3</td>\n",
              "      <td>25.000000</td>\n",
              "      <td>6.0</td>\n",
              "      <td>12.0</td>\n",
              "      <td>12.0</td>\n",
              "    </tr>\n",
              "    <tr>\n",
              "      <th>1</th>\n",
              "      <td>A Chandila</td>\n",
              "      <td>1</td>\n",
              "      <td>6</td>\n",
              "      <td>6</td>\n",
              "      <td>0</td>\n",
              "      <td>1</td>\n",
              "      <td>16.666667</td>\n",
              "      <td>6.0</td>\n",
              "      <td>6.0</td>\n",
              "      <td>6.0</td>\n",
              "    </tr>\n",
              "    <tr>\n",
              "      <th>2</th>\n",
              "      <td>A Choudhary</td>\n",
              "      <td>1</td>\n",
              "      <td>12</td>\n",
              "      <td>11</td>\n",
              "      <td>1</td>\n",
              "      <td>6</td>\n",
              "      <td>50.000000</td>\n",
              "      <td>12.0</td>\n",
              "      <td>5.5</td>\n",
              "      <td>11.0</td>\n",
              "    </tr>\n",
              "  </tbody>\n",
              "</table>\n",
              "</div>"
            ],
            "text/plain": [
              "           bowler  innings  balls  runs  dismissals  dots       dot%    SR   Eco   Avg\n",
              "0  A Ashish Reddy  2        12     24    2           3     25.000000  6.0   12.0  12.0\n",
              "1  A Chandila      1        6      6     0           1     16.666667  6.0   6.0   6.0 \n",
              "2  A Choudhary     1        12     11    1           6     50.000000  12.0  5.5   11.0"
            ]
          },
          "execution_count": 91,
          "metadata": {},
          "output_type": "execute_result"
        }
      ],
      "source": [
        "df3.head(3)"
      ]
    },
    {
      "cell_type": "markdown",
      "metadata": {
        "id": "QLbzH12gT1of"
      },
      "source": [
        "## Determine weights: Saaty scale & Pair wise matrix"
      ]
    },
    {
      "cell_type": "markdown",
      "metadata": {
        "id": "1vFxYBb9T1og"
      },
      "source": [
        "![image.png](attachment:image.png)"
      ]
    },
    {
      "cell_type": "markdown",
      "metadata": {
        "id": "RLkxuykOT1og"
      },
      "source": [
        "![image.png](attachment:image.png)"
      ]
    },
    {
      "cell_type": "code",
      "execution_count": null,
      "metadata": {
        "id": "wNvCIhLZT1og",
        "outputId": "86040aec-4ce6-4d75-cec5-13de59c11514"
      },
      "outputs": [
        {
          "data": {
            "text/plain": [
              "(7.880727610278703, 8.098557438590072, 10.39577571395939)"
            ]
          },
          "execution_count": 92,
          "metadata": {},
          "output_type": "execute_result"
        }
      ],
      "source": [
        "np.mean(df1['Eco']), np.mean(df2['Eco']), np.mean(df3['Eco'])"
      ]
    },
    {
      "cell_type": "code",
      "execution_count": null,
      "metadata": {
        "id": "6X5ew3R0T1og",
        "outputId": "b372fafa-e848-4db9-84a9-14996ea732b0"
      },
      "outputs": [
        {
          "data": {
            "text/plain": [
              "(43.52129824368557, 30.202226418384537, 27.222467690254046)"
            ]
          },
          "execution_count": 93,
          "metadata": {},
          "output_type": "execute_result"
        }
      ],
      "source": [
        "np.mean(df1['dot%']), np.mean(df2['dot%']), np.mean(df3['dot%'])"
      ]
    },
    {
      "cell_type": "code",
      "execution_count": null,
      "metadata": {
        "id": "keI9wDVoT1oh",
        "outputId": "96e95a3c-38b2-4018-b289-d22d51ad622f"
      },
      "outputs": [
        {
          "data": {
            "text/plain": [
              "(18.789244663382593, 19.814663643235072, 11.030187777590374)"
            ]
          },
          "execution_count": 94,
          "metadata": {},
          "output_type": "execute_result"
        }
      ],
      "source": [
        "np.mean(df1['SR']), np.mean(df2['SR']), np.mean(df3['SR'])"
      ]
    },
    {
      "cell_type": "code",
      "execution_count": null,
      "metadata": {
        "id": "Nw_y8aI-T1oh",
        "outputId": "cf51c7a8-76c3-4f75-ced3-96709354bd13"
      },
      "outputs": [
        {
          "data": {
            "text/plain": [
              "(23.60303776683087, 27.342419617419615, 19.353547534716366)"
            ]
          },
          "execution_count": 95,
          "metadata": {},
          "output_type": "execute_result"
        }
      ],
      "source": [
        "np.mean(df1['Avg']), np.mean(df2['Avg']), np.mean(df3['Avg'])"
      ]
    },
    {
      "cell_type": "code",
      "execution_count": null,
      "metadata": {
        "id": "D5j-1zRsT1oh"
      },
      "outputs": [],
      "source": [
        "# scaling techniques:\n",
        "\n",
        "# normalization - [0, 1] - ex: Eco (1, 8) => [0, 1]\n",
        "# standardization - (mean = 0, std = 1) Zscore = (x-m)/s"
      ]
    },
    {
      "cell_type": "code",
      "execution_count": null,
      "metadata": {
        "id": "MW9uUfNmT1oh"
      },
      "outputs": [],
      "source": [
        "# norm:\n",
        "# max_val\n",
        "# min_val\n",
        "# x\n",
        "\n",
        "# minmax(x) = (x - min_val)/(max_val - min_val) => x == max_val (1), x == min_val (0)"
      ]
    },
    {
      "cell_type": "code",
      "execution_count": null,
      "metadata": {
        "id": "ZAaueSi1T1oi"
      },
      "outputs": [],
      "source": [
        "ls1 = [0, 2, 6, 7, 15]"
      ]
    },
    {
      "cell_type": "code",
      "execution_count": null,
      "metadata": {
        "id": "fteJ8x7vT1oi"
      },
      "outputs": [],
      "source": [
        "min_val = min(ls1)\n",
        "max_val = max(ls1)\n",
        "\n",
        "ls2 = [(x-min_val)/(max_val - min_val) for x in ls1]"
      ]
    },
    {
      "cell_type": "code",
      "execution_count": null,
      "metadata": {
        "id": "AOU5VYwyT1oi",
        "outputId": "67e5de66-8987-47f3-92dc-607c0cbad56a"
      },
      "outputs": [
        {
          "data": {
            "text/plain": [
              "[0.0, 0.13333333333333333, 0.4, 0.4666666666666667, 1.0]"
            ]
          },
          "execution_count": 101,
          "metadata": {},
          "output_type": "execute_result"
        }
      ],
      "source": [
        "ls2"
      ]
    },
    {
      "cell_type": "code",
      "execution_count": null,
      "metadata": {
        "id": "26VWVUoYT1oi"
      },
      "outputs": [],
      "source": [
        "df1 = df1[df1.balls >= 25]"
      ]
    },
    {
      "cell_type": "code",
      "execution_count": null,
      "metadata": {
        "id": "01h5HZYwT1oj"
      },
      "outputs": [],
      "source": [
        "max_val = max(df1['dot%'])\n",
        "min_val = min(df1['dot%'])\n",
        "\n",
        "df1['mx_dot%'] = df1['dot%'].apply(lambda x: (x-min_val)/(max_val - min_val))"
      ]
    },
    {
      "cell_type": "code",
      "execution_count": null,
      "metadata": {
        "id": "INZcK_YFT1oj"
      },
      "outputs": [],
      "source": [
        "max_val = max(df1['Eco'])\n",
        "min_val = min(df1['Eco'])\n",
        "\n",
        "df1['mx_Eco'] = df1['Eco'].apply(lambda x: (x-min_val)/(max_val - min_val))"
      ]
    },
    {
      "cell_type": "code",
      "execution_count": null,
      "metadata": {
        "id": "MlrSVZf4T1oj"
      },
      "outputs": [],
      "source": [
        "max_val = max(df1['SR'])\n",
        "min_val = min(df1['SR'])\n",
        "\n",
        "df1['mx_SR'] = df1['SR'].apply(lambda x: (x-min_val)/(max_val - min_val))"
      ]
    },
    {
      "cell_type": "code",
      "execution_count": null,
      "metadata": {
        "id": "TDdf0EJAT1oj"
      },
      "outputs": [],
      "source": [
        "max_val = max(df1['Avg'])\n",
        "min_val = min(df1['Avg'])\n",
        "\n",
        "df1['mx_Avg'] = df1['Avg'].apply(lambda x: (x-min_val)/(max_val - min_val))"
      ]
    },
    {
      "cell_type": "code",
      "execution_count": null,
      "metadata": {
        "id": "lUvC3nk-T1on"
      },
      "outputs": [],
      "source": [
        "df1['minmax_score'] = df1.apply(lambda x: x['mx_dot%']*0.13 + x['mx_Eco']*0.16 + x['mx_SR']*0.35 + x['mx_Avg']*0.35, axis = 1)"
      ]
    },
    {
      "cell_type": "code",
      "execution_count": null,
      "metadata": {
        "id": "TVmJ3RPtT1on",
        "outputId": "5894c13f-2b42-46db-c372-d92a6cd0f131"
      },
      "outputs": [
        {
          "data": {
            "text/html": [
              "<div>\n",
              "<style scoped>\n",
              "    .dataframe tbody tr th:only-of-type {\n",
              "        vertical-align: middle;\n",
              "    }\n",
              "\n",
              "    .dataframe tbody tr th {\n",
              "        vertical-align: top;\n",
              "    }\n",
              "\n",
              "    .dataframe thead th {\n",
              "        text-align: right;\n",
              "    }\n",
              "</style>\n",
              "<table border=\"1\" class=\"dataframe\">\n",
              "  <thead>\n",
              "    <tr style=\"text-align: right;\">\n",
              "      <th></th>\n",
              "      <th>bowler</th>\n",
              "      <th>innings</th>\n",
              "      <th>balls</th>\n",
              "      <th>runs</th>\n",
              "      <th>dismissals</th>\n",
              "      <th>dots</th>\n",
              "      <th>dot%</th>\n",
              "      <th>SR</th>\n",
              "      <th>Eco</th>\n",
              "      <th>Avg</th>\n",
              "      <th>mx_dot%</th>\n",
              "      <th>mx_Eco</th>\n",
              "      <th>mx_SR</th>\n",
              "      <th>mx_Avg</th>\n",
              "      <th>minmax_score</th>\n",
              "    </tr>\n",
              "  </thead>\n",
              "  <tbody>\n",
              "    <tr>\n",
              "      <th>63</th>\n",
              "      <td>JJ Bumrah</td>\n",
              "      <td>4</td>\n",
              "      <td>34</td>\n",
              "      <td>22</td>\n",
              "      <td>3</td>\n",
              "      <td>22</td>\n",
              "      <td>64.705882</td>\n",
              "      <td>11.333333</td>\n",
              "      <td>3.882353</td>\n",
              "      <td>7.333333</td>\n",
              "      <td>0.754230</td>\n",
              "      <td>0.039216</td>\n",
              "      <td>0.018476</td>\n",
              "      <td>0.001083</td>\n",
              "      <td>0.111170</td>\n",
              "    </tr>\n",
              "    <tr>\n",
              "      <th>126</th>\n",
              "      <td>SP Narine</td>\n",
              "      <td>6</td>\n",
              "      <td>36</td>\n",
              "      <td>24</td>\n",
              "      <td>2</td>\n",
              "      <td>22</td>\n",
              "      <td>61.111111</td>\n",
              "      <td>18.000000</td>\n",
              "      <td>4.000000</td>\n",
              "      <td>12.000000</td>\n",
              "      <td>0.680365</td>\n",
              "      <td>0.055556</td>\n",
              "      <td>0.053910</td>\n",
              "      <td>0.027620</td>\n",
              "      <td>0.125872</td>\n",
              "    </tr>\n",
              "    <tr>\n",
              "      <th>42</th>\n",
              "      <td>DS Kulkarni</td>\n",
              "      <td>4</td>\n",
              "      <td>55</td>\n",
              "      <td>50</td>\n",
              "      <td>7</td>\n",
              "      <td>33</td>\n",
              "      <td>60.000000</td>\n",
              "      <td>7.857143</td>\n",
              "      <td>5.454545</td>\n",
              "      <td>7.142857</td>\n",
              "      <td>0.657534</td>\n",
              "      <td>0.257576</td>\n",
              "      <td>0.000000</td>\n",
              "      <td>0.000000</td>\n",
              "      <td>0.126692</td>\n",
              "    </tr>\n",
              "    <tr>\n",
              "      <th>62</th>\n",
              "      <td>JH Kallis</td>\n",
              "      <td>12</td>\n",
              "      <td>100</td>\n",
              "      <td>105</td>\n",
              "      <td>6</td>\n",
              "      <td>44</td>\n",
              "      <td>44.000000</td>\n",
              "      <td>16.666667</td>\n",
              "      <td>6.300000</td>\n",
              "      <td>17.500000</td>\n",
              "      <td>0.328767</td>\n",
              "      <td>0.375000</td>\n",
              "      <td>0.046824</td>\n",
              "      <td>0.058895</td>\n",
              "      <td>0.139741</td>\n",
              "    </tr>\n",
              "    <tr>\n",
              "      <th>60</th>\n",
              "      <td>JDP Oram</td>\n",
              "      <td>2</td>\n",
              "      <td>27</td>\n",
              "      <td>22</td>\n",
              "      <td>0</td>\n",
              "      <td>13</td>\n",
              "      <td>48.148148</td>\n",
              "      <td>27.000000</td>\n",
              "      <td>4.888889</td>\n",
              "      <td>22.000000</td>\n",
              "      <td>0.414003</td>\n",
              "      <td>0.179012</td>\n",
              "      <td>0.101746</td>\n",
              "      <td>0.084484</td>\n",
              "      <td>0.147643</td>\n",
              "    </tr>\n",
              "    <tr>\n",
              "      <th>8</th>\n",
              "      <td>AB Dinda</td>\n",
              "      <td>8</td>\n",
              "      <td>109</td>\n",
              "      <td>113</td>\n",
              "      <td>5</td>\n",
              "      <td>44</td>\n",
              "      <td>40.366972</td>\n",
              "      <td>21.800000</td>\n",
              "      <td>6.220183</td>\n",
              "      <td>22.600000</td>\n",
              "      <td>0.254116</td>\n",
              "      <td>0.363914</td>\n",
              "      <td>0.074108</td>\n",
              "      <td>0.087896</td>\n",
              "      <td>0.147963</td>\n",
              "    </tr>\n",
              "    <tr>\n",
              "      <th>39</th>\n",
              "      <td>DL Vettori</td>\n",
              "      <td>4</td>\n",
              "      <td>30</td>\n",
              "      <td>35</td>\n",
              "      <td>2</td>\n",
              "      <td>13</td>\n",
              "      <td>43.333333</td>\n",
              "      <td>15.000000</td>\n",
              "      <td>7.000000</td>\n",
              "      <td>17.500000</td>\n",
              "      <td>0.315068</td>\n",
              "      <td>0.472222</td>\n",
              "      <td>0.037965</td>\n",
              "      <td>0.058895</td>\n",
              "      <td>0.150416</td>\n",
              "    </tr>\n",
              "    <tr>\n",
              "      <th>117</th>\n",
              "      <td>S Sreesanth</td>\n",
              "      <td>3</td>\n",
              "      <td>42</td>\n",
              "      <td>35</td>\n",
              "      <td>2</td>\n",
              "      <td>24</td>\n",
              "      <td>57.142857</td>\n",
              "      <td>21.000000</td>\n",
              "      <td>5.000000</td>\n",
              "      <td>17.500000</td>\n",
              "      <td>0.598826</td>\n",
              "      <td>0.194444</td>\n",
              "      <td>0.069856</td>\n",
              "      <td>0.058895</td>\n",
              "      <td>0.154021</td>\n",
              "    </tr>\n",
              "    <tr>\n",
              "      <th>3</th>\n",
              "      <td>A Mithun</td>\n",
              "      <td>3</td>\n",
              "      <td>25</td>\n",
              "      <td>30</td>\n",
              "      <td>0</td>\n",
              "      <td>7</td>\n",
              "      <td>28.000000</td>\n",
              "      <td>25.000000</td>\n",
              "      <td>7.200000</td>\n",
              "      <td>30.000000</td>\n",
              "      <td>0.000000</td>\n",
              "      <td>0.500000</td>\n",
              "      <td>0.091116</td>\n",
              "      <td>0.129976</td>\n",
              "      <td>0.157382</td>\n",
              "    </tr>\n",
              "    <tr>\n",
              "      <th>111</th>\n",
              "      <td>S Aravind</td>\n",
              "      <td>19</td>\n",
              "      <td>248</td>\n",
              "      <td>273</td>\n",
              "      <td>14</td>\n",
              "      <td>116</td>\n",
              "      <td>46.774194</td>\n",
              "      <td>17.714286</td>\n",
              "      <td>6.604839</td>\n",
              "      <td>19.500000</td>\n",
              "      <td>0.385771</td>\n",
              "      <td>0.417339</td>\n",
              "      <td>0.052392</td>\n",
              "      <td>0.070268</td>\n",
              "      <td>0.159855</td>\n",
              "    </tr>\n",
              "  </tbody>\n",
              "</table>\n",
              "</div>"
            ],
            "text/plain": [
              "          bowler  innings  balls  runs  dismissals  dots       dot%         SR       Eco        Avg   mx_dot%    mx_Eco     mx_SR    mx_Avg  minmax_score\n",
              "63   JJ Bumrah    4        34     22    3           22    64.705882  11.333333  3.882353  7.333333   0.754230  0.039216  0.018476  0.001083  0.111170    \n",
              "126  SP Narine    6        36     24    2           22    61.111111  18.000000  4.000000  12.000000  0.680365  0.055556  0.053910  0.027620  0.125872    \n",
              "42   DS Kulkarni  4        55     50    7           33    60.000000  7.857143   5.454545  7.142857   0.657534  0.257576  0.000000  0.000000  0.126692    \n",
              "62   JH Kallis    12       100    105   6           44    44.000000  16.666667  6.300000  17.500000  0.328767  0.375000  0.046824  0.058895  0.139741    \n",
              "60   JDP Oram     2        27     22    0           13    48.148148  27.000000  4.888889  22.000000  0.414003  0.179012  0.101746  0.084484  0.147643    \n",
              "8    AB Dinda     8        109    113   5           44    40.366972  21.800000  6.220183  22.600000  0.254116  0.363914  0.074108  0.087896  0.147963    \n",
              "39   DL Vettori   4        30     35    2           13    43.333333  15.000000  7.000000  17.500000  0.315068  0.472222  0.037965  0.058895  0.150416    \n",
              "117  S Sreesanth  3        42     35    2           24    57.142857  21.000000  5.000000  17.500000  0.598826  0.194444  0.069856  0.058895  0.154021    \n",
              "3    A Mithun     3        25     30    0           7     28.000000  25.000000  7.200000  30.000000  0.000000  0.500000  0.091116  0.129976  0.157382    \n",
              "111  S Aravind    19       248    273   14          116   46.774194  17.714286  6.604839  19.500000  0.385771  0.417339  0.052392  0.070268  0.159855    "
            ]
          },
          "execution_count": 112,
          "metadata": {},
          "output_type": "execute_result"
        }
      ],
      "source": [
        "df1.sort_values('minmax_score', ascending = True).head(10)"
      ]
    },
    {
      "cell_type": "code",
      "execution_count": null,
      "metadata": {
        "id": "qusOVWQaT1oo"
      },
      "outputs": [],
      "source": [
        "mean_val = np.mean(df1['Eco'])\n",
        "std_val = np.std(df1['Eco'])\n",
        "\n",
        "df1['z_Eco'] = df1['Eco'].apply(lambda x: (x - mean_val)/std_val)"
      ]
    },
    {
      "cell_type": "code",
      "execution_count": null,
      "metadata": {
        "id": "Cou_Y0QIT1oo",
        "outputId": "518e9892-4a3e-4533-e9ab-09a9e4e3d29f"
      },
      "outputs": [
        {
          "data": {
            "text/html": [
              "<div>\n",
              "<style scoped>\n",
              "    .dataframe tbody tr th:only-of-type {\n",
              "        vertical-align: middle;\n",
              "    }\n",
              "\n",
              "    .dataframe tbody tr th {\n",
              "        vertical-align: top;\n",
              "    }\n",
              "\n",
              "    .dataframe thead th {\n",
              "        text-align: right;\n",
              "    }\n",
              "</style>\n",
              "<table border=\"1\" class=\"dataframe\">\n",
              "  <thead>\n",
              "    <tr style=\"text-align: right;\">\n",
              "      <th></th>\n",
              "      <th>bowler</th>\n",
              "      <th>innings</th>\n",
              "      <th>balls</th>\n",
              "      <th>runs</th>\n",
              "      <th>dismissals</th>\n",
              "      <th>dots</th>\n",
              "      <th>dot%</th>\n",
              "      <th>SR</th>\n",
              "      <th>Eco</th>\n",
              "      <th>Avg</th>\n",
              "      <th>mx_dot%</th>\n",
              "      <th>mx_Eco</th>\n",
              "      <th>mx_SR</th>\n",
              "      <th>mx_Avg</th>\n",
              "      <th>minmax_score</th>\n",
              "      <th>z_Eco</th>\n",
              "    </tr>\n",
              "  </thead>\n",
              "  <tbody>\n",
              "    <tr>\n",
              "      <th>3</th>\n",
              "      <td>A Mithun</td>\n",
              "      <td>3</td>\n",
              "      <td>25</td>\n",
              "      <td>30</td>\n",
              "      <td>0</td>\n",
              "      <td>7</td>\n",
              "      <td>28.0</td>\n",
              "      <td>25.0</td>\n",
              "      <td>7.2</td>\n",
              "      <td>30.0</td>\n",
              "      <td>0.0</td>\n",
              "      <td>0.5</td>\n",
              "      <td>0.091116</td>\n",
              "      <td>0.129976</td>\n",
              "      <td>0.157382</td>\n",
              "      <td>0.031719</td>\n",
              "    </tr>\n",
              "  </tbody>\n",
              "</table>\n",
              "</div>"
            ],
            "text/plain": [
              "     bowler  innings  balls  runs  dismissals  dots  dot%    SR  Eco   Avg  mx_dot%  mx_Eco     mx_SR    mx_Avg  minmax_score     z_Eco\n",
              "3  A Mithun  3        25     30    0           7     28.0  25.0  7.2  30.0  0.0      0.5     0.091116  0.129976  0.157382      0.031719"
            ]
          },
          "execution_count": 114,
          "metadata": {},
          "output_type": "execute_result"
        }
      ],
      "source": [
        "df1.head(1)"
      ]
    },
    {
      "cell_type": "code",
      "execution_count": null,
      "metadata": {
        "id": "gUGCu73CT1oo"
      },
      "outputs": [],
      "source": []
    },
    {
      "cell_type": "code",
      "execution_count": null,
      "metadata": {
        "id": "CvUDgvyhT1oo"
      },
      "outputs": [],
      "source": []
    },
    {
      "cell_type": "code",
      "execution_count": null,
      "metadata": {
        "id": "L6owZ7o7T1oo"
      },
      "outputs": [],
      "source": []
    },
    {
      "cell_type": "markdown",
      "metadata": {
        "id": "F4-rN-raT1op"
      },
      "source": [
        "### Topsis Method:"
      ]
    },
    {
      "cell_type": "code",
      "execution_count": null,
      "metadata": {
        "id": "Mwl41H70T1op"
      },
      "outputs": [],
      "source": [
        "wt_sr, wt_dot, wt_eco, wt_avg = 0.35, 0.13, 0.16, 0.35"
      ]
    },
    {
      "cell_type": "markdown",
      "metadata": {
        "id": "wF94s_-LT1op"
      },
      "source": [
        "### Calculation - Normalizing all values to same dimensions"
      ]
    },
    {
      "cell_type": "code",
      "execution_count": null,
      "metadata": {
        "id": "PGtGXs-3T1op"
      },
      "outputs": [],
      "source": [
        "df1['calc_SR'] = df1['SR'].apply(lambda x: x*x) \n",
        "df1['calc_dot%'] = df1['dot%'].apply(lambda x: x*x) \n",
        "df1['calc_Eco'] = df1['Eco'].apply(lambda x: x*x) \n",
        "df1['calc_Avg'] = df1['Avg'].apply(lambda x: x*x)\n",
        "\n",
        "sq_sr, sq_dot, sq_Eco, sq_Avg = np.sqrt(df1[['calc_SR','calc_dot%', 'calc_Eco', 'calc_Avg']].sum(axis = 0))\n",
        "\n",
        "df1['calc_SR'] = df1['calc_SR'].apply(lambda x: x/sq_sr) \n",
        "df1['calc_dot%'] = df1['calc_dot%'].apply(lambda x: x/sq_dot) \n",
        "df1['calc_Eco'] = df1['calc_Eco'].apply(lambda x: x/sq_Eco) \n",
        "df1['calc_Avg'] = df1['calc_Avg'].apply(lambda x: x/sq_Avg)\n",
        "\n",
        "df1['calc_SR'] = df1['calc_SR'].apply(lambda x: x*wt_sr) \n",
        "df1['calc_dot%'] = df1['calc_dot%'].apply(lambda x: x*wt_dot) \n",
        "df1['calc_Eco'] = df1['calc_Eco'].apply(lambda x: x*wt_eco) \n",
        "df1['calc_Avg'] = df1['calc_Avg'].apply(lambda x: x*wt_avg)\n",
        "\n",
        "best_sr, worst_sr = min(df1['calc_SR']), max(df1['calc_SR'])\n",
        "best_dot, worst_dot = min(df1['calc_dot%']), max(df1['calc_dot%'])\n",
        "best_Eco, worst_Eco = min(df1['calc_Eco']), max(df1['calc_Eco'])\n",
        "best_Avg, worst_Avg = min(df1['calc_Avg']), max(df1['calc_Avg'])"
      ]
    },
    {
      "cell_type": "markdown",
      "metadata": {
        "id": "OZUQd4AjT1op"
      },
      "source": [
        "###  Calculation - Comparision against the best & worst values"
      ]
    },
    {
      "cell_type": "code",
      "execution_count": null,
      "metadata": {
        "id": "QUbkAKW-T1oq"
      },
      "outputs": [],
      "source": [
        "df1['dev_best_SR'] = df1['calc_SR'].apply(lambda x: (x-best_sr)*(x-best_sr)) \n",
        "df1['dev_best_dot%'] = df1['calc_dot%'].apply(lambda x: (x-best_dot)*(x-best_dot)) \n",
        "df1['dev_best_Eco'] = df1['calc_Eco'].apply(lambda x: (x-best_Eco)*(x-best_Eco)) \n",
        "df1['dev_best_Avg'] = df1['calc_Avg'].apply(lambda x: (x-best_Avg)*(x-best_Avg))\n",
        "\n",
        "df1['dev_best_sqrt'] = df1.apply(lambda x: x['dev_best_SR'] + x['dev_best_dot%'] + x['dev_best_Eco'] + x['dev_best_Avg'], axis = 1) \n",
        "\n",
        "df1['dev_worst_SR'] = df1['calc_SR'].apply(lambda x: (x-worst_sr)*(x-worst_sr)) \n",
        "df1['dev_worst_dot%'] = df1['calc_dot%'].apply(lambda x: (x-worst_dot)*(x-worst_dot)) \n",
        "df1['dev_worst_Eco'] = df1['calc_Eco'].apply(lambda x: (x-worst_Eco)*(x-worst_Eco)) \n",
        "df1['dev_worst_Avg'] = df1['calc_Avg'].apply(lambda x: (x-worst_Avg)*(x-worst_Avg))\n",
        "\n",
        "df1['dev_worst_sqrt'] = df1.apply(lambda x: x['dev_worst_SR'] + x['dev_worst_dot%'] + x['dev_worst_Eco'] + x['dev_worst_Avg'], axis = 1) "
      ]
    },
    {
      "cell_type": "markdown",
      "metadata": {
        "id": "cAsv_d1tT1oq"
      },
      "source": [
        "### Final Step - Overall score for each player ( values from 0 - 1)"
      ]
    },
    {
      "cell_type": "code",
      "execution_count": null,
      "metadata": {
        "id": "d2f5LSY7T1oq"
      },
      "outputs": [],
      "source": [
        "df1['topsis_score'] = df1.apply(lambda x: x['dev_worst_sqrt']/(x['dev_worst_sqrt'] + x['dev_best_sqrt']), axis = 1)"
      ]
    },
    {
      "cell_type": "code",
      "execution_count": null,
      "metadata": {
        "id": "-eA3SCAZT1oq"
      },
      "outputs": [],
      "source": []
    }
  ],
  "metadata": {
    "kernelspec": {
      "display_name": "Python 3",
      "language": "python",
      "name": "python3"
    },
    "language_info": {
      "codemirror_mode": {
        "name": "ipython",
        "version": 3
      },
      "file_extension": ".py",
      "mimetype": "text/x-python",
      "name": "python",
      "nbconvert_exporter": "python",
      "pygments_lexer": "ipython3",
      "version": "3.7.6"
    },
    "colab": {
      "provenance": [],
      "collapsed_sections": [
        "JkQOaOPjT1oT",
        "-pWtuDz4T1ob",
        "I9YGRsLXT1oc",
        "QLbzH12gT1of",
        "F4-rN-raT1op",
        "wF94s_-LT1op",
        "OZUQd4AjT1op",
        "cAsv_d1tT1oq"
      ],
      "include_colab_link": true
    }
  },
  "nbformat": 4,
  "nbformat_minor": 0
}