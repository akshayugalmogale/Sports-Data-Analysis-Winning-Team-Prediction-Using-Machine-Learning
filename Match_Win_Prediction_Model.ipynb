{
  "nbformat": 4,
  "nbformat_minor": 0,
  "metadata": {
    "kernelspec": {
      "display_name": "Python 3",
      "language": "python",
      "name": "python3"
    },
    "language_info": {
      "codemirror_mode": {
        "name": "ipython",
        "version": 3
      },
      "file_extension": ".py",
      "mimetype": "text/x-python",
      "name": "python",
      "nbconvert_exporter": "python",
      "pygments_lexer": "ipython3",
      "version": "3.7.6"
    },
    "colab": {
      "provenance": [],
      "include_colab_link": true
    }
  },
  "cells": [
    {
      "cell_type": "markdown",
      "metadata": {
        "id": "view-in-github",
        "colab_type": "text"
      },
      "source": [
        "<a href=\"https://colab.research.google.com/github/akshayugalmogale/Sports-Data-Analysis-Winning-Team-Prediction-Using-Machine-Learning/blob/main/Match_Win_Prediction_Model.ipynb\" target=\"_parent\"><img src=\"https://colab.research.google.com/assets/colab-badge.svg\" alt=\"Open In Colab\"/></a>"
      ]
    },
    {
      "cell_type": "markdown",
      "metadata": {
        "id": "v8N7zofnlHVK"
      },
      "source": [
        "## Imports & Load dataset:"
      ]
    },
    {
      "cell_type": "code",
      "metadata": {
        "id": "kgXMDLkRlHVN"
      },
      "source": [
        "import pandas as pd\n",
        "import numpy as np\n",
        "import matplotlib.pyplot as plt\n",
        "\n",
        "import warnings\n",
        "warnings.filterwarnings('ignore')\n",
        "\n",
        "#to display all rows columns \n",
        "pd.set_option('display.max_rows', None)\n",
        "pd.set_option('display.max_columns', None)  \n",
        "pd.set_option('display.expand_frame_repr', False)\n",
        "pd.set_option('max_colwidth', -1)"
      ],
      "execution_count": 3,
      "outputs": []
    },
    {
      "cell_type": "code",
      "metadata": {
        "id": "QwurX9DZlHVN"
      },
      "source": [
        "ipl_df = pd.read_csv('/content/ipl_ball_by_ball_data.csv')"
      ],
      "execution_count": 4,
      "outputs": []
    },
    {
      "cell_type": "markdown",
      "metadata": {
        "id": "ojrB80SGlHVO"
      },
      "source": [
        "## Sneak peak into the data: "
      ]
    },
    {
      "cell_type": "code",
      "metadata": {
        "id": "ChfQ93BHlHVO",
        "colab": {
          "base_uri": "https://localhost:8080/",
          "height": 444
        },
        "outputId": "13b9e1f4-4774-4b89-9d06-4ec2b5c86916"
      },
      "source": [
        "ipl_df.head(5)"
      ],
      "execution_count": 5,
      "outputs": [
        {
          "output_type": "execute_result",
          "data": {
            "text/plain": [
              "   match_id  season  start_date                  venue  innings  ball                 batting_team                 bowling_team     striker  non_striker    bowler  runs_off_bat  extras  wides  noballs  byes  legbyes  penalty wicket_type player_dismissed  other_wicket_type  other_player_dismissed\n",
              "0  335982    2008    2008-04-18  M Chinnaswamy Stadium  1        0.1   Kolkata Knight Riders        Royal Challengers Bangalore  SC Ganguly  BB McCullum  P Kumar   0.0           1.0    NaN    NaN      NaN    1.0     NaN       NaN         NaN             NaN                NaN                    \n",
              "1  335982    2008    2008-04-18  M Chinnaswamy Stadium  2        3.1   Royal Challengers Bangalore  Kolkata Knight Riders        W Jaffer    JH Kallis    I Sharma  2.0           0.0    NaN    NaN      NaN   NaN      NaN       NaN         NaN             NaN                NaN                    \n",
              "2  335982    2008    2008-04-18  M Chinnaswamy Stadium  2        3.2   Royal Challengers Bangalore  Kolkata Knight Riders        W Jaffer    JH Kallis    I Sharma  1.0           0.0    NaN    NaN      NaN   NaN      NaN       NaN         NaN             NaN                NaN                    \n",
              "3  335982    2008    2008-04-18  M Chinnaswamy Stadium  2        3.3   Royal Challengers Bangalore  Kolkata Knight Riders        JH Kallis   W Jaffer     I Sharma  0.0           0.0    NaN    NaN      NaN   NaN      NaN       NaN         NaN             NaN                NaN                    \n",
              "4  335982    2008    2008-04-18  M Chinnaswamy Stadium  2        3.4   Royal Challengers Bangalore  Kolkata Knight Riders        JH Kallis   W Jaffer     I Sharma  0.0           1.0    NaN    NaN      NaN    1.0     NaN       NaN         NaN             NaN                NaN                    "
            ],
            "text/html": [
              "\n",
              "  <div id=\"df-f2445fc2-4dce-48dc-805b-b52b3039b4aa\">\n",
              "    <div class=\"colab-df-container\">\n",
              "      <div>\n",
              "<style scoped>\n",
              "    .dataframe tbody tr th:only-of-type {\n",
              "        vertical-align: middle;\n",
              "    }\n",
              "\n",
              "    .dataframe tbody tr th {\n",
              "        vertical-align: top;\n",
              "    }\n",
              "\n",
              "    .dataframe thead th {\n",
              "        text-align: right;\n",
              "    }\n",
              "</style>\n",
              "<table border=\"1\" class=\"dataframe\">\n",
              "  <thead>\n",
              "    <tr style=\"text-align: right;\">\n",
              "      <th></th>\n",
              "      <th>match_id</th>\n",
              "      <th>season</th>\n",
              "      <th>start_date</th>\n",
              "      <th>venue</th>\n",
              "      <th>innings</th>\n",
              "      <th>ball</th>\n",
              "      <th>batting_team</th>\n",
              "      <th>bowling_team</th>\n",
              "      <th>striker</th>\n",
              "      <th>non_striker</th>\n",
              "      <th>bowler</th>\n",
              "      <th>runs_off_bat</th>\n",
              "      <th>extras</th>\n",
              "      <th>wides</th>\n",
              "      <th>noballs</th>\n",
              "      <th>byes</th>\n",
              "      <th>legbyes</th>\n",
              "      <th>penalty</th>\n",
              "      <th>wicket_type</th>\n",
              "      <th>player_dismissed</th>\n",
              "      <th>other_wicket_type</th>\n",
              "      <th>other_player_dismissed</th>\n",
              "    </tr>\n",
              "  </thead>\n",
              "  <tbody>\n",
              "    <tr>\n",
              "      <th>0</th>\n",
              "      <td>335982</td>\n",
              "      <td>2008</td>\n",
              "      <td>2008-04-18</td>\n",
              "      <td>M Chinnaswamy Stadium</td>\n",
              "      <td>1</td>\n",
              "      <td>0.1</td>\n",
              "      <td>Kolkata Knight Riders</td>\n",
              "      <td>Royal Challengers Bangalore</td>\n",
              "      <td>SC Ganguly</td>\n",
              "      <td>BB McCullum</td>\n",
              "      <td>P Kumar</td>\n",
              "      <td>0.0</td>\n",
              "      <td>1.0</td>\n",
              "      <td>NaN</td>\n",
              "      <td>NaN</td>\n",
              "      <td>NaN</td>\n",
              "      <td>1.0</td>\n",
              "      <td>NaN</td>\n",
              "      <td>NaN</td>\n",
              "      <td>NaN</td>\n",
              "      <td>NaN</td>\n",
              "      <td>NaN</td>\n",
              "    </tr>\n",
              "    <tr>\n",
              "      <th>1</th>\n",
              "      <td>335982</td>\n",
              "      <td>2008</td>\n",
              "      <td>2008-04-18</td>\n",
              "      <td>M Chinnaswamy Stadium</td>\n",
              "      <td>2</td>\n",
              "      <td>3.1</td>\n",
              "      <td>Royal Challengers Bangalore</td>\n",
              "      <td>Kolkata Knight Riders</td>\n",
              "      <td>W Jaffer</td>\n",
              "      <td>JH Kallis</td>\n",
              "      <td>I Sharma</td>\n",
              "      <td>2.0</td>\n",
              "      <td>0.0</td>\n",
              "      <td>NaN</td>\n",
              "      <td>NaN</td>\n",
              "      <td>NaN</td>\n",
              "      <td>NaN</td>\n",
              "      <td>NaN</td>\n",
              "      <td>NaN</td>\n",
              "      <td>NaN</td>\n",
              "      <td>NaN</td>\n",
              "      <td>NaN</td>\n",
              "    </tr>\n",
              "    <tr>\n",
              "      <th>2</th>\n",
              "      <td>335982</td>\n",
              "      <td>2008</td>\n",
              "      <td>2008-04-18</td>\n",
              "      <td>M Chinnaswamy Stadium</td>\n",
              "      <td>2</td>\n",
              "      <td>3.2</td>\n",
              "      <td>Royal Challengers Bangalore</td>\n",
              "      <td>Kolkata Knight Riders</td>\n",
              "      <td>W Jaffer</td>\n",
              "      <td>JH Kallis</td>\n",
              "      <td>I Sharma</td>\n",
              "      <td>1.0</td>\n",
              "      <td>0.0</td>\n",
              "      <td>NaN</td>\n",
              "      <td>NaN</td>\n",
              "      <td>NaN</td>\n",
              "      <td>NaN</td>\n",
              "      <td>NaN</td>\n",
              "      <td>NaN</td>\n",
              "      <td>NaN</td>\n",
              "      <td>NaN</td>\n",
              "      <td>NaN</td>\n",
              "    </tr>\n",
              "    <tr>\n",
              "      <th>3</th>\n",
              "      <td>335982</td>\n",
              "      <td>2008</td>\n",
              "      <td>2008-04-18</td>\n",
              "      <td>M Chinnaswamy Stadium</td>\n",
              "      <td>2</td>\n",
              "      <td>3.3</td>\n",
              "      <td>Royal Challengers Bangalore</td>\n",
              "      <td>Kolkata Knight Riders</td>\n",
              "      <td>JH Kallis</td>\n",
              "      <td>W Jaffer</td>\n",
              "      <td>I Sharma</td>\n",
              "      <td>0.0</td>\n",
              "      <td>0.0</td>\n",
              "      <td>NaN</td>\n",
              "      <td>NaN</td>\n",
              "      <td>NaN</td>\n",
              "      <td>NaN</td>\n",
              "      <td>NaN</td>\n",
              "      <td>NaN</td>\n",
              "      <td>NaN</td>\n",
              "      <td>NaN</td>\n",
              "      <td>NaN</td>\n",
              "    </tr>\n",
              "    <tr>\n",
              "      <th>4</th>\n",
              "      <td>335982</td>\n",
              "      <td>2008</td>\n",
              "      <td>2008-04-18</td>\n",
              "      <td>M Chinnaswamy Stadium</td>\n",
              "      <td>2</td>\n",
              "      <td>3.4</td>\n",
              "      <td>Royal Challengers Bangalore</td>\n",
              "      <td>Kolkata Knight Riders</td>\n",
              "      <td>JH Kallis</td>\n",
              "      <td>W Jaffer</td>\n",
              "      <td>I Sharma</td>\n",
              "      <td>0.0</td>\n",
              "      <td>1.0</td>\n",
              "      <td>NaN</td>\n",
              "      <td>NaN</td>\n",
              "      <td>NaN</td>\n",
              "      <td>1.0</td>\n",
              "      <td>NaN</td>\n",
              "      <td>NaN</td>\n",
              "      <td>NaN</td>\n",
              "      <td>NaN</td>\n",
              "      <td>NaN</td>\n",
              "    </tr>\n",
              "  </tbody>\n",
              "</table>\n",
              "</div>\n",
              "      <button class=\"colab-df-convert\" onclick=\"convertToInteractive('df-f2445fc2-4dce-48dc-805b-b52b3039b4aa')\"\n",
              "              title=\"Convert this dataframe to an interactive table.\"\n",
              "              style=\"display:none;\">\n",
              "        \n",
              "  <svg xmlns=\"http://www.w3.org/2000/svg\" height=\"24px\"viewBox=\"0 0 24 24\"\n",
              "       width=\"24px\">\n",
              "    <path d=\"M0 0h24v24H0V0z\" fill=\"none\"/>\n",
              "    <path d=\"M18.56 5.44l.94 2.06.94-2.06 2.06-.94-2.06-.94-.94-2.06-.94 2.06-2.06.94zm-11 1L8.5 8.5l.94-2.06 2.06-.94-2.06-.94L8.5 2.5l-.94 2.06-2.06.94zm10 10l.94 2.06.94-2.06 2.06-.94-2.06-.94-.94-2.06-.94 2.06-2.06.94z\"/><path d=\"M17.41 7.96l-1.37-1.37c-.4-.4-.92-.59-1.43-.59-.52 0-1.04.2-1.43.59L10.3 9.45l-7.72 7.72c-.78.78-.78 2.05 0 2.83L4 21.41c.39.39.9.59 1.41.59.51 0 1.02-.2 1.41-.59l7.78-7.78 2.81-2.81c.8-.78.8-2.07 0-2.86zM5.41 20L4 18.59l7.72-7.72 1.47 1.35L5.41 20z\"/>\n",
              "  </svg>\n",
              "      </button>\n",
              "      \n",
              "  <style>\n",
              "    .colab-df-container {\n",
              "      display:flex;\n",
              "      flex-wrap:wrap;\n",
              "      gap: 12px;\n",
              "    }\n",
              "\n",
              "    .colab-df-convert {\n",
              "      background-color: #E8F0FE;\n",
              "      border: none;\n",
              "      border-radius: 50%;\n",
              "      cursor: pointer;\n",
              "      display: none;\n",
              "      fill: #1967D2;\n",
              "      height: 32px;\n",
              "      padding: 0 0 0 0;\n",
              "      width: 32px;\n",
              "    }\n",
              "\n",
              "    .colab-df-convert:hover {\n",
              "      background-color: #E2EBFA;\n",
              "      box-shadow: 0px 1px 2px rgba(60, 64, 67, 0.3), 0px 1px 3px 1px rgba(60, 64, 67, 0.15);\n",
              "      fill: #174EA6;\n",
              "    }\n",
              "\n",
              "    [theme=dark] .colab-df-convert {\n",
              "      background-color: #3B4455;\n",
              "      fill: #D2E3FC;\n",
              "    }\n",
              "\n",
              "    [theme=dark] .colab-df-convert:hover {\n",
              "      background-color: #434B5C;\n",
              "      box-shadow: 0px 1px 3px 1px rgba(0, 0, 0, 0.15);\n",
              "      filter: drop-shadow(0px 1px 2px rgba(0, 0, 0, 0.3));\n",
              "      fill: #FFFFFF;\n",
              "    }\n",
              "  </style>\n",
              "\n",
              "      <script>\n",
              "        const buttonEl =\n",
              "          document.querySelector('#df-f2445fc2-4dce-48dc-805b-b52b3039b4aa button.colab-df-convert');\n",
              "        buttonEl.style.display =\n",
              "          google.colab.kernel.accessAllowed ? 'block' : 'none';\n",
              "\n",
              "        async function convertToInteractive(key) {\n",
              "          const element = document.querySelector('#df-f2445fc2-4dce-48dc-805b-b52b3039b4aa');\n",
              "          const dataTable =\n",
              "            await google.colab.kernel.invokeFunction('convertToInteractive',\n",
              "                                                     [key], {});\n",
              "          if (!dataTable) return;\n",
              "\n",
              "          const docLinkHtml = 'Like what you see? Visit the ' +\n",
              "            '<a target=\"_blank\" href=https://colab.research.google.com/notebooks/data_table.ipynb>data table notebook</a>'\n",
              "            + ' to learn more about interactive tables.';\n",
              "          element.innerHTML = '';\n",
              "          dataTable['output_type'] = 'display_data';\n",
              "          await google.colab.output.renderOutput(dataTable, element);\n",
              "          const docLink = document.createElement('div');\n",
              "          docLink.innerHTML = docLinkHtml;\n",
              "          element.appendChild(docLink);\n",
              "        }\n",
              "      </script>\n",
              "    </div>\n",
              "  </div>\n",
              "  "
            ]
          },
          "metadata": {},
          "execution_count": 5
        }
      ]
    },
    {
      "cell_type": "code",
      "metadata": {
        "id": "ASOvY1NnlHVP",
        "colab": {
          "base_uri": "https://localhost:8080/"
        },
        "outputId": "7f358a0b-e1f9-4d64-9f2d-e3d0f7c85419"
      },
      "source": [
        "ipl_df.batting_team.unique()"
      ],
      "execution_count": 6,
      "outputs": [
        {
          "output_type": "execute_result",
          "data": {
            "text/plain": [
              "array(['Kolkata Knight Riders', 'Royal Challengers Bangalore',\n",
              "       'Rajasthan Royals', 'Kings XI Punjab', 'Delhi Daredevils',\n",
              "       'Chennai Super Kings', 'Deccan Chargers', 'Mumbai Indians',\n",
              "       'Kochi Tuskers Kerala', 'Pune Warriors', 'Che'], dtype=object)"
            ]
          },
          "metadata": {},
          "execution_count": 6
        }
      ]
    },
    {
      "cell_type": "code",
      "metadata": {
        "id": "ERvhh1JDlHVP",
        "colab": {
          "base_uri": "https://localhost:8080/"
        },
        "outputId": "452a9e3f-5e82-4b4b-cddd-098ff724c6ed"
      },
      "source": [
        "ipl_df.innings.unique()"
      ],
      "execution_count": 7,
      "outputs": [
        {
          "output_type": "execute_result",
          "data": {
            "text/plain": [
              "array([1, 2, 4, 3])"
            ]
          },
          "metadata": {},
          "execution_count": 7
        }
      ]
    },
    {
      "cell_type": "code",
      "metadata": {
        "id": "zITAJAvnlHVP"
      },
      "source": [
        "ipl_df = ipl_df[(ipl_df.innings == 1) | (ipl_df.innings == 2)]"
      ],
      "execution_count": 8,
      "outputs": []
    },
    {
      "cell_type": "code",
      "metadata": {
        "id": "cj-iC9InlHVQ",
        "colab": {
          "base_uri": "https://localhost:8080/"
        },
        "outputId": "55db468e-be08-411a-b8e0-e8aae494db50"
      },
      "source": [
        "ipl_df.innings.unique()"
      ],
      "execution_count": 9,
      "outputs": [
        {
          "output_type": "execute_result",
          "data": {
            "text/plain": [
              "array([1, 2])"
            ]
          },
          "metadata": {},
          "execution_count": 9
        }
      ]
    },
    {
      "cell_type": "markdown",
      "metadata": {
        "id": "nvrh4C4IlHVQ"
      },
      "source": [
        "## Additional Colums:"
      ]
    },
    {
      "cell_type": "code",
      "metadata": {
        "id": "_quhBQxPlHVQ"
      },
      "source": [
        "# 1. total runs in each ball\n",
        "# 2. is there a wicket fall in that ball"
      ],
      "execution_count": 10,
      "outputs": []
    },
    {
      "cell_type": "code",
      "metadata": {
        "id": "9cFNYa5XlHVQ"
      },
      "source": [
        "ipl_df['total_runs'] = ipl_df.apply(lambda x: x['runs_off_bat'] + x['extras'], axis = 1)"
      ],
      "execution_count": 11,
      "outputs": []
    },
    {
      "cell_type": "code",
      "metadata": {
        "id": "1PQyXrijlHVR"
      },
      "source": [
        "# ipl_df.head(20)"
      ],
      "execution_count": 12,
      "outputs": []
    },
    {
      "cell_type": "code",
      "metadata": {
        "id": "Q2KhGkXKlHVR",
        "colab": {
          "base_uri": "https://localhost:8080/"
        },
        "outputId": "04550048-eb31-43fb-a32b-ae06da86f3dd"
      },
      "source": [
        "type(ipl_df.player_dismissed[11])"
      ],
      "execution_count": 13,
      "outputs": [
        {
          "output_type": "execute_result",
          "data": {
            "text/plain": [
              "str"
            ]
          },
          "metadata": {},
          "execution_count": 13
        }
      ]
    },
    {
      "cell_type": "code",
      "metadata": {
        "id": "G4LfDcCnlHVR"
      },
      "source": [
        "ipl_df['isOut'] = ipl_df['player_dismissed'].apply(lambda x: 1 if type(x) == type('str') else 0)"
      ],
      "execution_count": 14,
      "outputs": []
    },
    {
      "cell_type": "code",
      "metadata": {
        "id": "yDf1rLQRlHVR"
      },
      "source": [
        "# ipl_df.head(15)"
      ],
      "execution_count": 15,
      "outputs": []
    },
    {
      "cell_type": "markdown",
      "metadata": {
        "id": "3wifw6n-lHVS"
      },
      "source": [
        "## Choose Teams:"
      ]
    },
    {
      "cell_type": "code",
      "metadata": {
        "id": "ZBq5cjLplHVS"
      },
      "source": [
        "# t1 - bat first, t2 - bat second\n",
        "# Ex: MI vs RCB, (match_id: 1254058) \n",
        "\n",
        "t1 = 'Mumbai Indians'\n",
        "t2 = 'Royal Challengers Bangalore'"
      ],
      "execution_count": 16,
      "outputs": []
    },
    {
      "cell_type": "code",
      "metadata": {
        "id": "pjxWc6j6lHVS"
      },
      "source": [],
      "execution_count": 16,
      "outputs": []
    },
    {
      "cell_type": "markdown",
      "metadata": {
        "id": "RwGW00I7lHVS"
      },
      "source": [
        "## Choose a Match b/w these Teams:"
      ]
    },
    {
      "cell_type": "code",
      "metadata": {
        "id": "ON--7tTmlHVS",
        "colab": {
          "base_uri": "https://localhost:8080/"
        },
        "outputId": "926fc6a3-d00c-41a1-bc48-067369195ff7"
      },
      "source": [
        "ipl_df[(ipl_df.batting_team == t1) & (ipl_df.bowling_team == t2) & (ipl_df.innings == 1)].match_id.unique()"
      ],
      "execution_count": 17,
      "outputs": [
        {
          "output_type": "execute_result",
          "data": {
            "text/plain": [
              "array([335985, 392208, 392218, 419119, 419157, 419162])"
            ]
          },
          "metadata": {},
          "execution_count": 17
        }
      ]
    },
    {
      "cell_type": "code",
      "metadata": {
        "id": "UnZBmOazlHVT"
      },
      "source": [
        "matchID = 1254058"
      ],
      "execution_count": 18,
      "outputs": []
    },
    {
      "cell_type": "code",
      "metadata": {
        "id": "R0C2PSgNlHVT"
      },
      "source": [
        "mdf = ipl_df[ipl_df.match_id == matchID]"
      ],
      "execution_count": 19,
      "outputs": []
    },
    {
      "cell_type": "code",
      "metadata": {
        "id": "T32gc5IwlHVT"
      },
      "source": [
        "# mdf.head()"
      ],
      "execution_count": 20,
      "outputs": []
    },
    {
      "cell_type": "code",
      "metadata": {
        "id": "sL-woYR0lHVT"
      },
      "source": [
        "mdf.reset_index(inplace = True, drop = True)"
      ],
      "execution_count": 21,
      "outputs": []
    },
    {
      "cell_type": "code",
      "metadata": {
        "id": "85i8-eijlHVT"
      },
      "source": [
        "# mdf.head()"
      ],
      "execution_count": 22,
      "outputs": []
    },
    {
      "cell_type": "code",
      "metadata": {
        "id": "H9GQDSPWlHVU"
      },
      "source": [
        "df1 = mdf[mdf.innings == 1] \n",
        "df2 = mdf[mdf.innings == 2] "
      ],
      "execution_count": 23,
      "outputs": []
    },
    {
      "cell_type": "markdown",
      "metadata": {
        "id": "FBGDuSRflHVU"
      },
      "source": [
        "## Outcomes:"
      ]
    },
    {
      "cell_type": "code",
      "metadata": {
        "id": "56jLqN2DlHVU"
      },
      "source": [
        "# 0, 1, 2, 3, 4, 5, 6, 7, 'W', 'extras'\n",
        "outcomes = [0, 1, 2, 3, 4, 6, 'w']"
      ],
      "execution_count": 24,
      "outputs": []
    },
    {
      "cell_type": "code",
      "metadata": {
        "id": "FshlQphglHVU",
        "colab": {
          "base_uri": "https://localhost:8080/"
        },
        "outputId": "59a116f0-02fd-4ee1-af54-86a1e31bc2ac"
      },
      "source": [
        "ipl_df[ipl_df.batting_team == t1].total_runs.value_counts()"
      ],
      "execution_count": 25,
      "outputs": [
        {
          "output_type": "execute_result",
          "data": {
            "text/plain": [
              "1.0    2638\n",
              "0.0    2273\n",
              "4.0    753 \n",
              "2.0    441 \n",
              "6.0    243 \n",
              "3.0    30  \n",
              "5.0    19  \n",
              "7.0    2   \n",
              "Name: total_runs, dtype: int64"
            ]
          },
          "metadata": {},
          "execution_count": 25
        }
      ]
    },
    {
      "cell_type": "code",
      "metadata": {
        "id": "upgv1bnAlHVU",
        "colab": {
          "base_uri": "https://localhost:8080/"
        },
        "outputId": "2ea72108-7b8b-40c9-dbc9-c8401c77f295"
      },
      "source": [
        "ipl_df[ipl_df.batting_team == t1].isOut.sum()"
      ],
      "execution_count": 26,
      "outputs": [
        {
          "output_type": "execute_result",
          "data": {
            "text/plain": [
              "304"
            ]
          },
          "metadata": {},
          "execution_count": 26
        }
      ]
    },
    {
      "cell_type": "code",
      "metadata": {
        "id": "aTEz4bxflHVV"
      },
      "source": [
        "t1_outcomes_count = ipl_df[ipl_df.batting_team == t1].total_runs.value_counts()\n",
        "t2_outcomes_count = ipl_df[ipl_df.batting_team == t2].total_runs.value_counts()"
      ],
      "execution_count": 27,
      "outputs": []
    },
    {
      "cell_type": "code",
      "metadata": {
        "id": "4zGI5eYZlHVV"
      },
      "source": [
        "t1_outs = ipl_df[ipl_df.batting_team == t1].isOut.sum()\n",
        "t2_outs = ipl_df[ipl_df.batting_team == t2].isOut.sum()"
      ],
      "execution_count": 28,
      "outputs": []
    },
    {
      "cell_type": "code",
      "metadata": {
        "id": "rDkKr8OylHVV"
      },
      "source": [
        "t1_outcomes = []\n",
        "t2_outcomes = []\n",
        "\n",
        "for outcome in outcomes:\n",
        "    if outcome != 'w':\n",
        "        t1_outcomes.append(t1_outcomes_count[outcome])\n",
        "        t2_outcomes.append(t2_outcomes_count[outcome])\n",
        "    else:\n",
        "        t1_outcomes.append(t1_outs)\n",
        "        t2_outcomes.append(t2_outs)"
      ],
      "execution_count": 29,
      "outputs": []
    },
    {
      "cell_type": "code",
      "metadata": {
        "id": "Kb9VSQUdlHVV",
        "colab": {
          "base_uri": "https://localhost:8080/"
        },
        "outputId": "8a2519c8-09b8-486b-d949-70f4191b4b7e"
      },
      "source": [
        "t1_outcomes, t2_outcomes"
      ],
      "execution_count": 30,
      "outputs": [
        {
          "output_type": "execute_result",
          "data": {
            "text/plain": [
              "([2273, 2638, 441, 30, 753, 243, 304], [2382, 2642, 411, 19, 740, 258, 342])"
            ]
          },
          "metadata": {},
          "execution_count": 30
        }
      ]
    },
    {
      "cell_type": "code",
      "metadata": {
        "id": "EtaZmc_rlHVV"
      },
      "source": [
        "t1_pb_outcomes = [i/sum(t1_outcomes) for i in t1_outcomes]\n",
        "t2_pb_outcomes = [i/sum(t2_outcomes) for i in t2_outcomes]"
      ],
      "execution_count": 31,
      "outputs": []
    },
    {
      "cell_type": "code",
      "metadata": {
        "id": "BZf3rElJlHVW",
        "colab": {
          "base_uri": "https://localhost:8080/"
        },
        "outputId": "49c34907-59b6-44dc-83ba-c5784f3869aa"
      },
      "source": [
        "t1_pb_outcomes"
      ],
      "execution_count": 32,
      "outputs": [
        {
          "output_type": "execute_result",
          "data": {
            "text/plain": [
              "[0.34016761448668065,\n",
              " 0.394791978449566,\n",
              " 0.06599820413049985,\n",
              " 0.004489673750374139,\n",
              " 0.1126908111343909,\n",
              " 0.03636635737803053,\n",
              " 0.045495360670457945]"
            ]
          },
          "metadata": {},
          "execution_count": 32
        }
      ]
    },
    {
      "cell_type": "code",
      "metadata": {
        "id": "AKcT-WBslHVW"
      },
      "source": [
        "# (0 --> 1)\n",
        "# ex: \n",
        "# dot - 34%\n",
        "# ones - 34% + 39% = 73%"
      ],
      "execution_count": 33,
      "outputs": []
    },
    {
      "cell_type": "code",
      "metadata": {
        "id": "PWnJwHKClHVW"
      },
      "source": [
        "t1_pb_ls = np.cumsum(t1_pb_outcomes)\n",
        "t2_pb_ls = np.cumsum(t2_pb_outcomes)"
      ],
      "execution_count": 34,
      "outputs": []
    },
    {
      "cell_type": "code",
      "metadata": {
        "id": "YJn3097_lHVW",
        "colab": {
          "base_uri": "https://localhost:8080/"
        },
        "outputId": "ad9db208-9b04-45bc-e369-470950c79029"
      },
      "source": [
        "t1_pb_ls, t2_pb_ls"
      ],
      "execution_count": 35,
      "outputs": [
        {
          "output_type": "execute_result",
          "data": {
            "text/plain": [
              "(array([0.34016761, 0.73495959, 0.8009578 , 0.80544747, 0.91813828,\n",
              "        0.95450464, 1.        ]),\n",
              " array([0.35060347, 0.73947601, 0.79997056, 0.80276715, 0.91168678,\n",
              "        0.94966147, 1.        ]))"
            ]
          },
          "metadata": {},
          "execution_count": 35
        }
      ]
    },
    {
      "cell_type": "code",
      "metadata": {
        "id": "RHMRjHyqlHVW",
        "colab": {
          "base_uri": "https://localhost:8080/"
        },
        "outputId": "b72bcbb2-6edb-4263-f397-f01ecd4e3edc"
      },
      "source": [
        "np.random.random()"
      ],
      "execution_count": 36,
      "outputs": [
        {
          "output_type": "execute_result",
          "data": {
            "text/plain": [
              "0.004788824924226498"
            ]
          },
          "metadata": {},
          "execution_count": 36
        }
      ]
    },
    {
      "cell_type": "code",
      "metadata": {
        "id": "ra66SDABlHVX"
      },
      "source": [
        "# run it for 120 balls & determine runs\n",
        "\n",
        "pred_runs = 0\n",
        "pred_wks = 0\n",
        "balls = 120\n",
        "\n",
        "i1p_0 = t1_pb_ls[0]\n",
        "i1p_1 = t1_pb_ls[1]\n",
        "i1p_2 = t1_pb_ls[2]\n",
        "i1p_3 = t1_pb_ls[3]\n",
        "i1p_4 = t1_pb_ls[4]\n",
        "i1p_6 = t1_pb_ls[5]\n",
        "i1p_w = t1_pb_ls[6]\n",
        "\n",
        "i2p_0 = t2_pb_ls[0]\n",
        "i2p_1 = t2_pb_ls[1]\n",
        "i2p_2 = t2_pb_ls[2]\n",
        "i2p_3 = t2_pb_ls[3]\n",
        "i2p_4 = t2_pb_ls[4]\n",
        "i2p_6 = t2_pb_ls[5]\n",
        "i2p_w = t2_pb_ls[6]\n",
        "\n",
        "for i in range(balls):\n",
        "    r_value = np.random.random()\n",
        "    \n",
        "    if r_value <= i1p_0:\n",
        "        pred_runs += 0\n",
        "    elif r_value <= i1p_1:\n",
        "        pred_runs += 1\n",
        "    elif r_value <= i1p_2:\n",
        "        pred_runs += 2\n",
        "    elif r_value <= i1p_3:\n",
        "        pred_runs += 3\n",
        "    elif r_value <= i1p_4:\n",
        "        pred_runs += 4\n",
        "    elif r_value <= i1p_6:\n",
        "        pred_runs += 6\n",
        "    else:\n",
        "        pred_runs += 0\n",
        "        pred_wks += 1   \n",
        "        \n",
        "        if pred_wks == 10:\n",
        "            break"
      ],
      "execution_count": 37,
      "outputs": []
    },
    {
      "cell_type": "code",
      "metadata": {
        "scrolled": true,
        "id": "xefBU-tvlHVX",
        "colab": {
          "base_uri": "https://localhost:8080/"
        },
        "outputId": "cb92430e-9cb5-4868-d5df-ba21dc724eda"
      },
      "source": [
        "pred_runs, pred_wks"
      ],
      "execution_count": 38,
      "outputs": [
        {
          "output_type": "execute_result",
          "data": {
            "text/plain": [
              "(141, 8)"
            ]
          },
          "metadata": {},
          "execution_count": 38
        }
      ]
    },
    {
      "cell_type": "code",
      "metadata": {
        "id": "fSlU0KJ6lHVX"
      },
      "source": [
        "# 100/1 after 10 overs, runs prediction?"
      ],
      "execution_count": 39,
      "outputs": []
    },
    {
      "cell_type": "code",
      "metadata": {
        "id": "PFC3uU0XlHVX",
        "colab": {
          "base_uri": "https://localhost:8080/",
          "height": 444
        },
        "outputId": "9ed1a615-bd24-4242-ab33-c3dd3cc81e23"
      },
      "source": [
        "ipl_df.head(5)"
      ],
      "execution_count": 40,
      "outputs": [
        {
          "output_type": "execute_result",
          "data": {
            "text/plain": [
              "   match_id  season  start_date                  venue  innings  ball                 batting_team                 bowling_team     striker  non_striker    bowler  runs_off_bat  extras  wides  noballs  byes  legbyes  penalty wicket_type player_dismissed  other_wicket_type  other_player_dismissed  total_runs  isOut\n",
              "0  335982    2008    2008-04-18  M Chinnaswamy Stadium  1        0.1   Kolkata Knight Riders        Royal Challengers Bangalore  SC Ganguly  BB McCullum  P Kumar   0.0           1.0    NaN    NaN      NaN    1.0     NaN       NaN         NaN             NaN                NaN                      1.0         0    \n",
              "1  335982    2008    2008-04-18  M Chinnaswamy Stadium  2        3.1   Royal Challengers Bangalore  Kolkata Knight Riders        W Jaffer    JH Kallis    I Sharma  2.0           0.0    NaN    NaN      NaN   NaN      NaN       NaN         NaN             NaN                NaN                      2.0         0    \n",
              "2  335982    2008    2008-04-18  M Chinnaswamy Stadium  2        3.2   Royal Challengers Bangalore  Kolkata Knight Riders        W Jaffer    JH Kallis    I Sharma  1.0           0.0    NaN    NaN      NaN   NaN      NaN       NaN         NaN             NaN                NaN                      1.0         0    \n",
              "3  335982    2008    2008-04-18  M Chinnaswamy Stadium  2        3.3   Royal Challengers Bangalore  Kolkata Knight Riders        JH Kallis   W Jaffer     I Sharma  0.0           0.0    NaN    NaN      NaN   NaN      NaN       NaN         NaN             NaN                NaN                      0.0         0    \n",
              "4  335982    2008    2008-04-18  M Chinnaswamy Stadium  2        3.4   Royal Challengers Bangalore  Kolkata Knight Riders        JH Kallis   W Jaffer     I Sharma  0.0           1.0    NaN    NaN      NaN    1.0     NaN       NaN         NaN             NaN                NaN                      1.0         0    "
            ],
            "text/html": [
              "\n",
              "  <div id=\"df-12feacb8-34b7-4cfd-b71a-7eba07ce04c6\">\n",
              "    <div class=\"colab-df-container\">\n",
              "      <div>\n",
              "<style scoped>\n",
              "    .dataframe tbody tr th:only-of-type {\n",
              "        vertical-align: middle;\n",
              "    }\n",
              "\n",
              "    .dataframe tbody tr th {\n",
              "        vertical-align: top;\n",
              "    }\n",
              "\n",
              "    .dataframe thead th {\n",
              "        text-align: right;\n",
              "    }\n",
              "</style>\n",
              "<table border=\"1\" class=\"dataframe\">\n",
              "  <thead>\n",
              "    <tr style=\"text-align: right;\">\n",
              "      <th></th>\n",
              "      <th>match_id</th>\n",
              "      <th>season</th>\n",
              "      <th>start_date</th>\n",
              "      <th>venue</th>\n",
              "      <th>innings</th>\n",
              "      <th>ball</th>\n",
              "      <th>batting_team</th>\n",
              "      <th>bowling_team</th>\n",
              "      <th>striker</th>\n",
              "      <th>non_striker</th>\n",
              "      <th>bowler</th>\n",
              "      <th>runs_off_bat</th>\n",
              "      <th>extras</th>\n",
              "      <th>wides</th>\n",
              "      <th>noballs</th>\n",
              "      <th>byes</th>\n",
              "      <th>legbyes</th>\n",
              "      <th>penalty</th>\n",
              "      <th>wicket_type</th>\n",
              "      <th>player_dismissed</th>\n",
              "      <th>other_wicket_type</th>\n",
              "      <th>other_player_dismissed</th>\n",
              "      <th>total_runs</th>\n",
              "      <th>isOut</th>\n",
              "    </tr>\n",
              "  </thead>\n",
              "  <tbody>\n",
              "    <tr>\n",
              "      <th>0</th>\n",
              "      <td>335982</td>\n",
              "      <td>2008</td>\n",
              "      <td>2008-04-18</td>\n",
              "      <td>M Chinnaswamy Stadium</td>\n",
              "      <td>1</td>\n",
              "      <td>0.1</td>\n",
              "      <td>Kolkata Knight Riders</td>\n",
              "      <td>Royal Challengers Bangalore</td>\n",
              "      <td>SC Ganguly</td>\n",
              "      <td>BB McCullum</td>\n",
              "      <td>P Kumar</td>\n",
              "      <td>0.0</td>\n",
              "      <td>1.0</td>\n",
              "      <td>NaN</td>\n",
              "      <td>NaN</td>\n",
              "      <td>NaN</td>\n",
              "      <td>1.0</td>\n",
              "      <td>NaN</td>\n",
              "      <td>NaN</td>\n",
              "      <td>NaN</td>\n",
              "      <td>NaN</td>\n",
              "      <td>NaN</td>\n",
              "      <td>1.0</td>\n",
              "      <td>0</td>\n",
              "    </tr>\n",
              "    <tr>\n",
              "      <th>1</th>\n",
              "      <td>335982</td>\n",
              "      <td>2008</td>\n",
              "      <td>2008-04-18</td>\n",
              "      <td>M Chinnaswamy Stadium</td>\n",
              "      <td>2</td>\n",
              "      <td>3.1</td>\n",
              "      <td>Royal Challengers Bangalore</td>\n",
              "      <td>Kolkata Knight Riders</td>\n",
              "      <td>W Jaffer</td>\n",
              "      <td>JH Kallis</td>\n",
              "      <td>I Sharma</td>\n",
              "      <td>2.0</td>\n",
              "      <td>0.0</td>\n",
              "      <td>NaN</td>\n",
              "      <td>NaN</td>\n",
              "      <td>NaN</td>\n",
              "      <td>NaN</td>\n",
              "      <td>NaN</td>\n",
              "      <td>NaN</td>\n",
              "      <td>NaN</td>\n",
              "      <td>NaN</td>\n",
              "      <td>NaN</td>\n",
              "      <td>2.0</td>\n",
              "      <td>0</td>\n",
              "    </tr>\n",
              "    <tr>\n",
              "      <th>2</th>\n",
              "      <td>335982</td>\n",
              "      <td>2008</td>\n",
              "      <td>2008-04-18</td>\n",
              "      <td>M Chinnaswamy Stadium</td>\n",
              "      <td>2</td>\n",
              "      <td>3.2</td>\n",
              "      <td>Royal Challengers Bangalore</td>\n",
              "      <td>Kolkata Knight Riders</td>\n",
              "      <td>W Jaffer</td>\n",
              "      <td>JH Kallis</td>\n",
              "      <td>I Sharma</td>\n",
              "      <td>1.0</td>\n",
              "      <td>0.0</td>\n",
              "      <td>NaN</td>\n",
              "      <td>NaN</td>\n",
              "      <td>NaN</td>\n",
              "      <td>NaN</td>\n",
              "      <td>NaN</td>\n",
              "      <td>NaN</td>\n",
              "      <td>NaN</td>\n",
              "      <td>NaN</td>\n",
              "      <td>NaN</td>\n",
              "      <td>1.0</td>\n",
              "      <td>0</td>\n",
              "    </tr>\n",
              "    <tr>\n",
              "      <th>3</th>\n",
              "      <td>335982</td>\n",
              "      <td>2008</td>\n",
              "      <td>2008-04-18</td>\n",
              "      <td>M Chinnaswamy Stadium</td>\n",
              "      <td>2</td>\n",
              "      <td>3.3</td>\n",
              "      <td>Royal Challengers Bangalore</td>\n",
              "      <td>Kolkata Knight Riders</td>\n",
              "      <td>JH Kallis</td>\n",
              "      <td>W Jaffer</td>\n",
              "      <td>I Sharma</td>\n",
              "      <td>0.0</td>\n",
              "      <td>0.0</td>\n",
              "      <td>NaN</td>\n",
              "      <td>NaN</td>\n",
              "      <td>NaN</td>\n",
              "      <td>NaN</td>\n",
              "      <td>NaN</td>\n",
              "      <td>NaN</td>\n",
              "      <td>NaN</td>\n",
              "      <td>NaN</td>\n",
              "      <td>NaN</td>\n",
              "      <td>0.0</td>\n",
              "      <td>0</td>\n",
              "    </tr>\n",
              "    <tr>\n",
              "      <th>4</th>\n",
              "      <td>335982</td>\n",
              "      <td>2008</td>\n",
              "      <td>2008-04-18</td>\n",
              "      <td>M Chinnaswamy Stadium</td>\n",
              "      <td>2</td>\n",
              "      <td>3.4</td>\n",
              "      <td>Royal Challengers Bangalore</td>\n",
              "      <td>Kolkata Knight Riders</td>\n",
              "      <td>JH Kallis</td>\n",
              "      <td>W Jaffer</td>\n",
              "      <td>I Sharma</td>\n",
              "      <td>0.0</td>\n",
              "      <td>1.0</td>\n",
              "      <td>NaN</td>\n",
              "      <td>NaN</td>\n",
              "      <td>NaN</td>\n",
              "      <td>1.0</td>\n",
              "      <td>NaN</td>\n",
              "      <td>NaN</td>\n",
              "      <td>NaN</td>\n",
              "      <td>NaN</td>\n",
              "      <td>NaN</td>\n",
              "      <td>1.0</td>\n",
              "      <td>0</td>\n",
              "    </tr>\n",
              "  </tbody>\n",
              "</table>\n",
              "</div>\n",
              "      <button class=\"colab-df-convert\" onclick=\"convertToInteractive('df-12feacb8-34b7-4cfd-b71a-7eba07ce04c6')\"\n",
              "              title=\"Convert this dataframe to an interactive table.\"\n",
              "              style=\"display:none;\">\n",
              "        \n",
              "  <svg xmlns=\"http://www.w3.org/2000/svg\" height=\"24px\"viewBox=\"0 0 24 24\"\n",
              "       width=\"24px\">\n",
              "    <path d=\"M0 0h24v24H0V0z\" fill=\"none\"/>\n",
              "    <path d=\"M18.56 5.44l.94 2.06.94-2.06 2.06-.94-2.06-.94-.94-2.06-.94 2.06-2.06.94zm-11 1L8.5 8.5l.94-2.06 2.06-.94-2.06-.94L8.5 2.5l-.94 2.06-2.06.94zm10 10l.94 2.06.94-2.06 2.06-.94-2.06-.94-.94-2.06-.94 2.06-2.06.94z\"/><path d=\"M17.41 7.96l-1.37-1.37c-.4-.4-.92-.59-1.43-.59-.52 0-1.04.2-1.43.59L10.3 9.45l-7.72 7.72c-.78.78-.78 2.05 0 2.83L4 21.41c.39.39.9.59 1.41.59.51 0 1.02-.2 1.41-.59l7.78-7.78 2.81-2.81c.8-.78.8-2.07 0-2.86zM5.41 20L4 18.59l7.72-7.72 1.47 1.35L5.41 20z\"/>\n",
              "  </svg>\n",
              "      </button>\n",
              "      \n",
              "  <style>\n",
              "    .colab-df-container {\n",
              "      display:flex;\n",
              "      flex-wrap:wrap;\n",
              "      gap: 12px;\n",
              "    }\n",
              "\n",
              "    .colab-df-convert {\n",
              "      background-color: #E8F0FE;\n",
              "      border: none;\n",
              "      border-radius: 50%;\n",
              "      cursor: pointer;\n",
              "      display: none;\n",
              "      fill: #1967D2;\n",
              "      height: 32px;\n",
              "      padding: 0 0 0 0;\n",
              "      width: 32px;\n",
              "    }\n",
              "\n",
              "    .colab-df-convert:hover {\n",
              "      background-color: #E2EBFA;\n",
              "      box-shadow: 0px 1px 2px rgba(60, 64, 67, 0.3), 0px 1px 3px 1px rgba(60, 64, 67, 0.15);\n",
              "      fill: #174EA6;\n",
              "    }\n",
              "\n",
              "    [theme=dark] .colab-df-convert {\n",
              "      background-color: #3B4455;\n",
              "      fill: #D2E3FC;\n",
              "    }\n",
              "\n",
              "    [theme=dark] .colab-df-convert:hover {\n",
              "      background-color: #434B5C;\n",
              "      box-shadow: 0px 1px 3px 1px rgba(0, 0, 0, 0.15);\n",
              "      filter: drop-shadow(0px 1px 2px rgba(0, 0, 0, 0.3));\n",
              "      fill: #FFFFFF;\n",
              "    }\n",
              "  </style>\n",
              "\n",
              "      <script>\n",
              "        const buttonEl =\n",
              "          document.querySelector('#df-12feacb8-34b7-4cfd-b71a-7eba07ce04c6 button.colab-df-convert');\n",
              "        buttonEl.style.display =\n",
              "          google.colab.kernel.accessAllowed ? 'block' : 'none';\n",
              "\n",
              "        async function convertToInteractive(key) {\n",
              "          const element = document.querySelector('#df-12feacb8-34b7-4cfd-b71a-7eba07ce04c6');\n",
              "          const dataTable =\n",
              "            await google.colab.kernel.invokeFunction('convertToInteractive',\n",
              "                                                     [key], {});\n",
              "          if (!dataTable) return;\n",
              "\n",
              "          const docLinkHtml = 'Like what you see? Visit the ' +\n",
              "            '<a target=\"_blank\" href=https://colab.research.google.com/notebooks/data_table.ipynb>data table notebook</a>'\n",
              "            + ' to learn more about interactive tables.';\n",
              "          element.innerHTML = '';\n",
              "          dataTable['output_type'] = 'display_data';\n",
              "          await google.colab.output.renderOutput(dataTable, element);\n",
              "          const docLink = document.createElement('div');\n",
              "          docLink.innerHTML = docLinkHtml;\n",
              "          element.appendChild(docLink);\n",
              "        }\n",
              "      </script>\n",
              "    </div>\n",
              "  </div>\n",
              "  "
            ]
          },
          "metadata": {},
          "execution_count": 40
        }
      ]
    },
    {
      "cell_type": "code",
      "metadata": {
        "id": "eKs1pL2tlHVY",
        "colab": {
          "base_uri": "https://localhost:8080/"
        },
        "outputId": "a09bd989-733f-4c43-f799-6128e4846153"
      },
      "source": [
        "over_ball = 19.5\n",
        "\n",
        "over_no = int(str(over_ball).split('.')[0])\n",
        "ball_no = int(str(over_ball).split('.')[1])\n",
        "\n",
        "print(over_no*6 + ball_no)"
      ],
      "execution_count": 41,
      "outputs": [
        {
          "output_type": "stream",
          "name": "stdout",
          "text": [
            "119\n"
          ]
        }
      ]
    },
    {
      "cell_type": "code",
      "metadata": {
        "id": "qAW_IimylHVY"
      },
      "source": [],
      "execution_count": 41,
      "outputs": []
    },
    {
      "cell_type": "markdown",
      "metadata": {
        "id": "cZA5kk1WlHVY"
      },
      "source": [
        "## Function: 1st Innings runs prediction "
      ]
    },
    {
      "cell_type": "code",
      "metadata": {
        "id": "74v6c_FRlHVY"
      },
      "source": [
        "def innings_1_runs(curr_score, curr_wickets, curr_overs):\n",
        "    # initialize\n",
        "    pred_runs = curr_score\n",
        "    pred_wks = curr_wickets\n",
        "    over_ball = curr_overs\n",
        "\n",
        "    over_no = int(str(over_ball).split('.')[0])\n",
        "    ball_no = int(str(over_ball).split('.')[1])\n",
        "\n",
        "    leftover_balls = 120 - (over_no*6 + ball_no)\n",
        "\n",
        "    i1p_0 = t1_pb_ls[0]\n",
        "    i1p_1 = t1_pb_ls[1]\n",
        "    i1p_2 = t1_pb_ls[2]\n",
        "    i1p_3 = t1_pb_ls[3]\n",
        "    i1p_4 = t1_pb_ls[4]\n",
        "    i1p_6 = t1_pb_ls[5]\n",
        "    i1p_w = t1_pb_ls[6]\n",
        "\n",
        "    i2p_0 = t2_pb_ls[0]\n",
        "    i2p_1 = t2_pb_ls[1]\n",
        "    i2p_2 = t2_pb_ls[2]\n",
        "    i2p_3 = t2_pb_ls[3]\n",
        "    i2p_4 = t2_pb_ls[4]\n",
        "    i2p_6 = t2_pb_ls[5]\n",
        "    i2p_w = t2_pb_ls[6]\n",
        "\n",
        "    for i in range(leftover_balls):\n",
        "        r_value = np.random.random()\n",
        "\n",
        "        if r_value <= i1p_0:\n",
        "            pred_runs += 0\n",
        "        elif r_value <= i1p_1:\n",
        "            pred_runs += 1\n",
        "        elif r_value <= i1p_2:\n",
        "            pred_runs += 2\n",
        "        elif r_value <= i1p_3:\n",
        "            pred_runs += 3\n",
        "        elif r_value <= i1p_4:\n",
        "            pred_runs += 4\n",
        "        elif r_value <= i1p_6:\n",
        "            pred_runs += 6\n",
        "        else:\n",
        "            pred_runs += 0\n",
        "            pred_wks += 1   \n",
        "\n",
        "            if pred_wks == 10:\n",
        "                break\n",
        "                \n",
        "    return pred_runs"
      ],
      "execution_count": 42,
      "outputs": []
    },
    {
      "cell_type": "code",
      "metadata": {
        "id": "q-uGsZmMlHVY",
        "colab": {
          "base_uri": "https://localhost:8080/"
        },
        "outputId": "350c486b-95da-4e7b-d31b-51ab6afe5f2e"
      },
      "source": [
        "# innings_1_runs(curr_score, curr_wickets, curr_overs)\n",
        "innings_1_runs(140, 9, 15.0)"
      ],
      "execution_count": 43,
      "outputs": [
        {
          "output_type": "execute_result",
          "data": {
            "text/plain": [
              "149"
            ]
          },
          "metadata": {},
          "execution_count": 43
        }
      ]
    },
    {
      "cell_type": "code",
      "metadata": {
        "id": "dcG5KucllHVZ"
      },
      "source": [],
      "execution_count": 43,
      "outputs": []
    },
    {
      "cell_type": "code",
      "metadata": {
        "id": "LvwHb9J0lHVZ"
      },
      "source": [],
      "execution_count": 43,
      "outputs": []
    },
    {
      "cell_type": "code",
      "metadata": {
        "id": "KVnbr5z-lHVZ"
      },
      "source": [],
      "execution_count": 43,
      "outputs": []
    },
    {
      "cell_type": "code",
      "metadata": {
        "id": "ELyXDqU7lHVZ"
      },
      "source": [],
      "execution_count": 43,
      "outputs": []
    },
    {
      "cell_type": "markdown",
      "metadata": {
        "id": "7sDi0AJ-lHVa"
      },
      "source": [
        "## Function: 2nd Innings runs prediction "
      ]
    },
    {
      "cell_type": "code",
      "metadata": {
        "id": "Xf4SNNaAlHVa"
      },
      "source": [
        "def innings_2_runs(curr_score, curr_wickets, curr_overs, target):\n",
        "    # initialize\n",
        "    pred_runs = curr_score\n",
        "    pred_wks = curr_wickets\n",
        "    over_ball = curr_overs\n",
        "\n",
        "    over_no = int(str(over_ball).split('.')[0])\n",
        "    ball_no = int(str(over_ball).split('.')[1])\n",
        "\n",
        "    leftover_balls = 120 - (over_no*6 + ball_no)\n",
        "\n",
        "    i2p_0 = t2_pb_ls[0]\n",
        "    i2p_1 = t2_pb_ls[1]\n",
        "    i2p_2 = t2_pb_ls[2]\n",
        "    i2p_3 = t2_pb_ls[3]\n",
        "    i2p_4 = t2_pb_ls[4]\n",
        "    i2p_6 = t2_pb_ls[5]\n",
        "    i2p_w = t2_pb_ls[6]\n",
        "\n",
        "    for i in range(leftover_balls):\n",
        "        r_value = np.random.random()\n",
        "\n",
        "        if r_value <= i2p_0:\n",
        "            pred_runs += 0\n",
        "        elif r_value <= i2p_1:\n",
        "            pred_runs += 1\n",
        "        elif r_value <= i2p_2:\n",
        "            pred_runs += 2\n",
        "        elif r_value <= i2p_3:\n",
        "            pred_runs += 3\n",
        "        elif r_value <= i2p_4:\n",
        "            pred_runs += 4\n",
        "        elif r_value <= i2p_6:\n",
        "            pred_runs += 6\n",
        "        else:\n",
        "            pred_runs += 0\n",
        "            pred_wks += 1   \n",
        "\n",
        "            if pred_wks == 10:\n",
        "                break\n",
        "        if pred_runs > target:\n",
        "            break\n",
        "                \n",
        "    return pred_runs"
      ],
      "execution_count": 44,
      "outputs": []
    },
    {
      "cell_type": "code",
      "metadata": {
        "id": "5oR0w6LDlHVa",
        "colab": {
          "base_uri": "https://localhost:8080/"
        },
        "outputId": "4c9c8c46-4914-49a6-fba5-f3d8ec8de10d"
      },
      "source": [
        "# innings_2_runs(curr_score, curr_wickets, curr_overs, target)\n",
        "innings_2_runs(140, 4, 19.0, 150)"
      ],
      "execution_count": 45,
      "outputs": [
        {
          "output_type": "execute_result",
          "data": {
            "text/plain": [
              "144"
            ]
          },
          "metadata": {},
          "execution_count": 45
        }
      ]
    },
    {
      "cell_type": "code",
      "metadata": {
        "id": "HfQeoFCHlHVa"
      },
      "source": [
        "df_ing1 = mdf[mdf.innings == 1] \n",
        "df_ing2 = mdf[mdf.innings == 2] "
      ],
      "execution_count": 46,
      "outputs": []
    },
    {
      "cell_type": "code",
      "metadata": {
        "id": "NtSiDYx6lHVa",
        "colab": {
          "base_uri": "https://localhost:8080/",
          "height": 113
        },
        "outputId": "fd6d36dd-6932-48e1-b1b9-d99d711be380"
      },
      "source": [
        "df_ing2.head(2)"
      ],
      "execution_count": 47,
      "outputs": [
        {
          "output_type": "execute_result",
          "data": {
            "text/plain": [
              "Empty DataFrame\n",
              "Columns: [match_id, season, start_date, venue, innings, ball, batting_team, bowling_team, striker, non_striker, bowler, runs_off_bat, extras, wides, noballs, byes, legbyes, penalty, wicket_type, player_dismissed, other_wicket_type, other_player_dismissed, total_runs, isOut]\n",
              "Index: []"
            ],
            "text/html": [
              "\n",
              "  <div id=\"df-3c938f72-e306-4f26-abbc-67bbffecdb94\">\n",
              "    <div class=\"colab-df-container\">\n",
              "      <div>\n",
              "<style scoped>\n",
              "    .dataframe tbody tr th:only-of-type {\n",
              "        vertical-align: middle;\n",
              "    }\n",
              "\n",
              "    .dataframe tbody tr th {\n",
              "        vertical-align: top;\n",
              "    }\n",
              "\n",
              "    .dataframe thead th {\n",
              "        text-align: right;\n",
              "    }\n",
              "</style>\n",
              "<table border=\"1\" class=\"dataframe\">\n",
              "  <thead>\n",
              "    <tr style=\"text-align: right;\">\n",
              "      <th></th>\n",
              "      <th>match_id</th>\n",
              "      <th>season</th>\n",
              "      <th>start_date</th>\n",
              "      <th>venue</th>\n",
              "      <th>innings</th>\n",
              "      <th>ball</th>\n",
              "      <th>batting_team</th>\n",
              "      <th>bowling_team</th>\n",
              "      <th>striker</th>\n",
              "      <th>non_striker</th>\n",
              "      <th>bowler</th>\n",
              "      <th>runs_off_bat</th>\n",
              "      <th>extras</th>\n",
              "      <th>wides</th>\n",
              "      <th>noballs</th>\n",
              "      <th>byes</th>\n",
              "      <th>legbyes</th>\n",
              "      <th>penalty</th>\n",
              "      <th>wicket_type</th>\n",
              "      <th>player_dismissed</th>\n",
              "      <th>other_wicket_type</th>\n",
              "      <th>other_player_dismissed</th>\n",
              "      <th>total_runs</th>\n",
              "      <th>isOut</th>\n",
              "    </tr>\n",
              "  </thead>\n",
              "  <tbody>\n",
              "  </tbody>\n",
              "</table>\n",
              "</div>\n",
              "      <button class=\"colab-df-convert\" onclick=\"convertToInteractive('df-3c938f72-e306-4f26-abbc-67bbffecdb94')\"\n",
              "              title=\"Convert this dataframe to an interactive table.\"\n",
              "              style=\"display:none;\">\n",
              "        \n",
              "  <svg xmlns=\"http://www.w3.org/2000/svg\" height=\"24px\"viewBox=\"0 0 24 24\"\n",
              "       width=\"24px\">\n",
              "    <path d=\"M0 0h24v24H0V0z\" fill=\"none\"/>\n",
              "    <path d=\"M18.56 5.44l.94 2.06.94-2.06 2.06-.94-2.06-.94-.94-2.06-.94 2.06-2.06.94zm-11 1L8.5 8.5l.94-2.06 2.06-.94-2.06-.94L8.5 2.5l-.94 2.06-2.06.94zm10 10l.94 2.06.94-2.06 2.06-.94-2.06-.94-.94-2.06-.94 2.06-2.06.94z\"/><path d=\"M17.41 7.96l-1.37-1.37c-.4-.4-.92-.59-1.43-.59-.52 0-1.04.2-1.43.59L10.3 9.45l-7.72 7.72c-.78.78-.78 2.05 0 2.83L4 21.41c.39.39.9.59 1.41.59.51 0 1.02-.2 1.41-.59l7.78-7.78 2.81-2.81c.8-.78.8-2.07 0-2.86zM5.41 20L4 18.59l7.72-7.72 1.47 1.35L5.41 20z\"/>\n",
              "  </svg>\n",
              "      </button>\n",
              "      \n",
              "  <style>\n",
              "    .colab-df-container {\n",
              "      display:flex;\n",
              "      flex-wrap:wrap;\n",
              "      gap: 12px;\n",
              "    }\n",
              "\n",
              "    .colab-df-convert {\n",
              "      background-color: #E8F0FE;\n",
              "      border: none;\n",
              "      border-radius: 50%;\n",
              "      cursor: pointer;\n",
              "      display: none;\n",
              "      fill: #1967D2;\n",
              "      height: 32px;\n",
              "      padding: 0 0 0 0;\n",
              "      width: 32px;\n",
              "    }\n",
              "\n",
              "    .colab-df-convert:hover {\n",
              "      background-color: #E2EBFA;\n",
              "      box-shadow: 0px 1px 2px rgba(60, 64, 67, 0.3), 0px 1px 3px 1px rgba(60, 64, 67, 0.15);\n",
              "      fill: #174EA6;\n",
              "    }\n",
              "\n",
              "    [theme=dark] .colab-df-convert {\n",
              "      background-color: #3B4455;\n",
              "      fill: #D2E3FC;\n",
              "    }\n",
              "\n",
              "    [theme=dark] .colab-df-convert:hover {\n",
              "      background-color: #434B5C;\n",
              "      box-shadow: 0px 1px 3px 1px rgba(0, 0, 0, 0.15);\n",
              "      filter: drop-shadow(0px 1px 2px rgba(0, 0, 0, 0.3));\n",
              "      fill: #FFFFFF;\n",
              "    }\n",
              "  </style>\n",
              "\n",
              "      <script>\n",
              "        const buttonEl =\n",
              "          document.querySelector('#df-3c938f72-e306-4f26-abbc-67bbffecdb94 button.colab-df-convert');\n",
              "        buttonEl.style.display =\n",
              "          google.colab.kernel.accessAllowed ? 'block' : 'none';\n",
              "\n",
              "        async function convertToInteractive(key) {\n",
              "          const element = document.querySelector('#df-3c938f72-e306-4f26-abbc-67bbffecdb94');\n",
              "          const dataTable =\n",
              "            await google.colab.kernel.invokeFunction('convertToInteractive',\n",
              "                                                     [key], {});\n",
              "          if (!dataTable) return;\n",
              "\n",
              "          const docLinkHtml = 'Like what you see? Visit the ' +\n",
              "            '<a target=\"_blank\" href=https://colab.research.google.com/notebooks/data_table.ipynb>data table notebook</a>'\n",
              "            + ' to learn more about interactive tables.';\n",
              "          element.innerHTML = '';\n",
              "          dataTable['output_type'] = 'display_data';\n",
              "          await google.colab.output.renderOutput(dataTable, element);\n",
              "          const docLink = document.createElement('div');\n",
              "          docLink.innerHTML = docLinkHtml;\n",
              "          element.appendChild(docLink);\n",
              "        }\n",
              "      </script>\n",
              "    </div>\n",
              "  </div>\n",
              "  "
            ]
          },
          "metadata": {},
          "execution_count": 47
        }
      ]
    },
    {
      "cell_type": "code",
      "metadata": {
        "id": "ykFHjIXClHVb"
      },
      "source": [
        "df_ing1 = df_ing1.sort_values('ball', ascending = True)\n",
        "df_ing2 = df_ing2.sort_values('ball', ascending = True)"
      ],
      "execution_count": 48,
      "outputs": []
    },
    {
      "cell_type": "code",
      "metadata": {
        "id": "sr9K_7GTlHVb"
      },
      "source": [
        "df_ing1.reset_index(inplace = True, drop = True)\n",
        "df_ing2.reset_index(inplace = True, drop = True)"
      ],
      "execution_count": 49,
      "outputs": []
    },
    {
      "cell_type": "code",
      "metadata": {
        "id": "N2AIlz9ElHVb"
      },
      "source": [],
      "execution_count": 49,
      "outputs": []
    },
    {
      "cell_type": "markdown",
      "metadata": {
        "id": "rnf2L0bqlHVb"
      },
      "source": [
        "## Runs prediction: 1st Innings"
      ]
    },
    {
      "cell_type": "code",
      "metadata": {
        "id": "Lnx5X-QalHVb"
      },
      "source": [
        "curr_score = 0\n",
        "curr_wickets = 0\n",
        "curr_overs = 0.0\n",
        "\n",
        "ing1_runs_pred = []\n",
        "\n",
        "for i in range(len(df_ing1)):\n",
        "    curr_score += df_ing1.total_runs[i]\n",
        "    curr_wickets += df_ing1.isOut[i]\n",
        "    curr_overs = df_ing1.ball[i]\n",
        "    \n",
        "    prediction = innings_1_runs(curr_score, curr_wickets, curr_overs)\n",
        "    ing1_runs_pred.append(prediction)"
      ],
      "execution_count": 50,
      "outputs": []
    },
    {
      "cell_type": "code",
      "metadata": {
        "id": "tPUwxbnklHVb"
      },
      "source": [
        "# ing1_runs_pred"
      ],
      "execution_count": 51,
      "outputs": []
    },
    {
      "cell_type": "code",
      "metadata": {
        "id": "E6-91_6HlHVc",
        "colab": {
          "base_uri": "https://localhost:8080/"
        },
        "outputId": "0904439f-6f64-44b2-e19a-d13aec6be840"
      },
      "source": [
        "sum(df_ing1.total_runs)"
      ],
      "execution_count": 52,
      "outputs": [
        {
          "output_type": "execute_result",
          "data": {
            "text/plain": [
              "0"
            ]
          },
          "metadata": {},
          "execution_count": 52
        }
      ]
    },
    {
      "cell_type": "code",
      "metadata": {
        "id": "DjtleY_ulHVc"
      },
      "source": [
        "actual_score = sum(df_ing1.total_runs)"
      ],
      "execution_count": 53,
      "outputs": []
    },
    {
      "cell_type": "code",
      "metadata": {
        "id": "5w4jqF7blHVc",
        "colab": {
          "base_uri": "https://localhost:8080/",
          "height": 406
        },
        "outputId": "dd5e4702-ad2b-4f72-cef7-848b7d9f0100"
      },
      "source": [
        "x_values = [i for i in range(len(df_ing1))]\n",
        "y_values = ing1_runs_pred\n",
        "\n",
        "plt.figure(figsize = (16, 6))\n",
        "plt.scatter(x_values, y_values, color = 'r', alpha = 0.5, label = 'pred')\n",
        "plt.axhline(actual_score, ls = '--', color = 'g', label = 'actual')\n",
        "plt.ylim(0, actual_score + 40 )\n",
        "plt.title('First Innings - Runs Prediction :'+ str(actual_score), fontsize = 16)\n",
        "plt.xlabel('Ball No')\n",
        "plt.ylabel('Runs')\n",
        "plt.legend()\n",
        "plt.show()"
      ],
      "execution_count": 54,
      "outputs": [
        {
          "output_type": "display_data",
          "data": {
            "text/plain": [
              "<Figure size 1152x432 with 1 Axes>"
            ],
            "image/png": "[encoded data removed]"
          },
          "metadata": {
            "needs_background": "light"
          }
        }
      ]
    },
    {
      "cell_type": "code",
      "metadata": {
        "id": "uCb6_HOGlHVc"
      },
      "source": [
        "error_ing1_ls = [abs(i - actual_score) for i in ing1_runs_pred]"
      ],
      "execution_count": 55,
      "outputs": []
    },
    {
      "cell_type": "code",
      "metadata": {
        "id": "fE-SUTv_lHVc",
        "colab": {
          "base_uri": "https://localhost:8080/"
        },
        "outputId": "07ed3a09-8264-4f29-9041-f3a324c14aca"
      },
      "source": [
        "np.mean(error_ing1_ls)"
      ],
      "execution_count": 56,
      "outputs": [
        {
          "output_type": "execute_result",
          "data": {
            "text/plain": [
              "nan"
            ]
          },
          "metadata": {},
          "execution_count": 56
        }
      ]
    },
    {
      "cell_type": "markdown",
      "metadata": {
        "id": "Inyd0fB9lHVd"
      },
      "source": [
        "## Runs prediction: 2nd Innings"
      ]
    },
    {
      "cell_type": "code",
      "metadata": {
        "id": "nv-HzJmvlHVd"
      },
      "source": [
        "# define target as ing 1 actual score\n",
        "ing1_actual_score = actual_score \n",
        "target = ing1_actual_score\n",
        "\n",
        "curr_score = 0\n",
        "curr_wickets = 0\n",
        "curr_overs = 0.0\n",
        "\n",
        "ing2_runs_pred = []\n",
        "\n",
        "for i in range(len(df_ing2)):\n",
        "    curr_score += df_ing2.total_runs[i]\n",
        "    curr_overs = df_ing2.ball[i]\n",
        "    curr_wickets += df_ing2.isOut[i]\n",
        "    \n",
        "    prediction = innings_2_runs(curr_score, curr_wickets, curr_overs, target)\n",
        "#     print('target: ', target)\n",
        "#     print('score: ', curr_score, ' overs: ', curr_overs, ' wickets: ', curr_wickets, ' prediction: ', prediction)\n",
        "    ing2_runs_pred.append(prediction)"
      ],
      "execution_count": 57,
      "outputs": []
    },
    {
      "cell_type": "code",
      "metadata": {
        "id": "yTE0q82mlHVd"
      },
      "source": [
        "ing2_actual_score = sum(df_ing2.total_runs)"
      ],
      "execution_count": 58,
      "outputs": []
    },
    {
      "cell_type": "markdown",
      "metadata": {
        "id": "MdH-mOyQlHVd"
      },
      "source": [
        "## Runs prediction chart: 2nd Innings"
      ]
    },
    {
      "cell_type": "code",
      "metadata": {
        "id": "xo7AkC-_lHVd",
        "colab": {
          "base_uri": "https://localhost:8080/",
          "height": 406
        },
        "outputId": "49830c97-4591-4eda-f8bb-098da433d00e"
      },
      "source": [
        "plt.figure(figsize = (16, 6))\n",
        "plt.scatter([i for i in range(len(ing2_runs_pred))], ing2_runs_pred, alpha = 0.5, label = 'pred', color = 'red')\n",
        "plt.ylim(0, ing2_actual_score + 30)\n",
        "plt.axhline(ing2_actual_score, ls = '--', label = 'actual', color = 'green')\n",
        "plt.title('Second Innings Runs - Prediction vs Actual (' + t2 + ': ' + str(ing2_actual_score) +  ')', fontsize = 16)\n",
        "plt.xlabel('Ball No')\n",
        "plt.ylabel('Runs')\n",
        "plt.legend()\n",
        "plt.show()"
      ],
      "execution_count": 59,
      "outputs": [
        {
          "output_type": "display_data",
          "data": {
            "text/plain": [
              "<Figure size 1152x432 with 1 Axes>"
            ],
            "image/png": "[encoded data removed]"
          },
          "metadata": {
            "needs_background": "light"
          }
        }
      ]
    },
    {
      "cell_type": "markdown",
      "metadata": {
        "id": "QYeY37RLlHVd"
      },
      "source": [
        "### Error in 2nd Innings runs:"
      ]
    },
    {
      "cell_type": "code",
      "metadata": {
        "id": "ChOowwd0lHVe",
        "colab": {
          "base_uri": "https://localhost:8080/"
        },
        "outputId": "cb7e01ec-96c0-4af9-8969-566081214cab"
      },
      "source": [
        "np.mean([abs(i - ing2_actual_score) for i in ing2_runs_pred])"
      ],
      "execution_count": 60,
      "outputs": [
        {
          "output_type": "execute_result",
          "data": {
            "text/plain": [
              "nan"
            ]
          },
          "metadata": {},
          "execution_count": 60
        }
      ]
    },
    {
      "cell_type": "code",
      "metadata": {
        "id": "C64DU5nSlHVe"
      },
      "source": [],
      "execution_count": 60,
      "outputs": []
    },
    {
      "cell_type": "code",
      "metadata": {
        "id": "_3Ber-0qlHVe"
      },
      "source": [],
      "execution_count": 60,
      "outputs": []
    },
    {
      "cell_type": "code",
      "metadata": {
        "id": "eHRJz46zlHVe"
      },
      "source": [],
      "execution_count": 60,
      "outputs": []
    },
    {
      "cell_type": "markdown",
      "metadata": {
        "id": "2zh23SjglHVe"
      },
      "source": [
        "## Win predictions: 1st Innings"
      ]
    },
    {
      "cell_type": "code",
      "metadata": {
        "id": "JhIgsTzxlHVe"
      },
      "source": [
        "# initialize win/tie/lose - w.r.t chasing team\n",
        "win_count = 0\n",
        "tie_count = 0\n",
        "lose_count = 0\n",
        "\n",
        "win_count_ls = []\n",
        "tie_count_ls = []\n",
        "lose_count_ls = []\n",
        "\n",
        "ing1_curr_score = 0\n",
        "ing1_curr_overs = 0\n",
        "ing1_curr_wickets = 0\n",
        "\n",
        "# each ball\n",
        "for i in range(len(df_ing1)):\n",
        "    \n",
        "    # 1st innings values\n",
        "    ing1_curr_score += df_ing1.total_runs[i]\n",
        "    ing1_curr_overs = df_ing1.ball[i]\n",
        "    ing1_curr_wickets += df_ing1.isOut[i]\n",
        "    \n",
        "    #2nd innings values\n",
        "    ing2_curr_score = 0\n",
        "    ing2_curr_wickets = 0\n",
        "    ing2_curr_overs = 0.0\n",
        "    \n",
        "    # 100 iterations: (ex: 43% wins, 17% tie, 40% lose)\n",
        "    for j in range(100):   \n",
        "        ing1_runs_prediction = innings_1_runs(ing1_curr_score, ing1_curr_wickets, ing1_curr_overs)\n",
        "        target = ing1_runs_prediction\n",
        "        \n",
        "        ing2_runs_prediction = innings_2_runs(ing2_curr_score, ing2_curr_wickets, ing2_curr_overs, target)\n",
        "        \n",
        "        if ing2_runs_prediction > target:\n",
        "            win_count += 1\n",
        "        elif ing2_runs_prediction == target:\n",
        "            tie_count += 1\n",
        "        else:\n",
        "            lose_count += 1\n",
        "            \n",
        "    win_count_ls.append(win_count)\n",
        "    tie_count_ls.append(tie_count)\n",
        "    lose_count_ls.append(lose_count)\n",
        "    \n",
        "    win_count = 0\n",
        "    tie_count = 0\n",
        "    lose_count = 0"
      ],
      "execution_count": 61,
      "outputs": []
    },
    {
      "cell_type": "code",
      "metadata": {
        "id": "5B4Jli_KlHVf"
      },
      "source": [
        "# tie_count_ls"
      ],
      "execution_count": 62,
      "outputs": []
    },
    {
      "cell_type": "code",
      "metadata": {
        "id": "Yx2UFhiDlHVf"
      },
      "source": [],
      "execution_count": 62,
      "outputs": []
    },
    {
      "cell_type": "markdown",
      "metadata": {
        "id": "wdKjpkdZlHVf"
      },
      "source": [
        "## Win predictions: 2nd Innings"
      ]
    },
    {
      "cell_type": "code",
      "metadata": {
        "id": "dmXMyfoylHVf"
      },
      "source": [
        "#2nd innings values\n",
        "ing2_curr_score = 0\n",
        "ing2_curr_wickets = 0\n",
        "ing2_curr_overs = 0.0\n",
        "target = ing1_actual_score\n",
        "\n",
        "# each ball\n",
        "for i in range(len(df_ing2)):\n",
        "    \n",
        "    #2nd innings values\n",
        "    ing2_curr_score += df_ing2.total_runs[i]\n",
        "    ing2_curr_wickets += df_ing2.isOut[i]\n",
        "    ing2_curr_overs = df_ing2.ball[i]\n",
        "    \n",
        "    # 100 iterations: (ex: 43% wins, 17% tie, 40% lose)\n",
        "    for j in range(100):   \n",
        "                \n",
        "        ing2_runs_prediction = innings_2_runs(ing2_curr_score, ing2_curr_wickets, ing2_curr_overs, target)\n",
        "        \n",
        "        if ing2_runs_prediction > target:\n",
        "            win_count += 1\n",
        "        elif ing2_runs_prediction == target:\n",
        "            tie_count += 1\n",
        "        else:\n",
        "            lose_count += 1\n",
        "            \n",
        "    win_count_ls.append(win_count)\n",
        "    tie_count_ls.append(tie_count)\n",
        "    lose_count_ls.append(lose_count)\n",
        "    \n",
        "    win_count = 0\n",
        "    tie_count = 0\n",
        "    lose_count = 0"
      ],
      "execution_count": 63,
      "outputs": []
    },
    {
      "cell_type": "code",
      "metadata": {
        "id": "4dK6qI3KlHVf",
        "colab": {
          "base_uri": "https://localhost:8080/"
        },
        "outputId": "fb2013c1-ce34-459a-8f63-cecad084bee2"
      },
      "source": [
        "len(win_count_ls), len(tie_count_ls), len(lose_count_ls)"
      ],
      "execution_count": 64,
      "outputs": [
        {
          "output_type": "execute_result",
          "data": {
            "text/plain": [
              "(0, 0, 0)"
            ]
          },
          "metadata": {},
          "execution_count": 64
        }
      ]
    },
    {
      "cell_type": "code",
      "metadata": {
        "id": "CJ1Ieo8KlHVg",
        "colab": {
          "base_uri": "https://localhost:8080/",
          "height": 406
        },
        "outputId": "d0e7a927-74db-4fa0-f3d4-b525303fc04f"
      },
      "source": [
        "plt.figure(figsize = (16, 6))\n",
        "\n",
        "x1_values = [i for i in range(len(win_count_ls))]\n",
        "y1_values = win_count_ls\n",
        "\n",
        "x2_values = [i for i in range(len(tie_count_ls))]\n",
        "y2_values = tie_count_ls\n",
        "\n",
        "x3_values = [i for i in range(len(lose_count_ls))]\n",
        "y3_values = lose_count_ls\n",
        "\n",
        "for i in range(10, len(mdf), 20):\n",
        "    if i < len(mdf) - 10:\n",
        "        plt.axvspan(i, i+10, ymin = 0, ymax = 100, alpha = 0.05, color='grey')\n",
        "        \n",
        "plt.axhline(y = 75, ls = '--', alpha = 0.3, c = 'grey')\n",
        "plt.axhline(y = 50, ls = '--', alpha = 1, c = 'grey')\n",
        "plt.axhline(y = 25, ls = '--', alpha = 0.3, c = 'grey')\n",
        "\n",
        "plt.plot(x1_values, y1_values, color = 'orange', label = t2)\n",
        "plt.plot(x2_values, y2_values, color = 'grey', label = 'Tie Value')\n",
        "plt.plot(x3_values, y3_values, color = 'blue', label = t1)\n",
        "\n",
        "plt.ylim(0, 100)\n",
        "plt.yticks([0, 25, 50, 75, 100])\n",
        "\n",
        "\n",
        "# add confidence interval\n",
        "# ci = 3\n",
        "# plt.fill_between(x1_values, np.array(y1_values) - ci, np.array(y1_values) + ci, color = 'orange', alpha = 0.2 )\n",
        "# plt.fill_between(x2_values, np.array(y2_values) - ci, np.array(y2_values) + ci, color = 'grey', alpha = 0.2 )\n",
        "# plt.fill_between(x3_values, np.array(y3_values) - ci, np.array(y3_values) + ci, color = 'blue', alpha = 0.2 )\n",
        "\n",
        "plt.title('Win Percentage Chart: ' + t1 + ' vs ' + t2, fontsize = 16)\n",
        "plt.xlabel('Ball No')\n",
        "plt.ylabel('Win %')\n",
        "plt.legend()\n",
        "plt.show()"
      ],
      "execution_count": 65,
      "outputs": [
        {
          "output_type": "display_data",
          "data": {
            "text/plain": [
              "<Figure size 1152x432 with 1 Axes>"
            ],
            "image/png": "[encoded data removed]"
          },
          "metadata": {
            "needs_background": "light"
          }
        }
      ]
    },
    {
      "cell_type": "code",
      "metadata": {
        "id": "XdWR4XDImMqi"
      },
      "source": [],
      "execution_count": 65,
      "outputs": []
    }
  ]
}